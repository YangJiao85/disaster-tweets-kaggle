{
  "nbformat": 4,
  "nbformat_minor": 0,
  "metadata": {
    "kernelspec": {
      "display_name": "Python 3",
      "language": "python",
      "name": "python3"
    },
    "language_info": {
      "codemirror_mode": {
        "name": "ipython",
        "version": 3
      },
      "file_extension": ".py",
      "mimetype": "text/x-python",
      "name": "python",
      "nbconvert_exporter": "python",
      "pygments_lexer": "ipython3",
      "version": "3.6.6"
    },
    "colab": {
      "name": "disaster-tweets-getting-started.ipynb",
      "provenance": [],
      "collapsed_sections": [],
      "include_colab_link": true
    }
  },
  "cells": [
    {
      "cell_type": "markdown",
      "metadata": {
        "id": "view-in-github",
        "colab_type": "text"
      },
      "source": [
        "<a href=\"https://colab.research.google.com/github/YangJiao85/disaster-tweets-kaggle/blob/master/disaster_tweets_getting_started.ipynb\" target=\"_parent\"><img src=\"https://colab.research.google.com/assets/colab-badge.svg\" alt=\"Open In Colab\"/></a>"
      ]
    },
    {
      "cell_type": "markdown",
      "metadata": {
        "id": "jf0wHWaijE31",
        "colab_type": "text"
      },
      "source": [
        "# Real or Not? NLP with Disaster Tweets\n",
        "\n",
        "In the dataset 10,000 tweets were hand classified. "
      ]
    },
    {
      "cell_type": "markdown",
      "metadata": {
        "id": "8XNTv_GE1bUg",
        "colab_type": "text"
      },
      "source": [
        "## Set up\n",
        "\n",
        "Set up Kaggle environment and essential modules."
      ]
    },
    {
      "cell_type": "code",
      "metadata": {
        "_cell_guid": "b1076dfc-b9ad-4769-8c92-a6c4dae69d19",
        "_uuid": "8f2839f25d086af736a60e9eeb907d3b93b6e0e5",
        "id": "Tj2T7FbwjE32",
        "colab_type": "code",
        "colab": {
          "base_uri": "https://localhost:8080/",
          "height": 73
        },
        "outputId": "17a4d5a5-a003-4165-e76a-0e97384ec04c"
      },
      "source": [
        "# Load essential modules\n",
        "\n",
        "import numpy as np # linear algebra\n",
        "import pandas as pd # data processing, CSV file I/O (e.g. pd.read_csv)\n",
        "import os\n",
        "\n",
        "import matplotlib.pyplot as plt\n",
        "%matplotlib inline\n",
        "import seaborn as sns\n",
        "sns.set(style=\"whitegrid\")\n",
        "\n",
        "import re\n",
        "from IPython.core.display import HTML"
      ],
      "execution_count": 1,
      "outputs": [
        {
          "output_type": "stream",
          "text": [
            "/usr/local/lib/python3.6/dist-packages/statsmodels/tools/_testing.py:19: FutureWarning: pandas.util.testing is deprecated. Use the functions in the public API at pandas.testing instead.\n",
            "  import pandas.util.testing as tm\n"
          ],
          "name": "stderr"
        }
      ]
    },
    {
      "cell_type": "code",
      "metadata": {
        "id": "1dO2qwosj0sc",
        "colab_type": "code",
        "outputId": "9b3d32ca-0632-4781-a0eb-186563e48980",
        "colab": {
          "base_uri": "https://localhost:8080/",
          "height": 341
        }
      },
      "source": [
        "# Google colab Kaggle setting\n",
        "\n",
        "os.environ['KAGGLE_USERNAME'] = # \"xxxxxx\" # username from the json file\n",
        "os.environ['KAGGLE_KEY'] =      # \"xxxxxxxxxxxxxxxxxxxxxxxxxxxx\" # key from the json file\n",
        "\n",
        "! kaggle competitions download -c 'nlp-getting-started'\n",
        "! ls -la /content\n",
        "\n",
        "i_dir = \"/content/\"\n",
        "o_dir = \"/content/\"\n",
        "# if kaggle\n",
        "# i_dir = \"/kaggle/input/nlp-getting-started/\"\n",
        "# o_dir = \"/kaggle/working/\""
      ],
      "execution_count": 2,
      "outputs": [
        {
          "output_type": "stream",
          "text": [
            "Warning: Looks like you're using an outdated API Version, please consider updating (server 1.5.6 / client 1.5.4)\n",
            "Downloading test.csv to /content\n",
            "  0% 0.00/411k [00:00<?, ?B/s]\n",
            "100% 411k/411k [00:00<00:00, 58.7MB/s]\n",
            "Downloading train.csv to /content\n",
            "  0% 0.00/965k [00:00<?, ?B/s]\n",
            "100% 965k/965k [00:00<00:00, 64.3MB/s]\n",
            "Downloading sample_submission.csv to /content\n",
            "  0% 0.00/22.2k [00:00<?, ?B/s]\n",
            "100% 22.2k/22.2k [00:00<00:00, 22.7MB/s]\n",
            "total 1420\n",
            "drwxr-xr-x 1 root root   4096 May  2 18:39 .\n",
            "drwxr-xr-x 1 root root   4096 May  2 18:38 ..\n",
            "drwxr-xr-x 1 root root   4096 Apr 29 16:14 .config\n",
            "drwxr-xr-x 1 root root   4096 Apr  3 16:24 sample_data\n",
            "-rw-r--r-- 1 root root  22746 May  2 18:39 sample_submission.csv\n",
            "-rw-r--r-- 1 root root 420783 May  2 18:39 test.csv\n",
            "-rw-r--r-- 1 root root 987712 May  2 18:39 train.csv\n"
          ],
          "name": "stdout"
        }
      ]
    },
    {
      "cell_type": "markdown",
      "metadata": {
        "id": "SwME4OsFjE4B",
        "colab_type": "text"
      },
      "source": [
        "\n",
        "## EDA and data preproccessing\n"
      ]
    },
    {
      "cell_type": "markdown",
      "metadata": {
        "id": "zlHBFid9WvT-",
        "colab_type": "text"
      },
      "source": [
        "### An quick view of the data"
      ]
    },
    {
      "cell_type": "code",
      "metadata": {
        "id": "a9CDz9yfjE4B",
        "colab_type": "code",
        "outputId": "1dcf2aa7-91f9-4401-f3dc-44ca51d88b42",
        "colab": {
          "base_uri": "https://localhost:8080/",
          "height": 240
        }
      },
      "source": [
        "# load data\n",
        "df_train = pd.read_csv(i_dir + '/train.csv')\n",
        "\n",
        "print(\"This train dataset has {} entries and {} columns.\".format(\n",
        "    df_train.shape[0], df_train.shape[1]))\n",
        "print(\"Features: \")\n",
        "df_train_summary = pd.DataFrame( data = {\n",
        "                     'dtype': df_train.dtypes.values,\n",
        "                     'nunique': df_train.nunique()},\n",
        "                     index = df_train.dtypes.index\n",
        "                  )\n",
        "\n",
        "df_train_summary"
      ],
      "execution_count": 3,
      "outputs": [
        {
          "output_type": "stream",
          "text": [
            "This train dataset has 7613 entries and 5 columns.\n",
            "Features: \n"
          ],
          "name": "stdout"
        },
        {
          "output_type": "execute_result",
          "data": {
            "text/html": [
              "<div>\n",
              "<style scoped>\n",
              "    .dataframe tbody tr th:only-of-type {\n",
              "        vertical-align: middle;\n",
              "    }\n",
              "\n",
              "    .dataframe tbody tr th {\n",
              "        vertical-align: top;\n",
              "    }\n",
              "\n",
              "    .dataframe thead th {\n",
              "        text-align: right;\n",
              "    }\n",
              "</style>\n",
              "<table border=\"1\" class=\"dataframe\">\n",
              "  <thead>\n",
              "    <tr style=\"text-align: right;\">\n",
              "      <th></th>\n",
              "      <th>dtype</th>\n",
              "      <th>nunique</th>\n",
              "    </tr>\n",
              "  </thead>\n",
              "  <tbody>\n",
              "    <tr>\n",
              "      <th>id</th>\n",
              "      <td>int64</td>\n",
              "      <td>7613</td>\n",
              "    </tr>\n",
              "    <tr>\n",
              "      <th>keyword</th>\n",
              "      <td>object</td>\n",
              "      <td>221</td>\n",
              "    </tr>\n",
              "    <tr>\n",
              "      <th>location</th>\n",
              "      <td>object</td>\n",
              "      <td>3341</td>\n",
              "    </tr>\n",
              "    <tr>\n",
              "      <th>text</th>\n",
              "      <td>object</td>\n",
              "      <td>7503</td>\n",
              "    </tr>\n",
              "    <tr>\n",
              "      <th>target</th>\n",
              "      <td>int64</td>\n",
              "      <td>2</td>\n",
              "    </tr>\n",
              "  </tbody>\n",
              "</table>\n",
              "</div>"
            ],
            "text/plain": [
              "           dtype  nunique\n",
              "id         int64     7613\n",
              "keyword   object      221\n",
              "location  object     3341\n",
              "text      object     7503\n",
              "target     int64        2"
            ]
          },
          "metadata": {
            "tags": []
          },
          "execution_count": 3
        }
      ]
    },
    {
      "cell_type": "code",
      "metadata": {
        "id": "UVy5ubXCOmdT",
        "colab_type": "code",
        "outputId": "a7b27688-1b34-4b27-b3b1-6a71055af353",
        "colab": {
          "base_uri": "https://localhost:8080/",
          "height": 204
        }
      },
      "source": [
        "display(HTML(df_train.head().to_html()))"
      ],
      "execution_count": 4,
      "outputs": [
        {
          "output_type": "display_data",
          "data": {
            "text/html": [
              "<table border=\"1\" class=\"dataframe\">\n",
              "  <thead>\n",
              "    <tr style=\"text-align: right;\">\n",
              "      <th></th>\n",
              "      <th>id</th>\n",
              "      <th>keyword</th>\n",
              "      <th>location</th>\n",
              "      <th>text</th>\n",
              "      <th>target</th>\n",
              "    </tr>\n",
              "  </thead>\n",
              "  <tbody>\n",
              "    <tr>\n",
              "      <th>0</th>\n",
              "      <td>1</td>\n",
              "      <td>NaN</td>\n",
              "      <td>NaN</td>\n",
              "      <td>Our Deeds are the Reason of this #earthquake May ALLAH Forgive us all</td>\n",
              "      <td>1</td>\n",
              "    </tr>\n",
              "    <tr>\n",
              "      <th>1</th>\n",
              "      <td>4</td>\n",
              "      <td>NaN</td>\n",
              "      <td>NaN</td>\n",
              "      <td>Forest fire near La Ronge Sask. Canada</td>\n",
              "      <td>1</td>\n",
              "    </tr>\n",
              "    <tr>\n",
              "      <th>2</th>\n",
              "      <td>5</td>\n",
              "      <td>NaN</td>\n",
              "      <td>NaN</td>\n",
              "      <td>All residents asked to 'shelter in place' are being notified by officers. No other evacuation or shelter in place orders are expected</td>\n",
              "      <td>1</td>\n",
              "    </tr>\n",
              "    <tr>\n",
              "      <th>3</th>\n",
              "      <td>6</td>\n",
              "      <td>NaN</td>\n",
              "      <td>NaN</td>\n",
              "      <td>13,000 people receive #wildfires evacuation orders in California</td>\n",
              "      <td>1</td>\n",
              "    </tr>\n",
              "    <tr>\n",
              "      <th>4</th>\n",
              "      <td>7</td>\n",
              "      <td>NaN</td>\n",
              "      <td>NaN</td>\n",
              "      <td>Just got sent this photo from Ruby #Alaska as smoke from #wildfires pours into a school</td>\n",
              "      <td>1</td>\n",
              "    </tr>\n",
              "  </tbody>\n",
              "</table>"
            ],
            "text/plain": [
              "<IPython.core.display.HTML object>"
            ]
          },
          "metadata": {
            "tags": []
          }
        }
      ]
    },
    {
      "cell_type": "code",
      "metadata": {
        "id": "MWV-qzisFyvd",
        "colab_type": "code",
        "outputId": "24643f30-f021-4571-fe51-d286d025c71b",
        "colab": {
          "base_uri": "https://localhost:8080/",
          "height": 125
        }
      },
      "source": [
        "df_test = pd.read_csv(i_dir + '/test.csv')\n",
        "print(\"This test dataset has {} entries and {} columns.\".format(\n",
        "    df_test.shape[0], df_test.shape[1]))\n",
        "df_test.nunique()"
      ],
      "execution_count": 5,
      "outputs": [
        {
          "output_type": "stream",
          "text": [
            "This test dataset has 3263 entries and 4 columns.\n"
          ],
          "name": "stdout"
        },
        {
          "output_type": "execute_result",
          "data": {
            "text/plain": [
              "id          3263\n",
              "keyword      221\n",
              "location    1602\n",
              "text        3243\n",
              "dtype: int64"
            ]
          },
          "metadata": {
            "tags": []
          },
          "execution_count": 5
        }
      ]
    },
    {
      "cell_type": "code",
      "metadata": {
        "id": "fhlWDUNXIU7Y",
        "colab_type": "code",
        "outputId": "739a93d1-5ddf-4845-e95b-1f258f8b324d",
        "colab": {
          "base_uri": "https://localhost:8080/",
          "height": 204
        }
      },
      "source": [
        "df_sub = pd.read_csv(i_dir + 'sample_submission.csv')\n",
        "df_sub.head()"
      ],
      "execution_count": 6,
      "outputs": [
        {
          "output_type": "execute_result",
          "data": {
            "text/html": [
              "<div>\n",
              "<style scoped>\n",
              "    .dataframe tbody tr th:only-of-type {\n",
              "        vertical-align: middle;\n",
              "    }\n",
              "\n",
              "    .dataframe tbody tr th {\n",
              "        vertical-align: top;\n",
              "    }\n",
              "\n",
              "    .dataframe thead th {\n",
              "        text-align: right;\n",
              "    }\n",
              "</style>\n",
              "<table border=\"1\" class=\"dataframe\">\n",
              "  <thead>\n",
              "    <tr style=\"text-align: right;\">\n",
              "      <th></th>\n",
              "      <th>id</th>\n",
              "      <th>target</th>\n",
              "    </tr>\n",
              "  </thead>\n",
              "  <tbody>\n",
              "    <tr>\n",
              "      <th>0</th>\n",
              "      <td>0</td>\n",
              "      <td>0</td>\n",
              "    </tr>\n",
              "    <tr>\n",
              "      <th>1</th>\n",
              "      <td>2</td>\n",
              "      <td>0</td>\n",
              "    </tr>\n",
              "    <tr>\n",
              "      <th>2</th>\n",
              "      <td>3</td>\n",
              "      <td>0</td>\n",
              "    </tr>\n",
              "    <tr>\n",
              "      <th>3</th>\n",
              "      <td>9</td>\n",
              "      <td>0</td>\n",
              "    </tr>\n",
              "    <tr>\n",
              "      <th>4</th>\n",
              "      <td>11</td>\n",
              "      <td>0</td>\n",
              "    </tr>\n",
              "  </tbody>\n",
              "</table>\n",
              "</div>"
            ],
            "text/plain": [
              "   id  target\n",
              "0   0       0\n",
              "1   2       0\n",
              "2   3       0\n",
              "3   9       0\n",
              "4  11       0"
            ]
          },
          "metadata": {
            "tags": []
          },
          "execution_count": 6
        }
      ]
    },
    {
      "cell_type": "code",
      "metadata": {
        "id": "-tkPi1VDjE4E",
        "colab_type": "code",
        "outputId": "35455768-38d9-4871-c880-d549f709d287",
        "colab": {
          "base_uri": "https://localhost:8080/",
          "height": 285
        }
      },
      "source": [
        "# plot target distribution\n",
        "sns.countplot(x = 'target', data = df_train)\n",
        "plt.show()"
      ],
      "execution_count": 7,
      "outputs": [
        {
          "output_type": "display_data",
          "data": {
            "image/png": "[encoded data removed]",
            "text/plain": [
              "<Figure size 432x288 with 1 Axes>"
            ]
          },
          "metadata": {
            "tags": [],
            "needs_background": "light"
          }
        }
      ]
    },
    {
      "cell_type": "markdown",
      "metadata": {
        "id": "ygtC8LZiY177",
        "colab_type": "text"
      },
      "source": [
        "### location distribution"
      ]
    },
    {
      "cell_type": "code",
      "metadata": {
        "id": "fcjto9JY7CtN",
        "colab_type": "code",
        "outputId": "458fbab1-596d-4250-f7c9-78d86ecda2a2",
        "colab": {
          "base_uri": "https://localhost:8080/",
          "height": 395
        }
      },
      "source": [
        "# If has location\n",
        "df_train['haslocation'] = pd.notna(df_train['location']).astype(int)\n",
        "print(df_train.groupby(by = ['target', 'haslocation']).size())\n",
        "\n",
        "sns.countplot(x = 'haslocation', hue = 'target', data = df_train)\n",
        "plt.show()"
      ],
      "execution_count": 8,
      "outputs": [
        {
          "output_type": "stream",
          "text": [
            "target  haslocation\n",
            "0       0              1458\n",
            "        1              2884\n",
            "1       0              1075\n",
            "        1              2196\n",
            "dtype: int64\n"
          ],
          "name": "stdout"
        },
        {
          "output_type": "display_data",
          "data": {
            "image/png": "[encoded data removed]",
            "text/plain": [
              "<Figure size 432x288 with 1 Axes>"
            ]
          },
          "metadata": {
            "tags": [],
            "needs_background": "light"
          }
        }
      ]
    },
    {
      "cell_type": "code",
      "metadata": {
        "id": "OvnnQm4OjE4H",
        "colab_type": "code",
        "outputId": "bafaf9c9-a232-437d-b54f-960ed724a53d",
        "colab": {
          "base_uri": "https://localhost:8080/",
          "height": 589
        }
      },
      "source": [
        "# plot location distributions\n",
        "print(\"Number of locations:      {}\".format(df_train['location'].nunique(dropna=True)))\n",
        "print(\"Tweets WITH a location:   {}\".format(pd.notna(df_train['location']).sum()))\n",
        "print(\"Tweets WITHOUT locations: {}\".format(pd.isna(df_train['location']).sum()))\n",
        "\n",
        "fig, (ax1, ax2) = plt.subplots(1,2, figsize=(12,8))\n",
        "\n",
        "sns.countplot(y='location', hue='target', data=df_train,\n",
        "              order = df_train['location'].value_counts().iloc[:20].index,\n",
        "              hue_order = [0, 1],\n",
        "              ax = ax1)\n",
        "\n",
        "ax1.set_title(\"Top 20 locations\")\n",
        "\n",
        "# Add a column location_freq\n",
        "df_train_location_freq = df_train['location'].value_counts(dropna=True, ascending=False, normalize=True)\n",
        "df_train.loc[:,'location_freq'] = 0\n",
        "df_train['location_count'] = 0\n",
        "for l in df_train['location'].unique():\n",
        "    if(pd.isna(l)): continue\n",
        "    df_train.loc[df_train['location'] == l, ['location_freq']] = df_train_location_freq.get(l, default = 0)\n",
        "    df_train.loc[df_train['location'] == l, ['location_count']] = df_train[df_train['location']==l].shape[0]\n",
        "\n",
        "ax2.xaxis.set_tick_params(rotation=45)\n",
        "sns.countplot(y = 'location_count', data = df_train, ax = ax2)\n",
        "plt.show()"
      ],
      "execution_count": 9,
      "outputs": [
        {
          "output_type": "stream",
          "text": [
            "Number of locations:      3341\n",
            "Tweets WITH a location:   5080\n",
            "Tweets WITHOUT locations: 2533\n"
          ],
          "name": "stdout"
        },
        {
          "output_type": "display_data",
          "data": {
            "image/png": "[encoded data removed]",
            "text/plain": [
              "<Figure size 864x576 with 2 Axes>"
            ]
          },
          "metadata": {
            "tags": [],
            "needs_background": "light"
          }
        }
      ]
    },
    {
      "cell_type": "markdown",
      "metadata": {
        "id": "ATvOq2BxPgpv",
        "colab_type": "text"
      },
      "source": [
        "### text analysis"
      ]
    },
    {
      "cell_type": "code",
      "metadata": {
        "id": "7I0WyWE0Po_e",
        "colab_type": "code",
        "outputId": "5b3a5beb-72b6-48ee-f85d-cc6ba2dbaa6b",
        "colab": {
          "base_uri": "https://localhost:8080/",
          "height": 359
        }
      },
      "source": [
        "display(HTML(df_train[['text']].sample(n=10, random_state=1234).to_html()))\n"
      ],
      "execution_count": 10,
      "outputs": [
        {
          "output_type": "display_data",
          "data": {
            "text/html": [
              "<table border=\"1\" class=\"dataframe\">\n",
              "  <thead>\n",
              "    <tr style=\"text-align: right;\">\n",
              "      <th></th>\n",
              "      <th>text</th>\n",
              "    </tr>\n",
              "  </thead>\n",
              "  <tbody>\n",
              "    <tr>\n",
              "      <th>5953</th>\n",
              "      <td>@camilacabello97 NOW IM INTERNALLY SCREAMING</td>\n",
              "    </tr>\n",
              "    <tr>\n",
              "      <th>692</th>\n",
              "      <td>S3XLEAK!!!\\nPh0tos of 19yrs old Ash@wo lady in Festac town from Delta exp0sed on BBM 5 leaked pictures... http://t.co/ixREhM05yq</td>\n",
              "    </tr>\n",
              "    <tr>\n",
              "      <th>6342</th>\n",
              "      <td>NTSB: Virgin Galactic's SpaceshipTwo crash due to structural failure when braking system unlocked early http://t.co/EYSbLYX6L6 via @KPCC @AP</td>\n",
              "    </tr>\n",
              "    <tr>\n",
              "      <th>1019</th>\n",
              "      <td>Micom 2015 Summer Contrast Candy Color Bowknot Cross Body Tote Shoulder Bags for Womengirls with Micom Zip Po http://t.co/sQMTKKJiMJ</td>\n",
              "    </tr>\n",
              "    <tr>\n",
              "      <th>5254</th>\n",
              "      <td>SYD traffic HAZARD Oil spill - BANKSTOWN Stacey St at Wattle St http://t.co/TZyHdBW9f5</td>\n",
              "    </tr>\n",
              "    <tr>\n",
              "      <th>1586</th>\n",
              "      <td>News Update Huge cliff landslide on road in China - Watch the moment a cliff collapses as huge chunks of rock fall... http://t.co/gaBd0cjmAG</td>\n",
              "    </tr>\n",
              "    <tr>\n",
              "      <th>2627</th>\n",
              "      <td>How American war planners singled out Hiroshima for destruction http://t.co/B5OKgpSpbH</td>\n",
              "    </tr>\n",
              "    <tr>\n",
              "      <th>5937</th>\n",
              "      <td>I have never screamed so loud https://t.co/PC3h1NE4G0</td>\n",
              "    </tr>\n",
              "    <tr>\n",
              "      <th>3547</th>\n",
              "      <td>Russian 'food crematoria' provoke outrage amid crisis famine memories http://t.co/O4xLjnaV8F</td>\n",
              "    </tr>\n",
              "    <tr>\n",
              "      <th>5464</th>\n",
              "      <td>Reddit Will Now QuarantineÛ_ http://t.co/pkUAMXw6pm #onlinecommunities #reddit #amageddon #freespeech #Business http://t.co/PAWvNJ4sAP</td>\n",
              "    </tr>\n",
              "  </tbody>\n",
              "</table>"
            ],
            "text/plain": [
              "<IPython.core.display.HTML object>"
            ]
          },
          "metadata": {
            "tags": []
          }
        }
      ]
    },
    {
      "cell_type": "code",
      "metadata": {
        "id": "GppSX6l0Voxx",
        "colab_type": "code",
        "outputId": "c0230b0e-afa2-4880-e05b-e600dcc6c112",
        "colab": {
          "base_uri": "https://localhost:8080/",
          "height": 1000
        }
      },
      "source": [
        "df10text = df_train[['text']].sample(n=10, random_state=1234)\n",
        "\n",
        "from sklearn.feature_extraction.text import CountVectorizer\n",
        "\n",
        "cv = CountVectorizer()\n",
        "cv.fit(df10text['text'])\n",
        "X_text = cv.transform(df10text['text'])\n",
        "print(len(cv.vocabulary_.keys()))\n",
        "print(cv.vocabulary_.keys())\n",
        "\n",
        "url = re.compile(r'https?://\\S+|www\\.\\S+')\n",
        "df10text_cp1 = df10text[['text']].replace(url, r'')\n",
        "display(HTML(df10text_cp1.to_html()))\n",
        "\n",
        "tag = re.compile(r'\\#(\\S+)')\n",
        "df10text_cp2 = df10text_cp1[['text']].replace(tag, r'')\n",
        "display(HTML(df10text_cp2.to_html()))\n",
        "\n",
        "at = re.compile(r'\\@(\\S+)')\n",
        "df10text_cp3 = df10text_cp2[['text']].replace(at, r'')\n",
        "display(HTML(df10text_cp3.to_html()))"
      ],
      "execution_count": 11,
      "outputs": [
        {
          "output_type": "stream",
          "text": [
            "125\n",
            "dict_keys(['camilacabello97', 'now', 'im', 'internally', 'screaming', 's3xleak', 'ph0tos', 'of', '19yrs', 'old', 'ash', 'wo', 'lady', 'in', 'festac', 'town', 'from', 'delta', 'exp0sed', 'on', 'bbm', 'leaked', 'pictures', 'http', 'co', 'ixrehm05yq', 'ntsb', 'virgin', 'galactic', 'spaceshiptwo', 'crash', 'due', 'to', 'structural', 'failure', 'when', 'braking', 'system', 'unlocked', 'early', 'eysblyx6l6', 'via', 'kpcc', 'ap', 'micom', '2015', 'summer', 'contrast', 'candy', 'color', 'bowknot', 'cross', 'body', 'tote', 'shoulder', 'bags', 'for', 'womengirls', 'with', 'zip', 'po', 'sqmtkkjimj', 'syd', 'traffic', 'hazard', 'oil', 'spill', 'bankstown', 'stacey', 'st', 'at', 'wattle', 'tzyhdbw9f5', 'news', 'update', 'huge', 'cliff', 'landslide', 'road', 'china', 'watch', 'the', 'moment', 'collapses', 'as', 'chunks', 'rock', 'fall', 'gabd0cjmag', 'how', 'american', 'war', 'planners', 'singled', 'out', 'hiroshima', 'destruction', 'b5okgpspbh', 'have', 'never', 'screamed', 'so', 'loud', 'https', 'pc3h1ne4g0', 'russian', 'food', 'crematoria', 'provoke', 'outrage', 'amid', 'crisis', 'famine', 'memories', 'o4xljnav8f', 'reddit', 'will', 'quarantine', 'û_', 'pkuamxw6pm', 'onlinecommunities', 'amageddon', 'freespeech', 'business', 'pawvnj4sap'])\n"
          ],
          "name": "stdout"
        },
        {
          "output_type": "display_data",
          "data": {
            "text/html": [
              "<table border=\"1\" class=\"dataframe\">\n",
              "  <thead>\n",
              "    <tr style=\"text-align: right;\">\n",
              "      <th></th>\n",
              "      <th>text</th>\n",
              "    </tr>\n",
              "  </thead>\n",
              "  <tbody>\n",
              "    <tr>\n",
              "      <th>5953</th>\n",
              "      <td>@camilacabello97 NOW IM INTERNALLY SCREAMING</td>\n",
              "    </tr>\n",
              "    <tr>\n",
              "      <th>692</th>\n",
              "      <td>S3XLEAK!!!\\nPh0tos of 19yrs old Ash@wo lady in Festac town from Delta exp0sed on BBM 5 leaked pictures...</td>\n",
              "    </tr>\n",
              "    <tr>\n",
              "      <th>6342</th>\n",
              "      <td>NTSB: Virgin Galactic's SpaceshipTwo crash due to structural failure when braking system unlocked early  via @KPCC @AP</td>\n",
              "    </tr>\n",
              "    <tr>\n",
              "      <th>1019</th>\n",
              "      <td>Micom 2015 Summer Contrast Candy Color Bowknot Cross Body Tote Shoulder Bags for Womengirls with Micom Zip Po</td>\n",
              "    </tr>\n",
              "    <tr>\n",
              "      <th>5254</th>\n",
              "      <td>SYD traffic HAZARD Oil spill - BANKSTOWN Stacey St at Wattle St</td>\n",
              "    </tr>\n",
              "    <tr>\n",
              "      <th>1586</th>\n",
              "      <td>News Update Huge cliff landslide on road in China - Watch the moment a cliff collapses as huge chunks of rock fall...</td>\n",
              "    </tr>\n",
              "    <tr>\n",
              "      <th>2627</th>\n",
              "      <td>How American war planners singled out Hiroshima for destruction</td>\n",
              "    </tr>\n",
              "    <tr>\n",
              "      <th>5937</th>\n",
              "      <td>I have never screamed so loud</td>\n",
              "    </tr>\n",
              "    <tr>\n",
              "      <th>3547</th>\n",
              "      <td>Russian 'food crematoria' provoke outrage amid crisis famine memories</td>\n",
              "    </tr>\n",
              "    <tr>\n",
              "      <th>5464</th>\n",
              "      <td>Reddit Will Now QuarantineÛ_  #onlinecommunities #reddit #amageddon #freespeech #Business</td>\n",
              "    </tr>\n",
              "  </tbody>\n",
              "</table>"
            ],
            "text/plain": [
              "<IPython.core.display.HTML object>"
            ]
          },
          "metadata": {
            "tags": []
          }
        },
        {
          "output_type": "display_data",
          "data": {
            "text/html": [
              "<table border=\"1\" class=\"dataframe\">\n",
              "  <thead>\n",
              "    <tr style=\"text-align: right;\">\n",
              "      <th></th>\n",
              "      <th>text</th>\n",
              "    </tr>\n",
              "  </thead>\n",
              "  <tbody>\n",
              "    <tr>\n",
              "      <th>5953</th>\n",
              "      <td>@camilacabello97 NOW IM INTERNALLY SCREAMING</td>\n",
              "    </tr>\n",
              "    <tr>\n",
              "      <th>692</th>\n",
              "      <td>S3XLEAK!!!\\nPh0tos of 19yrs old Ash@wo lady in Festac town from Delta exp0sed on BBM 5 leaked pictures...</td>\n",
              "    </tr>\n",
              "    <tr>\n",
              "      <th>6342</th>\n",
              "      <td>NTSB: Virgin Galactic's SpaceshipTwo crash due to structural failure when braking system unlocked early  via @KPCC @AP</td>\n",
              "    </tr>\n",
              "    <tr>\n",
              "      <th>1019</th>\n",
              "      <td>Micom 2015 Summer Contrast Candy Color Bowknot Cross Body Tote Shoulder Bags for Womengirls with Micom Zip Po</td>\n",
              "    </tr>\n",
              "    <tr>\n",
              "      <th>5254</th>\n",
              "      <td>SYD traffic HAZARD Oil spill - BANKSTOWN Stacey St at Wattle St</td>\n",
              "    </tr>\n",
              "    <tr>\n",
              "      <th>1586</th>\n",
              "      <td>News Update Huge cliff landslide on road in China - Watch the moment a cliff collapses as huge chunks of rock fall...</td>\n",
              "    </tr>\n",
              "    <tr>\n",
              "      <th>2627</th>\n",
              "      <td>How American war planners singled out Hiroshima for destruction</td>\n",
              "    </tr>\n",
              "    <tr>\n",
              "      <th>5937</th>\n",
              "      <td>I have never screamed so loud</td>\n",
              "    </tr>\n",
              "    <tr>\n",
              "      <th>3547</th>\n",
              "      <td>Russian 'food crematoria' provoke outrage amid crisis famine memories</td>\n",
              "    </tr>\n",
              "    <tr>\n",
              "      <th>5464</th>\n",
              "      <td>Reddit Will Now QuarantineÛ_</td>\n",
              "    </tr>\n",
              "  </tbody>\n",
              "</table>"
            ],
            "text/plain": [
              "<IPython.core.display.HTML object>"
            ]
          },
          "metadata": {
            "tags": []
          }
        },
        {
          "output_type": "display_data",
          "data": {
            "text/html": [
              "<table border=\"1\" class=\"dataframe\">\n",
              "  <thead>\n",
              "    <tr style=\"text-align: right;\">\n",
              "      <th></th>\n",
              "      <th>text</th>\n",
              "    </tr>\n",
              "  </thead>\n",
              "  <tbody>\n",
              "    <tr>\n",
              "      <th>5953</th>\n",
              "      <td>NOW IM INTERNALLY SCREAMING</td>\n",
              "    </tr>\n",
              "    <tr>\n",
              "      <th>692</th>\n",
              "      <td>S3XLEAK!!!\\nPh0tos of 19yrs old Ash lady in Festac town from Delta exp0sed on BBM 5 leaked pictures...</td>\n",
              "    </tr>\n",
              "    <tr>\n",
              "      <th>6342</th>\n",
              "      <td>NTSB: Virgin Galactic's SpaceshipTwo crash due to structural failure when braking system unlocked early  via</td>\n",
              "    </tr>\n",
              "    <tr>\n",
              "      <th>1019</th>\n",
              "      <td>Micom 2015 Summer Contrast Candy Color Bowknot Cross Body Tote Shoulder Bags for Womengirls with Micom Zip Po</td>\n",
              "    </tr>\n",
              "    <tr>\n",
              "      <th>5254</th>\n",
              "      <td>SYD traffic HAZARD Oil spill - BANKSTOWN Stacey St at Wattle St</td>\n",
              "    </tr>\n",
              "    <tr>\n",
              "      <th>1586</th>\n",
              "      <td>News Update Huge cliff landslide on road in China - Watch the moment a cliff collapses as huge chunks of rock fall...</td>\n",
              "    </tr>\n",
              "    <tr>\n",
              "      <th>2627</th>\n",
              "      <td>How American war planners singled out Hiroshima for destruction</td>\n",
              "    </tr>\n",
              "    <tr>\n",
              "      <th>5937</th>\n",
              "      <td>I have never screamed so loud</td>\n",
              "    </tr>\n",
              "    <tr>\n",
              "      <th>3547</th>\n",
              "      <td>Russian 'food crematoria' provoke outrage amid crisis famine memories</td>\n",
              "    </tr>\n",
              "    <tr>\n",
              "      <th>5464</th>\n",
              "      <td>Reddit Will Now QuarantineÛ_</td>\n",
              "    </tr>\n",
              "  </tbody>\n",
              "</table>"
            ],
            "text/plain": [
              "<IPython.core.display.HTML object>"
            ]
          },
          "metadata": {
            "tags": []
          }
        }
      ]
    },
    {
      "cell_type": "markdown",
      "metadata": {
        "id": "kG5ra3-7Ms2N",
        "colab_type": "text"
      },
      "source": [
        "### keyword analysis"
      ]
    },
    {
      "cell_type": "code",
      "metadata": {
        "id": "l36kY03jc1eA",
        "colab_type": "code",
        "outputId": "bc00c4b8-3b91-4719-8015-3467167d659f",
        "colab": {
          "base_uri": "https://localhost:8080/",
          "height": 215
        }
      },
      "source": [
        "df_train['keyword'].sample(10, random_state = 1234)"
      ],
      "execution_count": 12,
      "outputs": [
        {
          "output_type": "execute_result",
          "data": {
            "text/plain": [
              "5953               screaming\n",
              "692                  blazing\n",
              "6342    structural%20failure\n",
              "1019             body%20bags\n",
              "5254             oil%20spill\n",
              "1586            cliff%20fall\n",
              "2627             destruction\n",
              "5937                screamed\n",
              "3547                  famine\n",
              "5464              quarantine\n",
              "Name: keyword, dtype: object"
            ]
          },
          "metadata": {
            "tags": []
          },
          "execution_count": 12
        }
      ]
    },
    {
      "cell_type": "code",
      "metadata": {
        "id": "Kv1fXkMTM3Yw",
        "colab_type": "code",
        "outputId": "df1bb149-ecf2-4094-b6ae-69f89e966884",
        "colab": {
          "base_uri": "https://localhost:8080/",
          "height": 954
        }
      },
      "source": [
        "df_train['keywords'] = df_train['keyword'].str.split(pat = '%20').str.join(' ')\n",
        "display(HTML(df_train.sample(10, random_state=0).to_html()))"
      ],
      "execution_count": 13,
      "outputs": [
        {
          "output_type": "display_data",
          "data": {
            "text/html": [
              "<table border=\"1\" class=\"dataframe\">\n",
              "  <thead>\n",
              "    <tr style=\"text-align: right;\">\n",
              "      <th></th>\n",
              "      <th>id</th>\n",
              "      <th>keyword</th>\n",
              "      <th>location</th>\n",
              "      <th>text</th>\n",
              "      <th>target</th>\n",
              "      <th>haslocation</th>\n",
              "      <th>location_freq</th>\n",
              "      <th>location_count</th>\n",
              "      <th>keywords</th>\n",
              "    </tr>\n",
              "  </thead>\n",
              "  <tbody>\n",
              "    <tr>\n",
              "      <th>311</th>\n",
              "      <td>454</td>\n",
              "      <td>armageddon</td>\n",
              "      <td>Wrigley Field</td>\n",
              "      <td>@KatieKatCubs you already know how this shit goes. World Series or Armageddon.</td>\n",
              "      <td>0</td>\n",
              "      <td>1</td>\n",
              "      <td>0.000197</td>\n",
              "      <td>1</td>\n",
              "      <td>armageddon</td>\n",
              "    </tr>\n",
              "    <tr>\n",
              "      <th>4970</th>\n",
              "      <td>7086</td>\n",
              "      <td>meltdown</td>\n",
              "      <td>Two Up Two Down</td>\n",
              "      <td>@LeMaireLee @danharmon People Near Meltdown Comics Who Have Free Time to Wait in Line on Sunday Nights are not a representative sample. #140</td>\n",
              "      <td>0</td>\n",
              "      <td>1</td>\n",
              "      <td>0.000197</td>\n",
              "      <td>1</td>\n",
              "      <td>meltdown</td>\n",
              "    </tr>\n",
              "    <tr>\n",
              "      <th>527</th>\n",
              "      <td>762</td>\n",
              "      <td>avalanche</td>\n",
              "      <td>Score Team Goals Buying @</td>\n",
              "      <td>1-6 TIX Calgary Flames vs COL Avalanche Preseason 9/29 Scotiabank Saddledome http://t.co/5G8qA6mPxm</td>\n",
              "      <td>0</td>\n",
              "      <td>1</td>\n",
              "      <td>0.000197</td>\n",
              "      <td>1</td>\n",
              "      <td>avalanche</td>\n",
              "    </tr>\n",
              "    <tr>\n",
              "      <th>6362</th>\n",
              "      <td>9094</td>\n",
              "      <td>suicide%20bomb</td>\n",
              "      <td>Roadside</td>\n",
              "      <td>If you ever think you running out of choices in life rembr there's that kid that has no choice but wear a suicide bomb vest</td>\n",
              "      <td>0</td>\n",
              "      <td>1</td>\n",
              "      <td>0.000197</td>\n",
              "      <td>1</td>\n",
              "      <td>suicide bomb</td>\n",
              "    </tr>\n",
              "    <tr>\n",
              "      <th>800</th>\n",
              "      <td>1160</td>\n",
              "      <td>blight</td>\n",
              "      <td>Laventillemoorings</td>\n",
              "      <td>If you dotish to blight your car go right ahead. Once it's not mine.</td>\n",
              "      <td>0</td>\n",
              "      <td>1</td>\n",
              "      <td>0.000197</td>\n",
              "      <td>1</td>\n",
              "      <td>blight</td>\n",
              "    </tr>\n",
              "    <tr>\n",
              "      <th>3074</th>\n",
              "      <td>4410</td>\n",
              "      <td>electrocute</td>\n",
              "      <td>Naperville</td>\n",
              "      <td>Electrocute yourself</td>\n",
              "      <td>0</td>\n",
              "      <td>1</td>\n",
              "      <td>0.000591</td>\n",
              "      <td>3</td>\n",
              "      <td>electrocute</td>\n",
              "    </tr>\n",
              "    <tr>\n",
              "      <th>1833</th>\n",
              "      <td>2635</td>\n",
              "      <td>crashed</td>\n",
              "      <td>Lindenhurst</td>\n",
              "      <td>Thief Broke Front Window Of Hicksville Store Stole 50 Cell Phones; Fled Crashed Into... http://t.co/6odNBttPSq</td>\n",
              "      <td>0</td>\n",
              "      <td>1</td>\n",
              "      <td>0.000197</td>\n",
              "      <td>1</td>\n",
              "      <td>crashed</td>\n",
              "    </tr>\n",
              "    <tr>\n",
              "      <th>2272</th>\n",
              "      <td>3259</td>\n",
              "      <td>demolish</td>\n",
              "      <td>Eastbourne England</td>\n",
              "      <td>Doone Silver Architects has won permission to demolish Birmingham's Natwest Tower and replace it with what will be cityÛªs tallest building.</td>\n",
              "      <td>0</td>\n",
              "      <td>1</td>\n",
              "      <td>0.000197</td>\n",
              "      <td>1</td>\n",
              "      <td>demolish</td>\n",
              "    </tr>\n",
              "    <tr>\n",
              "      <th>1234</th>\n",
              "      <td>1775</td>\n",
              "      <td>buildings%20on%20fire</td>\n",
              "      <td>Manchester, NH</td>\n",
              "      <td>Fire destroys two buildings on 2nd Street in #Manchester http://t.co/Tqh5amoknd</td>\n",
              "      <td>1</td>\n",
              "      <td>1</td>\n",
              "      <td>0.000394</td>\n",
              "      <td>2</td>\n",
              "      <td>buildings on fire</td>\n",
              "    </tr>\n",
              "    <tr>\n",
              "      <th>1326</th>\n",
              "      <td>1917</td>\n",
              "      <td>burning</td>\n",
              "      <td>[ kate + they/them + infp-t ]</td>\n",
              "      <td>@minsuwoongs i completely understand because i just woke up like 15 minutes ago and im Burning</td>\n",
              "      <td>0</td>\n",
              "      <td>1</td>\n",
              "      <td>0.000197</td>\n",
              "      <td>1</td>\n",
              "      <td>burning</td>\n",
              "    </tr>\n",
              "  </tbody>\n",
              "</table>"
            ],
            "text/plain": [
              "<IPython.core.display.HTML object>"
            ]
          },
          "metadata": {
            "tags": []
          }
        }
      ]
    },
    {
      "cell_type": "markdown",
      "metadata": {
        "id": "f7jFUuSthgi8",
        "colab_type": "text"
      },
      "source": [
        "#### Tweets with url, tag, at"
      ]
    },
    {
      "cell_type": "code",
      "metadata": {
        "id": "zMFxPUVghZjd",
        "colab_type": "code",
        "outputId": "25990bfb-dd40-42a8-98be-3b0aba45cb36",
        "colab": {
          "base_uri": "https://localhost:8080/",
          "height": 1000
        }
      },
      "source": [
        "url = re.compile(r'https?://\\S+|www\\.\\S+')\n",
        "df_train['hasurl'] = df_train['text'].str.contains(url).astype(int)\n",
        "display(HTML(df_train.sample(10, random_state=1234).to_html()))\n",
        "ax0=sns.countplot(x='hasurl', hue='target', data = df_train)"
      ],
      "execution_count": 14,
      "outputs": [
        {
          "output_type": "display_data",
          "data": {
            "text/html": [
              "<table border=\"1\" class=\"dataframe\">\n",
              "  <thead>\n",
              "    <tr style=\"text-align: right;\">\n",
              "      <th></th>\n",
              "      <th>id</th>\n",
              "      <th>keyword</th>\n",
              "      <th>location</th>\n",
              "      <th>text</th>\n",
              "      <th>target</th>\n",
              "      <th>haslocation</th>\n",
              "      <th>location_freq</th>\n",
              "      <th>location_count</th>\n",
              "      <th>keywords</th>\n",
              "      <th>hasurl</th>\n",
              "    </tr>\n",
              "  </thead>\n",
              "  <tbody>\n",
              "    <tr>\n",
              "      <th>5953</th>\n",
              "      <td>8504</td>\n",
              "      <td>screaming</td>\n",
              "      <td>tx</td>\n",
              "      <td>@camilacabello97 NOW IM INTERNALLY SCREAMING</td>\n",
              "      <td>0</td>\n",
              "      <td>1</td>\n",
              "      <td>0.000394</td>\n",
              "      <td>2</td>\n",
              "      <td>screaming</td>\n",
              "      <td>0</td>\n",
              "    </tr>\n",
              "    <tr>\n",
              "      <th>692</th>\n",
              "      <td>997</td>\n",
              "      <td>blazing</td>\n",
              "      <td>Your screen</td>\n",
              "      <td>S3XLEAK!!!\\nPh0tos of 19yrs old Ash@wo lady in Festac town from Delta exp0sed on BBM 5 leaked pictures... http://t.co/ixREhM05yq</td>\n",
              "      <td>0</td>\n",
              "      <td>1</td>\n",
              "      <td>0.000394</td>\n",
              "      <td>2</td>\n",
              "      <td>blazing</td>\n",
              "      <td>1</td>\n",
              "    </tr>\n",
              "    <tr>\n",
              "      <th>6342</th>\n",
              "      <td>9067</td>\n",
              "      <td>structural%20failure</td>\n",
              "      <td>Los Angeles, Calif.</td>\n",
              "      <td>NTSB: Virgin Galactic's SpaceshipTwo crash due to structural failure when braking system unlocked early http://t.co/EYSbLYX6L6 via @KPCC @AP</td>\n",
              "      <td>1</td>\n",
              "      <td>1</td>\n",
              "      <td>0.000197</td>\n",
              "      <td>1</td>\n",
              "      <td>structural failure</td>\n",
              "      <td>1</td>\n",
              "    </tr>\n",
              "    <tr>\n",
              "      <th>1019</th>\n",
              "      <td>1480</td>\n",
              "      <td>body%20bags</td>\n",
              "      <td>Oklahoma City</td>\n",
              "      <td>Micom 2015 Summer Contrast Candy Color Bowknot Cross Body Tote Shoulder Bags for Womengirls with Micom Zip Po http://t.co/sQMTKKJiMJ</td>\n",
              "      <td>0</td>\n",
              "      <td>1</td>\n",
              "      <td>0.000591</td>\n",
              "      <td>3</td>\n",
              "      <td>body bags</td>\n",
              "      <td>1</td>\n",
              "    </tr>\n",
              "    <tr>\n",
              "      <th>5254</th>\n",
              "      <td>7514</td>\n",
              "      <td>oil%20spill</td>\n",
              "      <td>NaN</td>\n",
              "      <td>SYD traffic HAZARD Oil spill - BANKSTOWN Stacey St at Wattle St http://t.co/TZyHdBW9f5</td>\n",
              "      <td>1</td>\n",
              "      <td>0</td>\n",
              "      <td>0.000000</td>\n",
              "      <td>0</td>\n",
              "      <td>oil spill</td>\n",
              "      <td>1</td>\n",
              "    </tr>\n",
              "    <tr>\n",
              "      <th>1586</th>\n",
              "      <td>2289</td>\n",
              "      <td>cliff%20fall</td>\n",
              "      <td>Sydney Australia</td>\n",
              "      <td>News Update Huge cliff landslide on road in China - Watch the moment a cliff collapses as huge chunks of rock fall... http://t.co/gaBd0cjmAG</td>\n",
              "      <td>1</td>\n",
              "      <td>1</td>\n",
              "      <td>0.000394</td>\n",
              "      <td>2</td>\n",
              "      <td>cliff fall</td>\n",
              "      <td>1</td>\n",
              "    </tr>\n",
              "    <tr>\n",
              "      <th>2627</th>\n",
              "      <td>3770</td>\n",
              "      <td>destruction</td>\n",
              "      <td>Manchester, England</td>\n",
              "      <td>How American war planners singled out Hiroshima for destruction http://t.co/B5OKgpSpbH</td>\n",
              "      <td>1</td>\n",
              "      <td>1</td>\n",
              "      <td>0.000787</td>\n",
              "      <td>4</td>\n",
              "      <td>destruction</td>\n",
              "      <td>1</td>\n",
              "    </tr>\n",
              "    <tr>\n",
              "      <th>5937</th>\n",
              "      <td>8478</td>\n",
              "      <td>screamed</td>\n",
              "      <td>m3, k, a, d</td>\n",
              "      <td>I have never screamed so loud https://t.co/PC3h1NE4G0</td>\n",
              "      <td>0</td>\n",
              "      <td>1</td>\n",
              "      <td>0.000197</td>\n",
              "      <td>1</td>\n",
              "      <td>screamed</td>\n",
              "      <td>1</td>\n",
              "    </tr>\n",
              "    <tr>\n",
              "      <th>3547</th>\n",
              "      <td>5071</td>\n",
              "      <td>famine</td>\n",
              "      <td>NaN</td>\n",
              "      <td>Russian 'food crematoria' provoke outrage amid crisis famine memories http://t.co/O4xLjnaV8F</td>\n",
              "      <td>1</td>\n",
              "      <td>0</td>\n",
              "      <td>0.000000</td>\n",
              "      <td>0</td>\n",
              "      <td>famine</td>\n",
              "      <td>1</td>\n",
              "    </tr>\n",
              "    <tr>\n",
              "      <th>5464</th>\n",
              "      <td>7797</td>\n",
              "      <td>quarantine</td>\n",
              "      <td>missouri USA</td>\n",
              "      <td>Reddit Will Now QuarantineÛ_ http://t.co/pkUAMXw6pm #onlinecommunities #reddit #amageddon #freespeech #Business http://t.co/PAWvNJ4sAP</td>\n",
              "      <td>1</td>\n",
              "      <td>1</td>\n",
              "      <td>0.000197</td>\n",
              "      <td>1</td>\n",
              "      <td>quarantine</td>\n",
              "      <td>1</td>\n",
              "    </tr>\n",
              "  </tbody>\n",
              "</table>"
            ],
            "text/plain": [
              "<IPython.core.display.HTML object>"
            ]
          },
          "metadata": {
            "tags": []
          }
        },
        {
          "output_type": "display_data",
          "data": {
            "image/png": "[encoded data removed]",
            "text/plain": [
              "<Figure size 432x288 with 1 Axes>"
            ]
          },
          "metadata": {
            "tags": [],
            "needs_background": "light"
          }
        }
      ]
    },
    {
      "cell_type": "code",
      "metadata": {
        "id": "cUvcvlZosWML",
        "colab_type": "code",
        "outputId": "eb584a0e-d232-46b8-f2f8-b5b0f2c884be",
        "colab": {
          "base_uri": "https://localhost:8080/",
          "height": 719
        }
      },
      "source": [
        "tag = re.compile(r'\\#(\\S+)')\n",
        "df_train['hastag'] = df_train['text'].str.contains(tag).astype(int)\n",
        "print(df_train.sample(10, random_state=1234))\n",
        "ax0 = sns.countplot(x='hastag', hue='target', data=df_train)\n",
        "\n",
        "df_train['tags'] = df_train['text'].apply(lambda x: ' '.join(re.findall(tag, x)))\n",
        "print(df_train.head())\n"
      ],
      "execution_count": 15,
      "outputs": [
        {
          "output_type": "stream",
          "text": [
            "/usr/local/lib/python3.6/dist-packages/pandas/core/strings.py:1954: UserWarning: This pattern has match groups. To actually get the groups, use str.extract.\n",
            "  return func(self, *args, **kwargs)\n"
          ],
          "name": "stderr"
        },
        {
          "output_type": "stream",
          "text": [
            "        id               keyword  ... hasurl hastag\n",
            "5953  8504             screaming  ...      0      0\n",
            "692    997               blazing  ...      1      0\n",
            "6342  9067  structural%20failure  ...      1      0\n",
            "1019  1480           body%20bags  ...      1      0\n",
            "5254  7514           oil%20spill  ...      1      0\n",
            "1586  2289          cliff%20fall  ...      1      0\n",
            "2627  3770           destruction  ...      1      0\n",
            "5937  8478              screamed  ...      1      0\n",
            "3547  5071                famine  ...      1      0\n",
            "5464  7797            quarantine  ...      1      1\n",
            "\n",
            "[10 rows x 11 columns]\n",
            "   id keyword location  ... hasurl  hastag              tags\n",
            "0   1     NaN      NaN  ...      0       1        earthquake\n",
            "1   4     NaN      NaN  ...      0       0                  \n",
            "2   5     NaN      NaN  ...      0       0                  \n",
            "3   6     NaN      NaN  ...      0       1         wildfires\n",
            "4   7     NaN      NaN  ...      0       1  Alaska wildfires\n",
            "\n",
            "[5 rows x 12 columns]\n"
          ],
          "name": "stdout"
        },
        {
          "output_type": "display_data",
          "data": {
            "image/png": "[encoded data removed]",
            "text/plain": [
              "<Figure size 432x288 with 1 Axes>"
            ]
          },
          "metadata": {
            "tags": [],
            "needs_background": "light"
          }
        }
      ]
    },
    {
      "cell_type": "code",
      "metadata": {
        "id": "n2AafpbBq8S-",
        "colab_type": "code",
        "colab": {
          "base_uri": "https://localhost:8080/",
          "height": 736
        },
        "outputId": "3611bcbf-ecc6-4a55-fb58-5f4514222339"
      },
      "source": [
        "from sklearn.feature_extraction.text import CountVectorizer\n",
        "\n",
        "tag_cvec = CountVectorizer()\n",
        "tag_cvec.fit(df_train['tags'])\n",
        "X_tag = tag_cvec.transform(df_train['tags'])\n",
        "X_tag_target0 = tag_cvec.transform(df_train[df_train['target']==0]['tags'])\n",
        "X_tag_target1 = tag_cvec.transform(df_train[df_train['target']==1]['tags'])\n",
        "\n",
        "\n",
        "df_tag_totcount =pd.DataFrame({ \n",
        "    'tag': tag_cvec.get_feature_names(),\n",
        "    'count': X_tag.toarray().sum(axis=0)\n",
        "    })\n",
        "df_tag_count = pd.DataFrame({\n",
        "    'tag': tag_cvec.get_feature_names(),\n",
        "    'target': np.zeros(len(tag_cvec.get_feature_names()), dtype=int),\n",
        "    'count': X_tag_target0.toarray().sum(axis=0)\n",
        "})\n",
        "df_tag_count = df_tag_count.append(pd.DataFrame({\n",
        "    'tag': tag_cvec.get_feature_names(),\n",
        "    'target': np.ones(len(tag_cvec.get_feature_names()), dtype=int),\n",
        "    'count': X_tag_target1.toarray().sum(axis=0)\n",
        "}), ignore_index=True)\n",
        "\n",
        "fig, ax1 = plt.subplots(1,1, figsize=(8,12))\n",
        "sns.barplot(y='tag', x='count', hue='target', data=df_tag_count, \n",
        "                  order = df_tag_totcount.sort_values(by='count', ascending=False)['tag'].iloc[:20])\n",
        "ax1.set_title('Top 20 tags')\n",
        "plt.show()"
      ],
      "execution_count": 81,
      "outputs": [
        {
          "output_type": "display_data",
          "data": {
            "image/png": "[encoded data removed]",
            "text/plain": [
              "<Figure size 576x864 with 1 Axes>"
            ]
          },
          "metadata": {
            "tags": [],
            "needs_background": "light"
          }
        }
      ]
    },
    {
      "cell_type": "code",
      "metadata": {
        "id": "ioCllRHutNrm",
        "colab_type": "code",
        "outputId": "a25b1ce3-0a3b-4ae7-93ef-fea0ecc34bc6",
        "colab": {
          "base_uri": "https://localhost:8080/",
          "height": 1000
        }
      },
      "source": [
        "at = re.compile(r'\\@(\\S+)')\n",
        "df_train['hasat'] = df_train['text'].str.contains(at).astype(int)\n",
        "ax0 = sns.countplot(x='hasat', hue='target', data=df_train)\n",
        "\n",
        "df_train['ats'] = df_train['text'].apply(lambda x: ' '.join(re.findall(at, x)))\n",
        "display(HTML(df_train.sample(10, random_state=1234).to_html()))"
      ],
      "execution_count": 82,
      "outputs": [
        {
          "output_type": "stream",
          "text": [
            "/usr/local/lib/python3.6/dist-packages/pandas/core/strings.py:1954: UserWarning: This pattern has match groups. To actually get the groups, use str.extract.\n",
            "  return func(self, *args, **kwargs)\n"
          ],
          "name": "stderr"
        },
        {
          "output_type": "display_data",
          "data": {
            "text/html": [
              "<table border=\"1\" class=\"dataframe\">\n",
              "  <thead>\n",
              "    <tr style=\"text-align: right;\">\n",
              "      <th></th>\n",
              "      <th>id</th>\n",
              "      <th>keyword</th>\n",
              "      <th>location</th>\n",
              "      <th>text</th>\n",
              "      <th>target</th>\n",
              "      <th>haslocation</th>\n",
              "      <th>location_freq</th>\n",
              "      <th>location_count</th>\n",
              "      <th>keywords</th>\n",
              "      <th>hasurl</th>\n",
              "      <th>hastag</th>\n",
              "      <th>tags</th>\n",
              "      <th>hasat</th>\n",
              "      <th>ats</th>\n",
              "    </tr>\n",
              "  </thead>\n",
              "  <tbody>\n",
              "    <tr>\n",
              "      <th>5953</th>\n",
              "      <td>8504</td>\n",
              "      <td>screaming</td>\n",
              "      <td>tx</td>\n",
              "      <td>@camilacabello97 NOW IM INTERNALLY SCREAMING</td>\n",
              "      <td>0</td>\n",
              "      <td>1</td>\n",
              "      <td>0.000394</td>\n",
              "      <td>2</td>\n",
              "      <td>screaming</td>\n",
              "      <td>0</td>\n",
              "      <td>0</td>\n",
              "      <td></td>\n",
              "      <td>1</td>\n",
              "      <td>camilacabello97</td>\n",
              "    </tr>\n",
              "    <tr>\n",
              "      <th>692</th>\n",
              "      <td>997</td>\n",
              "      <td>blazing</td>\n",
              "      <td>Your screen</td>\n",
              "      <td>S3XLEAK!!!\\nPh0tos of 19yrs old Ash@wo lady in Festac town from Delta exp0sed on BBM 5 leaked pictures... http://t.co/ixREhM05yq</td>\n",
              "      <td>0</td>\n",
              "      <td>1</td>\n",
              "      <td>0.000394</td>\n",
              "      <td>2</td>\n",
              "      <td>blazing</td>\n",
              "      <td>1</td>\n",
              "      <td>0</td>\n",
              "      <td></td>\n",
              "      <td>1</td>\n",
              "      <td>wo</td>\n",
              "    </tr>\n",
              "    <tr>\n",
              "      <th>6342</th>\n",
              "      <td>9067</td>\n",
              "      <td>structural%20failure</td>\n",
              "      <td>Los Angeles, Calif.</td>\n",
              "      <td>NTSB: Virgin Galactic's SpaceshipTwo crash due to structural failure when braking system unlocked early http://t.co/EYSbLYX6L6 via @KPCC @AP</td>\n",
              "      <td>1</td>\n",
              "      <td>1</td>\n",
              "      <td>0.000197</td>\n",
              "      <td>1</td>\n",
              "      <td>structural failure</td>\n",
              "      <td>1</td>\n",
              "      <td>0</td>\n",
              "      <td></td>\n",
              "      <td>1</td>\n",
              "      <td>KPCC AP</td>\n",
              "    </tr>\n",
              "    <tr>\n",
              "      <th>1019</th>\n",
              "      <td>1480</td>\n",
              "      <td>body%20bags</td>\n",
              "      <td>Oklahoma City</td>\n",
              "      <td>Micom 2015 Summer Contrast Candy Color Bowknot Cross Body Tote Shoulder Bags for Womengirls with Micom Zip Po http://t.co/sQMTKKJiMJ</td>\n",
              "      <td>0</td>\n",
              "      <td>1</td>\n",
              "      <td>0.000591</td>\n",
              "      <td>3</td>\n",
              "      <td>body bags</td>\n",
              "      <td>1</td>\n",
              "      <td>0</td>\n",
              "      <td></td>\n",
              "      <td>0</td>\n",
              "      <td></td>\n",
              "    </tr>\n",
              "    <tr>\n",
              "      <th>5254</th>\n",
              "      <td>7514</td>\n",
              "      <td>oil%20spill</td>\n",
              "      <td>NaN</td>\n",
              "      <td>SYD traffic HAZARD Oil spill - BANKSTOWN Stacey St at Wattle St http://t.co/TZyHdBW9f5</td>\n",
              "      <td>1</td>\n",
              "      <td>0</td>\n",
              "      <td>0.000000</td>\n",
              "      <td>0</td>\n",
              "      <td>oil spill</td>\n",
              "      <td>1</td>\n",
              "      <td>0</td>\n",
              "      <td></td>\n",
              "      <td>0</td>\n",
              "      <td></td>\n",
              "    </tr>\n",
              "    <tr>\n",
              "      <th>1586</th>\n",
              "      <td>2289</td>\n",
              "      <td>cliff%20fall</td>\n",
              "      <td>Sydney Australia</td>\n",
              "      <td>News Update Huge cliff landslide on road in China - Watch the moment a cliff collapses as huge chunks of rock fall... http://t.co/gaBd0cjmAG</td>\n",
              "      <td>1</td>\n",
              "      <td>1</td>\n",
              "      <td>0.000394</td>\n",
              "      <td>2</td>\n",
              "      <td>cliff fall</td>\n",
              "      <td>1</td>\n",
              "      <td>0</td>\n",
              "      <td></td>\n",
              "      <td>0</td>\n",
              "      <td></td>\n",
              "    </tr>\n",
              "    <tr>\n",
              "      <th>2627</th>\n",
              "      <td>3770</td>\n",
              "      <td>destruction</td>\n",
              "      <td>Manchester, England</td>\n",
              "      <td>How American war planners singled out Hiroshima for destruction http://t.co/B5OKgpSpbH</td>\n",
              "      <td>1</td>\n",
              "      <td>1</td>\n",
              "      <td>0.000787</td>\n",
              "      <td>4</td>\n",
              "      <td>destruction</td>\n",
              "      <td>1</td>\n",
              "      <td>0</td>\n",
              "      <td></td>\n",
              "      <td>0</td>\n",
              "      <td></td>\n",
              "    </tr>\n",
              "    <tr>\n",
              "      <th>5937</th>\n",
              "      <td>8478</td>\n",
              "      <td>screamed</td>\n",
              "      <td>m3, k, a, d</td>\n",
              "      <td>I have never screamed so loud https://t.co/PC3h1NE4G0</td>\n",
              "      <td>0</td>\n",
              "      <td>1</td>\n",
              "      <td>0.000197</td>\n",
              "      <td>1</td>\n",
              "      <td>screamed</td>\n",
              "      <td>1</td>\n",
              "      <td>0</td>\n",
              "      <td></td>\n",
              "      <td>0</td>\n",
              "      <td></td>\n",
              "    </tr>\n",
              "    <tr>\n",
              "      <th>3547</th>\n",
              "      <td>5071</td>\n",
              "      <td>famine</td>\n",
              "      <td>NaN</td>\n",
              "      <td>Russian 'food crematoria' provoke outrage amid crisis famine memories http://t.co/O4xLjnaV8F</td>\n",
              "      <td>1</td>\n",
              "      <td>0</td>\n",
              "      <td>0.000000</td>\n",
              "      <td>0</td>\n",
              "      <td>famine</td>\n",
              "      <td>1</td>\n",
              "      <td>0</td>\n",
              "      <td></td>\n",
              "      <td>0</td>\n",
              "      <td></td>\n",
              "    </tr>\n",
              "    <tr>\n",
              "      <th>5464</th>\n",
              "      <td>7797</td>\n",
              "      <td>quarantine</td>\n",
              "      <td>missouri USA</td>\n",
              "      <td>Reddit Will Now QuarantineÛ_ http://t.co/pkUAMXw6pm #onlinecommunities #reddit #amageddon #freespeech #Business http://t.co/PAWvNJ4sAP</td>\n",
              "      <td>1</td>\n",
              "      <td>1</td>\n",
              "      <td>0.000197</td>\n",
              "      <td>1</td>\n",
              "      <td>quarantine</td>\n",
              "      <td>1</td>\n",
              "      <td>1</td>\n",
              "      <td>onlinecommunities reddit amageddon freespeech Business</td>\n",
              "      <td>0</td>\n",
              "      <td></td>\n",
              "    </tr>\n",
              "  </tbody>\n",
              "</table>"
            ],
            "text/plain": [
              "<IPython.core.display.HTML object>"
            ]
          },
          "metadata": {
            "tags": []
          }
        },
        {
          "output_type": "display_data",
          "data": {
            "image/png": "[encoded data removed]",
            "text/plain": [
              "<Figure size 432x288 with 1 Axes>"
            ]
          },
          "metadata": {
            "tags": [],
            "needs_background": "light"
          }
        }
      ]
    },
    {
      "cell_type": "code",
      "metadata": {
        "id": "Se7ORnh9NsPU",
        "colab_type": "code",
        "colab": {
          "base_uri": "https://localhost:8080/",
          "height": 736
        },
        "outputId": "de500191-ae2b-47f6-a6a6-184b0b67380b"
      },
      "source": [
        "at_cvec = CountVectorizer()\n",
        "at_cvec.fit(df_train['ats'])\n",
        "X_ats = at_cvec.transform(df_train['ats'])\n",
        "X_ats.sum(axis=0).max()\n",
        "X_ats_target0 = at_cvec.transform(df_train[df_train['target']==0]['ats'])\n",
        "X_ats_target1 = at_cvec.transform(df_train[df_train['target']==1]['ats'])\n",
        "\n",
        "df_ats_totcount = pd.DataFrame({\n",
        "    'at': at_cvec.get_feature_names(),\n",
        "    'count': X_ats.toarray().sum(axis=0)\n",
        "})\n",
        "\n",
        "df_ats_count = pd.DataFrame({\n",
        "    'at': at_cvec.get_feature_names(),\n",
        "    'target': np.zeros(len(at_cvec.get_feature_names()), dtype=int),\n",
        "    'count': X_ats_target0.toarray().sum(axis=0)\n",
        "})\n",
        "df_ats_count = df_ats_count.append(pd.DataFrame({\n",
        "    'at': at_cvec.get_feature_names(),\n",
        "    'target': np.ones(len(at_cvec.get_feature_names()), dtype=int),\n",
        "    'count': X_ats_target1.toarray().sum(axis=0)\n",
        "}))\n",
        "\n",
        "fig, ax0 = plt.subplots(1,1,figsize=(8,12))\n",
        "sns.barplot(y='at', x='count', hue='target', data=df_ats_count,\n",
        "            order=df_ats_totcount.sort_values(by='count', ascending=False)['at'].iloc[:20])\n",
        "ax0.set_title('Top 20 at')\n",
        "fig.show()\n"
      ],
      "execution_count": 90,
      "outputs": [
        {
          "output_type": "display_data",
          "data": {
            "image/png": "[encoded data removed]",
            "text/plain": [
              "<Figure size 576x864 with 1 Axes>"
            ]
          },
          "metadata": {
            "tags": [],
            "needs_background": "light"
          }
        }
      ]
    },
    {
      "cell_type": "code",
      "metadata": {
        "id": "GqJgiV4zgjOD",
        "colab_type": "code",
        "colab": {}
      },
      "source": [
        "! pip install pyspellchecker"
      ],
      "execution_count": 0,
      "outputs": []
    },
    {
      "cell_type": "code",
      "metadata": {
        "id": "3Qz2Rbifgxs8",
        "colab_type": "code",
        "colab": {}
      },
      "source": [
        "from spellchecker import SpellChecker\n",
        "\n",
        "def print_spellerror(id, text):\n",
        "    sc = SpellChecker()\n",
        "    mispelled = sc.unknown(text.split())\n",
        "    if(mispelled):\n",
        "        print(id)\n",
        "        for w in mispelled:\n",
        "            print(w,  sc.correction(w)) #(lambda x: sc.correction(x), for x in mispelled))\n",
        "    return\n",
        "\n",
        "#df_train[['id','text']].apply(lambda x: print_spellerror(x[0], x[1]), axis = 1, raw = True)"
      ],
      "execution_count": 0,
      "outputs": []
    },
    {
      "cell_type": "markdown",
      "metadata": {
        "id": "QRk630rYwYhi",
        "colab_type": "text"
      },
      "source": [
        "## Extract feature vectors\n",
        "- keyword\n",
        "- text"
      ]
    },
    {
      "cell_type": "code",
      "metadata": {
        "id": "DDtHCzPaMPFn",
        "colab_type": "code",
        "colab": {}
      },
      "source": [
        "from sklearn.base import TransformerMixin, BaseEstimator\n",
        "from sklearn.compose import ColumnTransformer\n",
        "from sklearn.impute import SimpleImputer\n",
        "from sklearn.feature_extraction.text import CountVectorizer, TfidfVectorizer\n",
        "from sklearn.preprocessing import OneHotEncoder\n",
        "from sklearn.decomposition import TruncatedSVD\n",
        "from sklearn.pipeline import Pipeline\n",
        "from sklearn.utils import check_array\n",
        "\n",
        "class trans_ravel(TransformerMixin, BaseEstimator):\n",
        "    def fit(self, X, y=None):\n",
        "        return self\n",
        "\n",
        "    def transform(self, X, y=None):\n",
        "        return X.ravel()\n",
        "\n",
        "kw_vec = Pipeline([\n",
        "    ('kw_imp', SimpleImputer(strategy = 'constant', fill_value='missing_value')),\n",
        "    ('kw_ravel', trans_ravel()),\n",
        "    ('kw_vect', CountVectorizer(decode_error = 'ignore'))\n",
        "     ], verbose = True)\n",
        "text_vec = Pipeline([\n",
        "    ('text_tfidf', TfidfVectorizer())\n",
        "    ], verbose = True)\n",
        "location_vec = Pipeline([\n",
        "    ('loc_imp', SimpleImputer(strategy='constant', fill_value='missing_value')),\n",
        "    ('loc_ohe', OneHotEncoder(handle_unknown='ignore'))                    \n",
        "], verbose = True)\n",
        "transformer = ColumnTransformer(\n",
        "    [('kw_cvec', kw_vec, ['keyword']),\n",
        "     ('text_tvec', text_vec, 'text'),\n",
        "     ('location_ohe', location_vec, ['location'])\n",
        "    ],\n",
        "    remainder = 'drop'\n",
        ")\n"
      ],
      "execution_count": 0,
      "outputs": []
    },
    {
      "cell_type": "markdown",
      "metadata": {
        "id": "JP3PHBMfHj6v",
        "colab_type": "text"
      },
      "source": [
        "## Model\n",
        "\n",
        "A first model LinearSVC"
      ]
    },
    {
      "cell_type": "code",
      "metadata": {
        "id": "TB31vjRAHr38",
        "colab_type": "code",
        "colab": {}
      },
      "source": [
        "from sklearn.impute import SimpleImputer\n",
        "from sklearn.svm import LinearSVC\n",
        "\n",
        "pip_clf = Pipeline([\n",
        "    ('trans', transformer),\n",
        "    ('clf', LinearSVC(dual=False))\n",
        "],\n",
        "verbose = True)\n"
      ],
      "execution_count": 0,
      "outputs": []
    },
    {
      "cell_type": "code",
      "metadata": {
        "id": "TdJ4-xkUhcCy",
        "colab_type": "code",
        "colab": {}
      },
      "source": [
        "from sklearn.model_selection import train_test_split\n",
        "\n",
        "X_train, X_test, y_train, y_test  = train_test_split(\n",
        "    df_train[['location', 'keyword', 'text']], df_train['target'],\n",
        "                     test_size = 0.3, random_state = 1234)\n",
        "\n",
        "pip_fit = pip_clf.fit(X_train, y_train)   "
      ],
      "execution_count": 0,
      "outputs": []
    },
    {
      "cell_type": "markdown",
      "metadata": {
        "id": "5KrxqYnCjE4J",
        "colab_type": "text"
      },
      "source": [
        "According to the analysis, the conclusion\n",
        "\n",
        "\n",
        "\n",
        "input \n",
        "    train,csv\n",
        "    test.csv\n",
        "    sample_submission.csv\n",
        "    \n",
        "output\n",
        "    submission"
      ]
    },
    {
      "cell_type": "code",
      "metadata": {
        "id": "HGdR68azuz4u",
        "colab_type": "code",
        "colab": {}
      },
      "source": [
        "from sklearn.metrics import classification_report\n",
        "y_pred = pip_clf.predict(X_test)\n",
        "print(classification_report(y_test, y_pred))\n",
        "\n"
      ],
      "execution_count": 0,
      "outputs": []
    },
    {
      "cell_type": "code",
      "metadata": {
        "id": "UOiAksmyxvhK",
        "colab_type": "code",
        "colab": {}
      },
      "source": [
        "from google.colab import files\n",
        "y_pred=pip_clf.predict(df_test)\n",
        "df_sub = pd.DataFrame(data = \n",
        "                        {'id': df_test['id'],\n",
        "                         'target': y_pred})\n",
        "print(df_sub)\n",
        "df_sub.to_csv(\n",
        "    'predict_disastertweets_t1.csv'\n",
        ")\n",
        "df_sub['target'].value_counts()\n",
        "#files.download('predict_disastertweets_t1.csv')\n",
        "#kaggle competitions submit -c nlp-getting-started -f submission.csv -m \"Message\""
      ],
      "execution_count": 0,
      "outputs": []
    },
    {
      "cell_type": "code",
      "metadata": {
        "id": "m9d4ds-xWZR7",
        "colab_type": "code",
        "colab": {}
      },
      "source": [
        "pip_clf.get_params()['trans__text_tvec'].get_params()['text_tfidf']"
      ],
      "execution_count": 0,
      "outputs": []
    },
    {
      "cell_type": "code",
      "metadata": {
        "id": "pA3tNr9Ld5vs",
        "colab_type": "code",
        "colab": {}
      },
      "source": [
        "pip_clf['trans'].named_transformers_['text_tvec'].get_params()['text_tfidf']"
      ],
      "execution_count": 0,
      "outputs": []
    }
  ]
}
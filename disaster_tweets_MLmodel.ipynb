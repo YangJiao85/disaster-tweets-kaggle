{
  "nbformat": 4,
  "nbformat_minor": 0,
  "metadata": {
    "colab": {
      "name": "disaster-tweets-MLmodel.ipynb",
      "provenance": [],
      "collapsed_sections": [],
      "authorship_tag": "ABX9TyNWR0SorY3e30ARFHi7xInX",
      "include_colab_link": true
    },
    "kernelspec": {
      "name": "python3",
      "display_name": "Python 3"
    }
  },
  "cells": [
    {
      "cell_type": "markdown",
      "metadata": {
        "id": "view-in-github",
        "colab_type": "text"
      },
      "source": [
        "<a href=\"https://colab.research.google.com/github/YangJiao85/disaster-tweets-kaggle/blob/master/disaster_tweets_MLmodel.ipynb\" target=\"_parent\"><img src=\"https://colab.research.google.com/assets/colab-badge.svg\" alt=\"Open In Colab\"/></a>"
      ]
    },
    {
      "cell_type": "markdown",
      "metadata": {
        "id": "TGc_RCYnhfqr",
        "colab_type": "text"
      },
      "source": [
        "# Disaster Tweets \n",
        "\n",
        "This notebook will build a machine learning model that predicts which Tweets are about real disasters and which one's aren't. "
      ]
    },
    {
      "cell_type": "markdown",
      "metadata": {
        "id": "u7yogHrZiEkt",
        "colab_type": "text"
      },
      "source": [
        "## Set up"
      ]
    },
    {
      "cell_type": "markdown",
      "metadata": {
        "id": "sgCJ05BT6snQ",
        "colab_type": "text"
      },
      "source": [
        "Set up Kaggle environment and essential modules."
      ]
    },
    {
      "cell_type": "code",
      "metadata": {
        "id": "bHS_EfzWheY4",
        "colab_type": "code",
        "outputId": "47a723e4-d780-4189-d629-6e9713bf84c9",
        "colab": {
          "base_uri": "https://localhost:8080/",
          "height": 73
        }
      },
      "source": [
        "# Load essential modules\n",
        "import numpy as np \n",
        "import pandas as pd\n",
        "import os\n",
        "\n",
        "import matplotlib.pyplot as plt\n",
        "%matplotlib inline\n",
        "import seaborn as sns\n",
        "sns.set(style=\"whitegrid\")\n",
        "\n",
        "import re\n",
        "\n",
        "import sklearn.model_selection as ms\n",
        "import sklearn.metrics as skm"
      ],
      "execution_count": 2,
      "outputs": [
        {
          "output_type": "stream",
          "text": [
            "/usr/local/lib/python3.6/dist-packages/statsmodels/tools/_testing.py:19: FutureWarning: pandas.util.testing is deprecated. Use the functions in the public API at pandas.testing instead.\n",
            "  import pandas.util.testing as tm\n"
          ],
          "name": "stderr"
        }
      ]
    },
    {
      "cell_type": "code",
      "metadata": {
        "id": "bKr1_1vbigAE",
        "colab_type": "code",
        "outputId": "b9994102-2c46-4eea-c681-99068030ccda",
        "colab": {
          "base_uri": "https://localhost:8080/",
          "height": 197
        }
      },
      "source": [
        "# Google colab Kaggle setting\n",
        "\n",
        "os.environ['KAGGLE_USERNAME'] =  <kaggle_username>  # Kaggle username from json file\n",
        "os.environ['KAGGLE_KEY'] =  <kaggle_key>    # Kaggle key from json file\n",
        "\n",
        "!kaggle competitions download -c 'nlp-getting-started'\n"
      ],
      "execution_count": 3,
      "outputs": [
        {
          "output_type": "stream",
          "text": [
            "Warning: Looks like you're using an outdated API Version, please consider updating (server 1.5.6 / client 1.5.4)\n",
            "Downloading sample_submission.csv to /content\n",
            "  0% 0.00/22.2k [00:00<?, ?B/s]\n",
            "100% 22.2k/22.2k [00:00<00:00, 41.9MB/s]\n",
            "Downloading test.csv to /content\n",
            "  0% 0.00/411k [00:00<?, ?B/s]\n",
            "100% 411k/411k [00:00<00:00, 54.9MB/s]\n",
            "Downloading train.csv to /content\n",
            "  0% 0.00/965k [00:00<?, ?B/s]\n",
            "100% 965k/965k [00:00<00:00, 59.8MB/s]\n"
          ],
          "name": "stdout"
        }
      ]
    },
    {
      "cell_type": "code",
      "metadata": {
        "id": "6jvKHGfzju4y",
        "colab_type": "code",
        "colab": {}
      },
      "source": [
        "# load data\n",
        "df_train = pd.read_csv('train.csv')\n",
        "df_test = pd.read_csv('test.csv')\n",
        "df_sub = pd.read_csv('sample_submission.csv')\n"
      ],
      "execution_count": 0,
      "outputs": []
    },
    {
      "cell_type": "markdown",
      "metadata": {
        "id": "7-xfHniAnt6_",
        "colab_type": "text"
      },
      "source": [
        "## Extract feature vectors\n"
      ]
    },
    {
      "cell_type": "markdown",
      "metadata": {
        "id": "aneC09CD654g",
        "colab_type": "text"
      },
      "source": [
        "- id\n",
        "- keyword\n",
        "- location\n",
        "- text\n",
        "- target"
      ]
    },
    {
      "cell_type": "code",
      "metadata": {
        "id": "oh5wH5RzoLti",
        "colab_type": "code",
        "colab": {}
      },
      "source": [
        "from sklearn.base import TransformerMixin, BaseEstimator\n",
        "from sklearn.compose import ColumnTransformer\n",
        "from sklearn.pipeline import Pipeline\n",
        "from sklearn.impute import SimpleImputer\n",
        "from sklearn.feature_extraction.text import CountVectorizer, TfidfVectorizer\n",
        "from sklearn.preprocessing import OneHotEncoder\n",
        "from sklearn.decomposition import TruncatedSVD\n",
        "\n",
        "# reshape 2D to 1D\n",
        "class trans_ravel(TransformerMixin, BaseEstimator):\n",
        "    def fit(self, X, y=None):\n",
        "        return self\n",
        "    def transform(self, X, y=None):\n",
        "        return X.ravel()\n",
        "\n",
        "# \n",
        "url = re.compile(r'https?://(\\S+)')\n",
        "tag = re.compile(r'\\#(\\S+)')\n",
        "at = re.compile(r'\\@(\\S+)')\n",
        "\n",
        "# clean text to remove url, tag, at\n",
        "class trans_textclean(TransformerMixin, BaseEstimator):\n",
        "    def fit(self, X, y=None):\n",
        "        return self\n",
        "    def transform(self, X, y=None):\n",
        "        X = X.replace(url, r' ')\n",
        "        X = X.replace(tag, r' ')\n",
        "        X = X.replace(at, r' ')\n",
        "        return X\n",
        "\n",
        "class trans_extracttag(TransformerMixin, BaseEstimator):\n",
        "    def fit(self, X, y=None):\n",
        "        return self\n",
        "    def transform(self, X, y=None):\n",
        "        return pd.DataFrame(X.apply(lambda x: ' '.join(re.findall(tag, x))))\n",
        "\n",
        "class trans_extractat(TransformerMixin, BaseEstimator):\n",
        "    def fit(self, X, y=None):\n",
        "        return self\n",
        "    def transform(self, X, y=None):\n",
        "        return pd.DataFrame(X.apply(lambda x: ' '.join(re.findall(at, x))))\n",
        "\n",
        "class trans_extractkw(TransformerMixin, BaseEstimator):\n",
        "    def fit(self, X, y=None):\n",
        "        return self\n",
        "    def transform(self, X, y=None):\n",
        "        return pd.DataFrame(X.str.split(pat = '%20').str.join(' '))\n",
        "       \n",
        "\n",
        "# keyword\n",
        "kw_vec = Pipeline([\n",
        "    ('kw_extract', trans_extractkw()),\n",
        "    ('kw_imp', SimpleImputer(strategy='constant')),\n",
        "    ('kw_ravel', trans_ravel()),\n",
        "    ('kw_vect', TfidfVectorizer())                   \n",
        "    ], verbose = True)\n",
        "\n",
        "# location\n",
        "loc_vec = Pipeline([\n",
        "    ('loc_imp', SimpleImputer(strategy = 'constant')),\n",
        "    ('loc_ohe', OneHotEncoder(handle_unknown='ignore'))                    \n",
        "    ], verbose = True)\n",
        "\n",
        "# text\n",
        "text_vec = Pipeline([\n",
        "    ('text_clean', trans_textclean()),                 \n",
        "    ('text_tfidf', TfidfVectorizer()),\n",
        "    #('text_tsvd', TruncatedSVD())                     \n",
        "    ], verbose = True)\n",
        "\n",
        "tag_vec = Pipeline([\n",
        "    ('tag_extract', trans_extracttag()),\n",
        "    ('tag_imp', SimpleImputer(strategy = 'constant')),\n",
        "    ('tag_ravel', trans_ravel()),\n",
        "    ('tag_vect', TfidfVectorizer())                \n",
        "    ], verbose = True)\n",
        "\n",
        "at_vec = Pipeline([\n",
        "    ('at_extract', trans_extractat()),\n",
        "    ('at_imp', SimpleImputer(strategy = 'constant')),\n",
        "    ('at_ravel', trans_ravel()),\n",
        "    ('at_vect', TfidfVectorizer())               \n",
        "    ], verbose = True)\n",
        "\n"
      ],
      "execution_count": 0,
      "outputs": []
    },
    {
      "cell_type": "code",
      "metadata": {
        "id": "6-TIdBZnf4mI",
        "colab_type": "code",
        "colab": {}
      },
      "source": [
        "# \n",
        "transformer = ColumnTransformer([\n",
        "    ('kw_vec', kw_vec, 'keyword'),\n",
        "    ('loc_vec', loc_vec, ['location']),\n",
        "    ('text_vec', text_vec, 'text'),\n",
        "    ('tag_vec', tag_vec, 'text'),\n",
        "    ('at_vec', at_vec, 'text')                                 \n",
        "], remainder = 'drop')"
      ],
      "execution_count": 0,
      "outputs": []
    },
    {
      "cell_type": "code",
      "metadata": {
        "id": "Mvl9wlEpqps5",
        "colab_type": "code",
        "colab": {}
      },
      "source": [
        "X_train, X_test, y_train, y_test = ms.train_test_split(\n",
        "    df_train[['keyword', 'location', 'text']],\n",
        "    df_train['target'],    \n",
        "    test_size = 0.3,\n",
        "    random_state = 1234\n",
        ")"
      ],
      "execution_count": 0,
      "outputs": []
    },
    {
      "cell_type": "code",
      "metadata": {
        "id": "fbg5z1b0nkla",
        "colab_type": "code",
        "outputId": "e6c5459e-ff03-445c-906c-7a4956fb1524",
        "colab": {
          "base_uri": "https://localhost:8080/",
          "height": 71
        }
      },
      "source": [
        "text_vec.fit(X_train['text'])\n",
        "X_text = text_vec.transform(X_train['text'])\n",
        "X_text.shape"
      ],
      "execution_count": 8,
      "outputs": [
        {
          "output_type": "stream",
          "text": [
            "[Pipeline] ........ (step 1 of 2) Processing text_clean, total=   0.0s\n",
            "[Pipeline] ........ (step 2 of 2) Processing text_tfidf, total=   0.1s\n"
          ],
          "name": "stdout"
        },
        {
          "output_type": "execute_result",
          "data": {
            "text/plain": [
              "(5329, 11184)"
            ]
          },
          "metadata": {
            "tags": []
          },
          "execution_count": 8
        }
      ]
    },
    {
      "cell_type": "code",
      "metadata": {
        "id": "JvFAQPWqohb-",
        "colab_type": "code",
        "outputId": "b4efb9c9-6737-4990-823a-a203350a319b",
        "colab": {
          "base_uri": "https://localhost:8080/",
          "height": 71
        }
      },
      "source": [
        "loc_vec.fit(X_train[['location']])\n",
        "X_location = loc_vec.transform(X_train[['location']])\n",
        "X_location.toarray().shape"
      ],
      "execution_count": 9,
      "outputs": [
        {
          "output_type": "stream",
          "text": [
            "[Pipeline] ........... (step 1 of 2) Processing loc_imp, total=   0.0s\n",
            "[Pipeline] ........... (step 2 of 2) Processing loc_ohe, total=   0.0s\n"
          ],
          "name": "stdout"
        },
        {
          "output_type": "execute_result",
          "data": {
            "text/plain": [
              "(5329, 2501)"
            ]
          },
          "metadata": {
            "tags": []
          },
          "execution_count": 9
        }
      ]
    },
    {
      "cell_type": "code",
      "metadata": {
        "id": "AMfj2-zbo6W1",
        "colab_type": "code",
        "outputId": "bacd9810-a0fa-44b3-ffa6-9131694ad169",
        "colab": {
          "base_uri": "https://localhost:8080/",
          "height": 107
        }
      },
      "source": [
        "tag_vec.fit(X_train['text'])\n",
        "X_tag = tag_vec.transform(X_train['text'])\n",
        "X_tag.toarray().shape"
      ],
      "execution_count": 10,
      "outputs": [
        {
          "output_type": "stream",
          "text": [
            "[Pipeline] ....... (step 1 of 4) Processing tag_extract, total=   0.0s\n",
            "[Pipeline] ........... (step 2 of 4) Processing tag_imp, total=   0.0s\n",
            "[Pipeline] ......... (step 3 of 4) Processing tag_ravel, total=   0.0s\n",
            "[Pipeline] .......... (step 4 of 4) Processing tag_vect, total=   0.0s\n"
          ],
          "name": "stdout"
        },
        {
          "output_type": "execute_result",
          "data": {
            "text/plain": [
              "(5329, 1497)"
            ]
          },
          "metadata": {
            "tags": []
          },
          "execution_count": 10
        }
      ]
    },
    {
      "cell_type": "code",
      "metadata": {
        "id": "QH7tKw_YrKr-",
        "colab_type": "code",
        "outputId": "aa0ea73d-6345-4f14-e936-49d0f9832d77",
        "colab": {
          "base_uri": "https://localhost:8080/",
          "height": 107
        }
      },
      "source": [
        "at_vec.fit(X_train['text'])\n",
        "X_at = at_vec.transform(X_train['text'])\n",
        "X_at.toarray().shape"
      ],
      "execution_count": 11,
      "outputs": [
        {
          "output_type": "stream",
          "text": [
            "[Pipeline] ........ (step 1 of 4) Processing at_extract, total=   0.0s\n",
            "[Pipeline] ............ (step 2 of 4) Processing at_imp, total=   0.0s\n",
            "[Pipeline] .......... (step 3 of 4) Processing at_ravel, total=   0.0s\n",
            "[Pipeline] ........... (step 4 of 4) Processing at_vect, total=   0.0s\n"
          ],
          "name": "stdout"
        },
        {
          "output_type": "execute_result",
          "data": {
            "text/plain": [
              "(5329, 1677)"
            ]
          },
          "metadata": {
            "tags": []
          },
          "execution_count": 11
        }
      ]
    },
    {
      "cell_type": "code",
      "metadata": {
        "id": "HCrAcr63rzsl",
        "colab_type": "code",
        "outputId": "9a3709e2-a2bf-47d2-f580-3307b0a3bf49",
        "colab": {
          "base_uri": "https://localhost:8080/",
          "height": 358
        }
      },
      "source": [
        "kw_vec.fit(X_train['keyword'])\n",
        "X_kw = kw_vec.transform(X_train['keyword'])\n",
        "X_kw.toarray().shape\n",
        "kw_vec.get_params()['steps'][3][1].vocabulary_\n",
        "kw_count = X_kw.toarray().sum(axis=0)\n",
        "sns.distplot(kw_count)"
      ],
      "execution_count": 12,
      "outputs": [
        {
          "output_type": "stream",
          "text": [
            "[Pipeline] ........ (step 1 of 4) Processing kw_extract, total=   0.0s\n",
            "[Pipeline] ............ (step 2 of 4) Processing kw_imp, total=   0.0s\n",
            "[Pipeline] .......... (step 3 of 4) Processing kw_ravel, total=   0.0s\n",
            "[Pipeline] ........... (step 4 of 4) Processing kw_vect, total=   0.0s\n"
          ],
          "name": "stdout"
        },
        {
          "output_type": "execute_result",
          "data": {
            "text/plain": [
              "<matplotlib.axes._subplots.AxesSubplot at 0x7f679af3ab70>"
            ]
          },
          "metadata": {
            "tags": []
          },
          "execution_count": 12
        },
        {
          "output_type": "display_data",
          "data": {
            "image/png": "[encoded data removed]",
            "text/plain": [
              "<Figure size 432x288 with 1 Axes>"
            ]
          },
          "metadata": {
            "tags": []
          }
        }
      ]
    },
    {
      "cell_type": "code",
      "metadata": {
        "id": "L8swK5_eNTF2",
        "colab_type": "code",
        "colab": {
          "base_uri": "https://localhost:8080/",
          "height": 303
        },
        "outputId": "db443ead-41be-4de2-af89-139e775bb7ac"
      },
      "source": [
        "sns.distplot(df_train['keyword'].value_counts())\n",
        "pd.isna(df_train['keyword']).sum()"
      ],
      "execution_count": 13,
      "outputs": [
        {
          "output_type": "execute_result",
          "data": {
            "text/plain": [
              "61"
            ]
          },
          "metadata": {
            "tags": []
          },
          "execution_count": 13
        },
        {
          "output_type": "display_data",
          "data": {
            "image/png": "[encoded data removed]",
            "text/plain": [
              "<Figure size 432x288 with 1 Axes>"
            ]
          },
          "metadata": {
            "tags": []
          }
        }
      ]
    },
    {
      "cell_type": "code",
      "metadata": {
        "id": "E0UIL-QltMIq",
        "colab_type": "code",
        "outputId": "0e3020fe-f0ce-499f-9501-cbff09a93033",
        "colab": {
          "base_uri": "https://localhost:8080/",
          "height": 323
        }
      },
      "source": [
        "transformer.fit(X_train)\n",
        "X_train_trans = transformer.transform(X_train)\n",
        "X_train_trans.toarray().shape"
      ],
      "execution_count": 14,
      "outputs": [
        {
          "output_type": "stream",
          "text": [
            "[Pipeline] ........ (step 1 of 4) Processing kw_extract, total=   0.0s\n",
            "[Pipeline] ............ (step 2 of 4) Processing kw_imp, total=   0.0s\n",
            "[Pipeline] .......... (step 3 of 4) Processing kw_ravel, total=   0.0s\n",
            "[Pipeline] ........... (step 4 of 4) Processing kw_vect, total=   0.0s\n",
            "[Pipeline] ........... (step 1 of 2) Processing loc_imp, total=   0.0s\n",
            "[Pipeline] ........... (step 2 of 2) Processing loc_ohe, total=   0.0s\n",
            "[Pipeline] ........ (step 1 of 2) Processing text_clean, total=   0.0s\n",
            "[Pipeline] ........ (step 2 of 2) Processing text_tfidf, total=   0.1s\n",
            "[Pipeline] ....... (step 1 of 4) Processing tag_extract, total=   0.0s\n",
            "[Pipeline] ........... (step 2 of 4) Processing tag_imp, total=   0.0s\n",
            "[Pipeline] ......... (step 3 of 4) Processing tag_ravel, total=   0.0s\n",
            "[Pipeline] .......... (step 4 of 4) Processing tag_vect, total=   0.0s\n",
            "[Pipeline] ........ (step 1 of 4) Processing at_extract, total=   0.0s\n",
            "[Pipeline] ............ (step 2 of 4) Processing at_imp, total=   0.0s\n",
            "[Pipeline] .......... (step 3 of 4) Processing at_ravel, total=   0.0s\n",
            "[Pipeline] ........... (step 4 of 4) Processing at_vect, total=   0.0s\n"
          ],
          "name": "stdout"
        },
        {
          "output_type": "execute_result",
          "data": {
            "text/plain": [
              "(5329, 17089)"
            ]
          },
          "metadata": {
            "tags": []
          },
          "execution_count": 14
        }
      ]
    },
    {
      "cell_type": "markdown",
      "metadata": {
        "id": "AvvkQ_n3rzTT",
        "colab_type": "text"
      },
      "source": [
        "## Model"
      ]
    },
    {
      "cell_type": "markdown",
      "metadata": {
        "id": "sQxVc525kTZs",
        "colab_type": "text"
      },
      "source": [
        "### Some functions"
      ]
    },
    {
      "cell_type": "code",
      "metadata": {
        "id": "vjjeDx_HUEP9",
        "colab_type": "code",
        "colab": {}
      },
      "source": [
        "def perform_grid_search(pip_clf, tuned_parameters):\n",
        "    from pprint import pprint\n",
        "    from time import time\n",
        "    if __name__ == \"__main__\":\n",
        "        # multiprocessing requires the fork to happen in a __main__ protected block\n",
        "\n",
        "        # find the best parameters\n",
        "        grid_search = ms.GridSearchCV(pip_clf, tuned_parameters, n_jobs=-1, \n",
        "                                  verbose=1)\n",
        "\n",
        "        print(\"Performing grid search...\")\n",
        "        print(\"pipeline:\", [name for name, _ in pip_clf.steps])\n",
        "        print(\"parameters to be tuned:\")\n",
        "        pprint(tuned_parameters)\n",
        "        t0 = time()\n",
        "        grid_search.fit(X_train, y_train)\n",
        "\n",
        "        print(\"Best parameters set found on train set:\\n\")\n",
        "        print(grid_search.best_params_)\n",
        "        print(\"Grid scores on train set:\\n\")\n",
        "        means = grid_search.cv_results_['mean_test_score']\n",
        "        stds = grid_search.cv_results_['std_test_score']\n",
        "        for mean, std, params in zip(means, stds, grid_search.cv_results_['params']):\n",
        "            print(\"{:.3f} (+/-{:.3f}) for {}\".format(mean, std, params))\n",
        "\n",
        "        print(\"\\nDetailed classification report:\\n\")\n",
        "        y_pred = grid_search.predict(X_test)\n",
        "        print(skm.classification_report(y_test, y_pred))\n",
        "    return\n",
        "    \n"
      ],
      "execution_count": 0,
      "outputs": []
    },
    {
      "cell_type": "code",
      "metadata": {
        "id": "shAZsGJDk_F0",
        "colab_type": "code",
        "colab": {}
      },
      "source": [
        "def print_sub_csv(pip_clf, sub_file = 'submission.csv', ldl = False):\n",
        "    y_pred = pip_clf.predict(df_test)\n",
        "    df_sub = pd.DataFrame(data={\n",
        "        'id': df_test['id'],\n",
        "        'target': y_pred\n",
        "    })\n",
        "    df.head()\n",
        "    df_sub.to_csv(sub_file, index=False)\n",
        "\n",
        "    if(ldl):\n",
        "        from google.colab import files\n",
        "        files.download(sub_file)\n",
        "    \n",
        "    return"
      ],
      "execution_count": 0,
      "outputs": []
    },
    {
      "cell_type": "code",
      "metadata": {
        "id": "3VGgKC5bnN1Q",
        "colab_type": "code",
        "colab": {}
      },
      "source": [
        "X_train, X_test, y_train, y_test = ms.train_test_split(\n",
        "    df_train[['keyword', 'location', 'text']],\n",
        "    df_train['target'],\n",
        "    test_size = 0.3,\n",
        "    random_state = 1234\n",
        ")"
      ],
      "execution_count": 0,
      "outputs": []
    },
    {
      "cell_type": "code",
      "metadata": {
        "id": "EETIjJkHcdjV",
        "colab_type": "code",
        "colab": {}
      },
      "source": [
        "def predict_submit(pip_clf, file_sub = 'submission.csv', file_local = True, \n",
        "                   sub_to_kaggle = False, sub_message = 'Prediction with ML model'):\n",
        "    from google.colab import files\n",
        "    y_pred=pip_svc.predict(df_test)\n",
        "    df_sub = pd.DataFrame(data = {\n",
        "                         'id': df_test['id'],\n",
        "                         'target': y_pred})\n",
        "    print(df_sub.head())\n",
        "    df_sub.to_csv(file_sub, index=False)\n",
        "    print(df_sub['target'].value_counts())\n",
        "    if(file_local):\n",
        "        files.download(file_sub)\n",
        "    if(sub_to_kaggle):\n",
        "        os.system(\"kaggle competitions submit -c nlp-getting-started -f '{}' -m '{}'\".format(file_sub, sub_message))\n",
        "    return"
      ],
      "execution_count": 0,
      "outputs": []
    },
    {
      "cell_type": "markdown",
      "metadata": {
        "id": "kG6XIF376Nfu",
        "colab_type": "text"
      },
      "source": [
        "### Support Vector Classifier (SVC)"
      ]
    },
    {
      "cell_type": "code",
      "metadata": {
        "id": "_h6QLy_Kr1KI",
        "colab_type": "code",
        "colab": {}
      },
      "source": [
        "from sklearn.svm import LinearSVC\n",
        "pip_svc = Pipeline([\n",
        "    ('trans', transformer),\n",
        "    ('clf', LinearSVC())                    \n",
        "    ], verbose = True)\n",
        "\n"
      ],
      "execution_count": 0,
      "outputs": []
    },
    {
      "cell_type": "code",
      "metadata": {
        "id": "Lyos7lRYtWX0",
        "colab_type": "code",
        "outputId": "a05fed8c-16cd-403a-e6ff-da681512f791",
        "colab": {
          "base_uri": "https://localhost:8080/",
          "height": 341
        }
      },
      "source": [
        "from sklearn.model_selection import train_test_split\n",
        "\n",
        "X_train, X_test, y_train, y_test = train_test_split(\n",
        "    df_train[['keyword', 'location', 'text']], df_train['target'],\n",
        "    test_size = 0.3, random_state = 1234\n",
        ")\n",
        "\n",
        "pip_fit = pip_svc.fit(X_train, y_train)\n"
      ],
      "execution_count": 20,
      "outputs": [
        {
          "output_type": "stream",
          "text": [
            "[Pipeline] ........ (step 1 of 4) Processing kw_extract, total=   0.0s\n",
            "[Pipeline] ............ (step 2 of 4) Processing kw_imp, total=   0.0s\n",
            "[Pipeline] .......... (step 3 of 4) Processing kw_ravel, total=   0.0s\n",
            "[Pipeline] ........... (step 4 of 4) Processing kw_vect, total=   0.0s\n",
            "[Pipeline] ........... (step 1 of 2) Processing loc_imp, total=   0.0s\n",
            "[Pipeline] ........... (step 2 of 2) Processing loc_ohe, total=   0.0s\n",
            "[Pipeline] ........ (step 1 of 2) Processing text_clean, total=   0.0s\n",
            "[Pipeline] ........ (step 2 of 2) Processing text_tfidf, total=   0.1s\n",
            "[Pipeline] ....... (step 1 of 4) Processing tag_extract, total=   0.0s\n",
            "[Pipeline] ........... (step 2 of 4) Processing tag_imp, total=   0.0s\n",
            "[Pipeline] ......... (step 3 of 4) Processing tag_ravel, total=   0.0s\n",
            "[Pipeline] .......... (step 4 of 4) Processing tag_vect, total=   0.0s\n",
            "[Pipeline] ........ (step 1 of 4) Processing at_extract, total=   0.0s\n",
            "[Pipeline] ............ (step 2 of 4) Processing at_imp, total=   0.0s\n",
            "[Pipeline] .......... (step 3 of 4) Processing at_ravel, total=   0.0s\n",
            "[Pipeline] ........... (step 4 of 4) Processing at_vect, total=   0.0s\n",
            "[Pipeline] ............. (step 1 of 2) Processing trans, total=   0.2s\n",
            "[Pipeline] ............... (step 2 of 2) Processing clf, total=   0.1s\n"
          ],
          "name": "stdout"
        }
      ]
    },
    {
      "cell_type": "code",
      "metadata": {
        "id": "TQn9mrvluYQU",
        "colab_type": "code",
        "outputId": "540bb311-1898-4bba-808f-69b1f70f417b",
        "colab": {
          "base_uri": "https://localhost:8080/",
          "height": 179
        }
      },
      "source": [
        "y_pred = pip_svc.predict(X_test)\n",
        "print(skm.classification_report(y_test, y_pred))"
      ],
      "execution_count": 21,
      "outputs": [
        {
          "output_type": "stream",
          "text": [
            "              precision    recall  f1-score   support\n",
            "\n",
            "           0       0.80      0.85      0.82      1288\n",
            "           1       0.79      0.72      0.75       996\n",
            "\n",
            "    accuracy                           0.79      2284\n",
            "   macro avg       0.79      0.78      0.79      2284\n",
            "weighted avg       0.79      0.79      0.79      2284\n",
            "\n"
          ],
          "name": "stdout"
        }
      ]
    },
    {
      "cell_type": "markdown",
      "metadata": {
        "id": "1Z-j3EBun7lP",
        "colab_type": "text"
      },
      "source": [
        "#### Grid search with cross validation"
      ]
    },
    {
      "cell_type": "code",
      "metadata": {
        "id": "9J0E9pjYoNVR",
        "colab_type": "code",
        "colab": {
          "base_uri": "https://localhost:8080/",
          "height": 1000
        },
        "outputId": "af051e84-bf05-4e15-c5b5-953427db492c"
      },
      "source": [
        "tuned_parameters = ({\n",
        "    'trans__text_vec__text_tfidf__max_df': (0.1, 0.3, 0.5, 1.0),\n",
        "    'trans__text_vec__text_tfidf__min_df': (1, 2, 5),\n",
        "    'trans__text_vec__text_tfidf__ngram_range': ((1,1), (1,2), (2,2))\n",
        "})\n",
        "\n",
        "perform_grid_search(pip_svc, tuned_parameters)"
      ],
      "execution_count": 46,
      "outputs": [
        {
          "output_type": "stream",
          "text": [
            "Performing grid search...\n",
            "pipeline: ['trans', 'clf']\n",
            "parameters to be tuned:\n",
            "{'trans__text_vec__text_tfidf__max_df': (0.1, 0.3, 0.5, 1.0),\n",
            " 'trans__text_vec__text_tfidf__min_df': (1, 2, 5),\n",
            " 'trans__text_vec__text_tfidf__ngram_range': ((1, 1), (1, 2), (2, 2))}\n",
            "Fitting 5 folds for each of 36 candidates, totalling 180 fits\n"
          ],
          "name": "stdout"
        },
        {
          "output_type": "stream",
          "text": [
            "[Parallel(n_jobs=-1)]: Using backend LokyBackend with 2 concurrent workers.\n",
            "[Parallel(n_jobs=-1)]: Done  46 tasks      | elapsed:   13.9s\n",
            "[Parallel(n_jobs=-1)]: Done 180 out of 180 | elapsed:   54.6s finished\n"
          ],
          "name": "stderr"
        },
        {
          "output_type": "stream",
          "text": [
            "[Pipeline] ........ (step 1 of 4) Processing kw_extract, total=   0.0s\n",
            "[Pipeline] ............ (step 2 of 4) Processing kw_imp, total=   0.0s\n",
            "[Pipeline] .......... (step 3 of 4) Processing kw_ravel, total=   0.0s\n",
            "[Pipeline] ........... (step 4 of 4) Processing kw_vect, total=   0.0s\n",
            "[Pipeline] ........... (step 1 of 2) Processing loc_imp, total=   0.0s\n",
            "[Pipeline] ........... (step 2 of 2) Processing loc_ohe, total=   0.0s\n",
            "[Pipeline] ........ (step 1 of 2) Processing text_clean, total=   0.0s\n",
            "[Pipeline] ........ (step 2 of 2) Processing text_tfidf, total=   0.3s\n",
            "[Pipeline] ....... (step 1 of 4) Processing tag_extract, total=   0.0s\n",
            "[Pipeline] ........... (step 2 of 4) Processing tag_imp, total=   0.0s\n",
            "[Pipeline] ......... (step 3 of 4) Processing tag_ravel, total=   0.0s\n",
            "[Pipeline] .......... (step 4 of 4) Processing tag_vect, total=   0.0s\n",
            "[Pipeline] ........ (step 1 of 4) Processing at_extract, total=   0.0s\n",
            "[Pipeline] ............ (step 2 of 4) Processing at_imp, total=   0.0s\n",
            "[Pipeline] .......... (step 3 of 4) Processing at_ravel, total=   0.0s\n",
            "[Pipeline] ........... (step 4 of 4) Processing at_vect, total=   0.0s\n",
            "[Pipeline] ............. (step 1 of 2) Processing trans, total=   0.4s\n",
            "[Pipeline] ............... (step 2 of 2) Processing clf, total=   0.1s\n",
            "Best parameters set found on train set:\n",
            "\n",
            "{'trans__text_vec__text_tfidf__max_df': 0.5, 'trans__text_vec__text_tfidf__min_df': 1, 'trans__text_vec__text_tfidf__ngram_range': (1, 2)}\n",
            "Grid scores on train set:\n",
            "\n",
            "0.766 (+/-0.014) for {'trans__text_vec__text_tfidf__max_df': 0.1, 'trans__text_vec__text_tfidf__min_df': 1, 'trans__text_vec__text_tfidf__ngram_range': (1, 1)}\n",
            "0.777 (+/-0.010) for {'trans__text_vec__text_tfidf__max_df': 0.1, 'trans__text_vec__text_tfidf__min_df': 1, 'trans__text_vec__text_tfidf__ngram_range': (1, 2)}\n",
            "0.751 (+/-0.016) for {'trans__text_vec__text_tfidf__max_df': 0.1, 'trans__text_vec__text_tfidf__min_df': 1, 'trans__text_vec__text_tfidf__ngram_range': (2, 2)}\n",
            "0.763 (+/-0.010) for {'trans__text_vec__text_tfidf__max_df': 0.1, 'trans__text_vec__text_tfidf__min_df': 2, 'trans__text_vec__text_tfidf__ngram_range': (1, 1)}\n",
            "0.769 (+/-0.010) for {'trans__text_vec__text_tfidf__max_df': 0.1, 'trans__text_vec__text_tfidf__min_df': 2, 'trans__text_vec__text_tfidf__ngram_range': (1, 2)}\n",
            "0.739 (+/-0.012) for {'trans__text_vec__text_tfidf__max_df': 0.1, 'trans__text_vec__text_tfidf__min_df': 2, 'trans__text_vec__text_tfidf__ngram_range': (2, 2)}\n",
            "0.762 (+/-0.013) for {'trans__text_vec__text_tfidf__max_df': 0.1, 'trans__text_vec__text_tfidf__min_df': 5, 'trans__text_vec__text_tfidf__ngram_range': (1, 1)}\n",
            "0.763 (+/-0.009) for {'trans__text_vec__text_tfidf__max_df': 0.1, 'trans__text_vec__text_tfidf__min_df': 5, 'trans__text_vec__text_tfidf__ngram_range': (1, 2)}\n",
            "0.725 (+/-0.013) for {'trans__text_vec__text_tfidf__max_df': 0.1, 'trans__text_vec__text_tfidf__min_df': 5, 'trans__text_vec__text_tfidf__ngram_range': (2, 2)}\n",
            "0.769 (+/-0.014) for {'trans__text_vec__text_tfidf__max_df': 0.3, 'trans__text_vec__text_tfidf__min_df': 1, 'trans__text_vec__text_tfidf__ngram_range': (1, 1)}\n",
            "0.778 (+/-0.011) for {'trans__text_vec__text_tfidf__max_df': 0.3, 'trans__text_vec__text_tfidf__min_df': 1, 'trans__text_vec__text_tfidf__ngram_range': (1, 2)}\n",
            "0.751 (+/-0.016) for {'trans__text_vec__text_tfidf__max_df': 0.3, 'trans__text_vec__text_tfidf__min_df': 1, 'trans__text_vec__text_tfidf__ngram_range': (2, 2)}\n",
            "0.766 (+/-0.011) for {'trans__text_vec__text_tfidf__max_df': 0.3, 'trans__text_vec__text_tfidf__min_df': 2, 'trans__text_vec__text_tfidf__ngram_range': (1, 1)}\n",
            "0.768 (+/-0.013) for {'trans__text_vec__text_tfidf__max_df': 0.3, 'trans__text_vec__text_tfidf__min_df': 2, 'trans__text_vec__text_tfidf__ngram_range': (1, 2)}\n",
            "0.739 (+/-0.012) for {'trans__text_vec__text_tfidf__max_df': 0.3, 'trans__text_vec__text_tfidf__min_df': 2, 'trans__text_vec__text_tfidf__ngram_range': (2, 2)}\n",
            "0.761 (+/-0.012) for {'trans__text_vec__text_tfidf__max_df': 0.3, 'trans__text_vec__text_tfidf__min_df': 5, 'trans__text_vec__text_tfidf__ngram_range': (1, 1)}\n",
            "0.766 (+/-0.009) for {'trans__text_vec__text_tfidf__max_df': 0.3, 'trans__text_vec__text_tfidf__min_df': 5, 'trans__text_vec__text_tfidf__ngram_range': (1, 2)}\n",
            "0.725 (+/-0.013) for {'trans__text_vec__text_tfidf__max_df': 0.3, 'trans__text_vec__text_tfidf__min_df': 5, 'trans__text_vec__text_tfidf__ngram_range': (2, 2)}\n",
            "0.771 (+/-0.013) for {'trans__text_vec__text_tfidf__max_df': 0.5, 'trans__text_vec__text_tfidf__min_df': 1, 'trans__text_vec__text_tfidf__ngram_range': (1, 1)}\n",
            "0.778 (+/-0.011) for {'trans__text_vec__text_tfidf__max_df': 0.5, 'trans__text_vec__text_tfidf__min_df': 1, 'trans__text_vec__text_tfidf__ngram_range': (1, 2)}\n",
            "0.751 (+/-0.016) for {'trans__text_vec__text_tfidf__max_df': 0.5, 'trans__text_vec__text_tfidf__min_df': 1, 'trans__text_vec__text_tfidf__ngram_range': (2, 2)}\n",
            "0.766 (+/-0.011) for {'trans__text_vec__text_tfidf__max_df': 0.5, 'trans__text_vec__text_tfidf__min_df': 2, 'trans__text_vec__text_tfidf__ngram_range': (1, 1)}\n",
            "0.770 (+/-0.012) for {'trans__text_vec__text_tfidf__max_df': 0.5, 'trans__text_vec__text_tfidf__min_df': 2, 'trans__text_vec__text_tfidf__ngram_range': (1, 2)}\n",
            "0.739 (+/-0.012) for {'trans__text_vec__text_tfidf__max_df': 0.5, 'trans__text_vec__text_tfidf__min_df': 2, 'trans__text_vec__text_tfidf__ngram_range': (2, 2)}\n",
            "0.762 (+/-0.012) for {'trans__text_vec__text_tfidf__max_df': 0.5, 'trans__text_vec__text_tfidf__min_df': 5, 'trans__text_vec__text_tfidf__ngram_range': (1, 1)}\n",
            "0.766 (+/-0.010) for {'trans__text_vec__text_tfidf__max_df': 0.5, 'trans__text_vec__text_tfidf__min_df': 5, 'trans__text_vec__text_tfidf__ngram_range': (1, 2)}\n",
            "0.725 (+/-0.013) for {'trans__text_vec__text_tfidf__max_df': 0.5, 'trans__text_vec__text_tfidf__min_df': 5, 'trans__text_vec__text_tfidf__ngram_range': (2, 2)}\n",
            "0.771 (+/-0.013) for {'trans__text_vec__text_tfidf__max_df': 1.0, 'trans__text_vec__text_tfidf__min_df': 1, 'trans__text_vec__text_tfidf__ngram_range': (1, 1)}\n",
            "0.778 (+/-0.011) for {'trans__text_vec__text_tfidf__max_df': 1.0, 'trans__text_vec__text_tfidf__min_df': 1, 'trans__text_vec__text_tfidf__ngram_range': (1, 2)}\n",
            "0.751 (+/-0.016) for {'trans__text_vec__text_tfidf__max_df': 1.0, 'trans__text_vec__text_tfidf__min_df': 1, 'trans__text_vec__text_tfidf__ngram_range': (2, 2)}\n",
            "0.766 (+/-0.011) for {'trans__text_vec__text_tfidf__max_df': 1.0, 'trans__text_vec__text_tfidf__min_df': 2, 'trans__text_vec__text_tfidf__ngram_range': (1, 1)}\n",
            "0.770 (+/-0.012) for {'trans__text_vec__text_tfidf__max_df': 1.0, 'trans__text_vec__text_tfidf__min_df': 2, 'trans__text_vec__text_tfidf__ngram_range': (1, 2)}\n",
            "0.739 (+/-0.012) for {'trans__text_vec__text_tfidf__max_df': 1.0, 'trans__text_vec__text_tfidf__min_df': 2, 'trans__text_vec__text_tfidf__ngram_range': (2, 2)}\n",
            "0.762 (+/-0.012) for {'trans__text_vec__text_tfidf__max_df': 1.0, 'trans__text_vec__text_tfidf__min_df': 5, 'trans__text_vec__text_tfidf__ngram_range': (1, 1)}\n",
            "0.766 (+/-0.010) for {'trans__text_vec__text_tfidf__max_df': 1.0, 'trans__text_vec__text_tfidf__min_df': 5, 'trans__text_vec__text_tfidf__ngram_range': (1, 2)}\n",
            "0.725 (+/-0.013) for {'trans__text_vec__text_tfidf__max_df': 1.0, 'trans__text_vec__text_tfidf__min_df': 5, 'trans__text_vec__text_tfidf__ngram_range': (2, 2)}\n",
            "\n",
            "Detailed classification report:\n",
            "\n",
            "              precision    recall  f1-score   support\n",
            "\n",
            "           0       0.80      0.84      0.82      1288\n",
            "           1       0.78      0.73      0.75       996\n",
            "\n",
            "    accuracy                           0.79      2284\n",
            "   macro avg       0.79      0.78      0.78      2284\n",
            "weighted avg       0.79      0.79      0.79      2284\n",
            "\n"
          ],
          "name": "stdout"
        }
      ]
    },
    {
      "cell_type": "code",
      "metadata": {
        "id": "HPZPoP5lY9MR",
        "colab_type": "code",
        "colab": {
          "base_uri": "https://localhost:8080/",
          "height": 1000
        },
        "outputId": "7f272c08-e9f2-4c3e-9f80-f5415c556189"
      },
      "source": [
        "pip_svc.set_params(trans__text_vec__text_tfidf__max_df = 0.5)\n",
        "pip_svc.set_params(trans__text_vec__text_tfidf__min_df = 1)\n",
        "pip_svc.set_params(trans__text_vec__text_tfidf__ngram_range = (1,2))\n",
        "\n",
        "tuned_parameters = ({\n",
        "    'trans__kw_vec__kw_vect__max_df': (0.1, 0.3, 0.5, 1.0),\n",
        "    'trans__kw_vec__kw_vect__min_df': (1, 2, 5),\n",
        "    'trans__kw_vec__kw_vect__ngram_range': ((1,1), (1,2), (2,2))\n",
        "})\n",
        "\n",
        "perform_grid_search(pip_svc, tuned_parameters)"
      ],
      "execution_count": 36,
      "outputs": [
        {
          "output_type": "stream",
          "text": [
            "Performing grid search...\n",
            "pipeline: ['trans', 'clf']\n",
            "parameters to be tuned:\n",
            "{'trans__kw_vec__kw_vect__max_df': (0.1, 0.3, 0.5, 1.0),\n",
            " 'trans__kw_vec__kw_vect__min_df': (1, 2, 5),\n",
            " 'trans__kw_vec__kw_vect__ngram_range': ((1, 1), (1, 2), (2, 2))}\n",
            "Fitting 5 folds for each of 36 candidates, totalling 180 fits\n"
          ],
          "name": "stdout"
        },
        {
          "output_type": "stream",
          "text": [
            "[Parallel(n_jobs=-1)]: Using backend LokyBackend with 2 concurrent workers.\n",
            "[Parallel(n_jobs=-1)]: Done  46 tasks      | elapsed:   18.4s\n",
            "[Parallel(n_jobs=-1)]: Done 180 out of 180 | elapsed:  1.2min finished\n"
          ],
          "name": "stderr"
        },
        {
          "output_type": "stream",
          "text": [
            "[Pipeline] ........ (step 1 of 4) Processing kw_extract, total=   0.0s\n",
            "[Pipeline] ............ (step 2 of 4) Processing kw_imp, total=   0.0s\n",
            "[Pipeline] .......... (step 3 of 4) Processing kw_ravel, total=   0.0s\n",
            "[Pipeline] ........... (step 4 of 4) Processing kw_vect, total=   0.0s\n",
            "[Pipeline] ........... (step 1 of 2) Processing loc_imp, total=   0.0s\n",
            "[Pipeline] ........... (step 2 of 2) Processing loc_ohe, total=   0.0s\n",
            "[Pipeline] ........ (step 1 of 2) Processing text_clean, total=   0.0s\n",
            "[Pipeline] ........ (step 2 of 2) Processing text_tfidf, total=   0.3s\n",
            "[Pipeline] ....... (step 1 of 4) Processing tag_extract, total=   0.0s\n",
            "[Pipeline] ........... (step 2 of 4) Processing tag_imp, total=   0.0s\n",
            "[Pipeline] ......... (step 3 of 4) Processing tag_ravel, total=   0.0s\n",
            "[Pipeline] .......... (step 4 of 4) Processing tag_vect, total=   0.0s\n",
            "[Pipeline] ........ (step 1 of 4) Processing at_extract, total=   0.0s\n",
            "[Pipeline] ............ (step 2 of 4) Processing at_imp, total=   0.0s\n",
            "[Pipeline] .......... (step 3 of 4) Processing at_ravel, total=   0.0s\n",
            "[Pipeline] ........... (step 4 of 4) Processing at_vect, total=   0.0s\n",
            "[Pipeline] ............. (step 1 of 2) Processing trans, total=   0.4s\n",
            "[Pipeline] ............... (step 2 of 2) Processing clf, total=   0.1s\n",
            "Best parameters set found on train set:\n",
            "\n",
            "{'trans__kw_vec__kw_vect__max_df': 0.1, 'trans__kw_vec__kw_vect__min_df': 1, 'trans__kw_vec__kw_vect__ngram_range': (2, 2)}\n",
            "Grid scores on train set:\n",
            "\n",
            "0.778 (+/-0.011) for {'trans__kw_vec__kw_vect__max_df': 0.1, 'trans__kw_vec__kw_vect__min_df': 1, 'trans__kw_vec__kw_vect__ngram_range': (1, 1)}\n",
            "0.779 (+/-0.009) for {'trans__kw_vec__kw_vect__max_df': 0.1, 'trans__kw_vec__kw_vect__min_df': 1, 'trans__kw_vec__kw_vect__ngram_range': (1, 2)}\n",
            "0.785 (+/-0.012) for {'trans__kw_vec__kw_vect__max_df': 0.1, 'trans__kw_vec__kw_vect__min_df': 1, 'trans__kw_vec__kw_vect__ngram_range': (2, 2)}\n",
            "0.778 (+/-0.011) for {'trans__kw_vec__kw_vect__max_df': 0.1, 'trans__kw_vec__kw_vect__min_df': 2, 'trans__kw_vec__kw_vect__ngram_range': (1, 1)}\n",
            "0.779 (+/-0.009) for {'trans__kw_vec__kw_vect__max_df': 0.1, 'trans__kw_vec__kw_vect__min_df': 2, 'trans__kw_vec__kw_vect__ngram_range': (1, 2)}\n",
            "0.785 (+/-0.012) for {'trans__kw_vec__kw_vect__max_df': 0.1, 'trans__kw_vec__kw_vect__min_df': 2, 'trans__kw_vec__kw_vect__ngram_range': (2, 2)}\n",
            "0.778 (+/-0.011) for {'trans__kw_vec__kw_vect__max_df': 0.1, 'trans__kw_vec__kw_vect__min_df': 5, 'trans__kw_vec__kw_vect__ngram_range': (1, 1)}\n",
            "0.779 (+/-0.010) for {'trans__kw_vec__kw_vect__max_df': 0.1, 'trans__kw_vec__kw_vect__min_df': 5, 'trans__kw_vec__kw_vect__ngram_range': (1, 2)}\n",
            "0.785 (+/-0.012) for {'trans__kw_vec__kw_vect__max_df': 0.1, 'trans__kw_vec__kw_vect__min_df': 5, 'trans__kw_vec__kw_vect__ngram_range': (2, 2)}\n",
            "0.778 (+/-0.011) for {'trans__kw_vec__kw_vect__max_df': 0.3, 'trans__kw_vec__kw_vect__min_df': 1, 'trans__kw_vec__kw_vect__ngram_range': (1, 1)}\n",
            "0.779 (+/-0.009) for {'trans__kw_vec__kw_vect__max_df': 0.3, 'trans__kw_vec__kw_vect__min_df': 1, 'trans__kw_vec__kw_vect__ngram_range': (1, 2)}\n",
            "0.785 (+/-0.012) for {'trans__kw_vec__kw_vect__max_df': 0.3, 'trans__kw_vec__kw_vect__min_df': 1, 'trans__kw_vec__kw_vect__ngram_range': (2, 2)}\n",
            "0.778 (+/-0.011) for {'trans__kw_vec__kw_vect__max_df': 0.3, 'trans__kw_vec__kw_vect__min_df': 2, 'trans__kw_vec__kw_vect__ngram_range': (1, 1)}\n",
            "0.779 (+/-0.009) for {'trans__kw_vec__kw_vect__max_df': 0.3, 'trans__kw_vec__kw_vect__min_df': 2, 'trans__kw_vec__kw_vect__ngram_range': (1, 2)}\n",
            "0.785 (+/-0.012) for {'trans__kw_vec__kw_vect__max_df': 0.3, 'trans__kw_vec__kw_vect__min_df': 2, 'trans__kw_vec__kw_vect__ngram_range': (2, 2)}\n",
            "0.778 (+/-0.011) for {'trans__kw_vec__kw_vect__max_df': 0.3, 'trans__kw_vec__kw_vect__min_df': 5, 'trans__kw_vec__kw_vect__ngram_range': (1, 1)}\n",
            "0.779 (+/-0.010) for {'trans__kw_vec__kw_vect__max_df': 0.3, 'trans__kw_vec__kw_vect__min_df': 5, 'trans__kw_vec__kw_vect__ngram_range': (1, 2)}\n",
            "0.785 (+/-0.012) for {'trans__kw_vec__kw_vect__max_df': 0.3, 'trans__kw_vec__kw_vect__min_df': 5, 'trans__kw_vec__kw_vect__ngram_range': (2, 2)}\n",
            "0.778 (+/-0.011) for {'trans__kw_vec__kw_vect__max_df': 0.5, 'trans__kw_vec__kw_vect__min_df': 1, 'trans__kw_vec__kw_vect__ngram_range': (1, 1)}\n",
            "0.779 (+/-0.009) for {'trans__kw_vec__kw_vect__max_df': 0.5, 'trans__kw_vec__kw_vect__min_df': 1, 'trans__kw_vec__kw_vect__ngram_range': (1, 2)}\n",
            "0.785 (+/-0.012) for {'trans__kw_vec__kw_vect__max_df': 0.5, 'trans__kw_vec__kw_vect__min_df': 1, 'trans__kw_vec__kw_vect__ngram_range': (2, 2)}\n",
            "0.778 (+/-0.011) for {'trans__kw_vec__kw_vect__max_df': 0.5, 'trans__kw_vec__kw_vect__min_df': 2, 'trans__kw_vec__kw_vect__ngram_range': (1, 1)}\n",
            "0.779 (+/-0.009) for {'trans__kw_vec__kw_vect__max_df': 0.5, 'trans__kw_vec__kw_vect__min_df': 2, 'trans__kw_vec__kw_vect__ngram_range': (1, 2)}\n",
            "0.785 (+/-0.012) for {'trans__kw_vec__kw_vect__max_df': 0.5, 'trans__kw_vec__kw_vect__min_df': 2, 'trans__kw_vec__kw_vect__ngram_range': (2, 2)}\n",
            "0.778 (+/-0.011) for {'trans__kw_vec__kw_vect__max_df': 0.5, 'trans__kw_vec__kw_vect__min_df': 5, 'trans__kw_vec__kw_vect__ngram_range': (1, 1)}\n",
            "0.779 (+/-0.010) for {'trans__kw_vec__kw_vect__max_df': 0.5, 'trans__kw_vec__kw_vect__min_df': 5, 'trans__kw_vec__kw_vect__ngram_range': (1, 2)}\n",
            "0.785 (+/-0.012) for {'trans__kw_vec__kw_vect__max_df': 0.5, 'trans__kw_vec__kw_vect__min_df': 5, 'trans__kw_vec__kw_vect__ngram_range': (2, 2)}\n",
            "0.778 (+/-0.011) for {'trans__kw_vec__kw_vect__max_df': 1.0, 'trans__kw_vec__kw_vect__min_df': 1, 'trans__kw_vec__kw_vect__ngram_range': (1, 1)}\n",
            "0.779 (+/-0.009) for {'trans__kw_vec__kw_vect__max_df': 1.0, 'trans__kw_vec__kw_vect__min_df': 1, 'trans__kw_vec__kw_vect__ngram_range': (1, 2)}\n",
            "0.785 (+/-0.012) for {'trans__kw_vec__kw_vect__max_df': 1.0, 'trans__kw_vec__kw_vect__min_df': 1, 'trans__kw_vec__kw_vect__ngram_range': (2, 2)}\n",
            "0.778 (+/-0.011) for {'trans__kw_vec__kw_vect__max_df': 1.0, 'trans__kw_vec__kw_vect__min_df': 2, 'trans__kw_vec__kw_vect__ngram_range': (1, 1)}\n",
            "0.779 (+/-0.009) for {'trans__kw_vec__kw_vect__max_df': 1.0, 'trans__kw_vec__kw_vect__min_df': 2, 'trans__kw_vec__kw_vect__ngram_range': (1, 2)}\n",
            "0.785 (+/-0.012) for {'trans__kw_vec__kw_vect__max_df': 1.0, 'trans__kw_vec__kw_vect__min_df': 2, 'trans__kw_vec__kw_vect__ngram_range': (2, 2)}\n",
            "0.778 (+/-0.011) for {'trans__kw_vec__kw_vect__max_df': 1.0, 'trans__kw_vec__kw_vect__min_df': 5, 'trans__kw_vec__kw_vect__ngram_range': (1, 1)}\n",
            "0.779 (+/-0.010) for {'trans__kw_vec__kw_vect__max_df': 1.0, 'trans__kw_vec__kw_vect__min_df': 5, 'trans__kw_vec__kw_vect__ngram_range': (1, 2)}\n",
            "0.785 (+/-0.012) for {'trans__kw_vec__kw_vect__max_df': 1.0, 'trans__kw_vec__kw_vect__min_df': 5, 'trans__kw_vec__kw_vect__ngram_range': (2, 2)}\n",
            "\n",
            "Detailed classification report:\n",
            "\n",
            "              precision    recall  f1-score   support\n",
            "\n",
            "           0       0.79      0.86      0.82      1288\n",
            "           1       0.79      0.70      0.74       996\n",
            "\n",
            "    accuracy                           0.79      2284\n",
            "   macro avg       0.79      0.78      0.78      2284\n",
            "weighted avg       0.79      0.79      0.79      2284\n",
            "\n"
          ],
          "name": "stdout"
        }
      ]
    },
    {
      "cell_type": "code",
      "metadata": {
        "id": "kHRhE0wJT8qI",
        "colab_type": "code",
        "colab": {
          "base_uri": "https://localhost:8080/",
          "height": 1000
        },
        "outputId": "5403e464-f093-41b8-80ca-81da60e21eba"
      },
      "source": [
        "pip_svc.set_params(trans__kw_vec__kw_vect__max_df = 0.1)\n",
        "pip_svc.set_params(trans__kw_vec__kw_vect__min_df = 1)\n",
        "pip_svc.set_params(trans__kw_vec__kw_vect__ngram_range = (2,2))\n",
        "tuned_parameters = ({\n",
        "    'trans__tag_vec__tag_vect__max_df': (0.1, 0.2, 0.5, 1.),\n",
        "    'trans__tag_vec__tag_vect__min_df': (1, 2, 3),\n",
        "    'trans__tag_vec__tag_vect__ngram_range': ((1,1), (1,2), (2,2)), \n",
        "})\n",
        "\n",
        "perform_grid_search(pip_svc, tuned_parameters)"
      ],
      "execution_count": 40,
      "outputs": [
        {
          "output_type": "stream",
          "text": [
            "Performing grid search...\n",
            "pipeline: ['trans', 'clf']\n",
            "parameters to be tuned:\n",
            "{'trans__tag_vec__tag_vect__max_df': (0.1, 0.2, 0.5, 1.0),\n",
            " 'trans__tag_vec__tag_vect__min_df': (1, 2, 3),\n",
            " 'trans__tag_vec__tag_vect__ngram_range': ((1, 1), (1, 2), (2, 2))}\n",
            "Fitting 5 folds for each of 36 candidates, totalling 180 fits\n"
          ],
          "name": "stdout"
        },
        {
          "output_type": "stream",
          "text": [
            "[Parallel(n_jobs=-1)]: Using backend LokyBackend with 2 concurrent workers.\n",
            "[Parallel(n_jobs=-1)]: Done  46 tasks      | elapsed:   19.4s\n",
            "[Parallel(n_jobs=-1)]: Done 180 out of 180 | elapsed:  1.2min finished\n"
          ],
          "name": "stderr"
        },
        {
          "output_type": "stream",
          "text": [
            "[Pipeline] ........ (step 1 of 4) Processing kw_extract, total=   0.0s\n",
            "[Pipeline] ............ (step 2 of 4) Processing kw_imp, total=   0.0s\n",
            "[Pipeline] .......... (step 3 of 4) Processing kw_ravel, total=   0.0s\n",
            "[Pipeline] ........... (step 4 of 4) Processing kw_vect, total=   0.0s\n",
            "[Pipeline] ........... (step 1 of 2) Processing loc_imp, total=   0.0s\n",
            "[Pipeline] ........... (step 2 of 2) Processing loc_ohe, total=   0.0s\n",
            "[Pipeline] ........ (step 1 of 2) Processing text_clean, total=   0.0s\n",
            "[Pipeline] ........ (step 2 of 2) Processing text_tfidf, total=   0.3s\n",
            "[Pipeline] ....... (step 1 of 4) Processing tag_extract, total=   0.0s\n",
            "[Pipeline] ........... (step 2 of 4) Processing tag_imp, total=   0.0s\n",
            "[Pipeline] ......... (step 3 of 4) Processing tag_ravel, total=   0.0s\n",
            "[Pipeline] .......... (step 4 of 4) Processing tag_vect, total=   0.0s\n",
            "[Pipeline] ........ (step 1 of 4) Processing at_extract, total=   0.0s\n",
            "[Pipeline] ............ (step 2 of 4) Processing at_imp, total=   0.0s\n",
            "[Pipeline] .......... (step 3 of 4) Processing at_ravel, total=   0.0s\n",
            "[Pipeline] ........... (step 4 of 4) Processing at_vect, total=   0.0s\n",
            "[Pipeline] ............. (step 1 of 2) Processing trans, total=   0.4s\n",
            "[Pipeline] ............... (step 2 of 2) Processing clf, total=   0.1s\n",
            "Best parameters set found on train set:\n",
            "\n",
            "{'trans__tag_vec__tag_vect__max_df': 0.1, 'trans__tag_vec__tag_vect__min_df': 1, 'trans__tag_vec__tag_vect__ngram_range': (1, 2)}\n",
            "Grid scores on train set:\n",
            "\n",
            "0.785 (+/-0.012) for {'trans__tag_vec__tag_vect__max_df': 0.1, 'trans__tag_vec__tag_vect__min_df': 1, 'trans__tag_vec__tag_vect__ngram_range': (1, 1)}\n",
            "0.785 (+/-0.012) for {'trans__tag_vec__tag_vect__max_df': 0.1, 'trans__tag_vec__tag_vect__min_df': 1, 'trans__tag_vec__tag_vect__ngram_range': (1, 2)}\n",
            "0.783 (+/-0.010) for {'trans__tag_vec__tag_vect__max_df': 0.1, 'trans__tag_vec__tag_vect__min_df': 1, 'trans__tag_vec__tag_vect__ngram_range': (2, 2)}\n",
            "0.782 (+/-0.011) for {'trans__tag_vec__tag_vect__max_df': 0.1, 'trans__tag_vec__tag_vect__min_df': 2, 'trans__tag_vec__tag_vect__ngram_range': (1, 1)}\n",
            "0.781 (+/-0.010) for {'trans__tag_vec__tag_vect__max_df': 0.1, 'trans__tag_vec__tag_vect__min_df': 2, 'trans__tag_vec__tag_vect__ngram_range': (1, 2)}\n",
            "0.779 (+/-0.012) for {'trans__tag_vec__tag_vect__max_df': 0.1, 'trans__tag_vec__tag_vect__min_df': 2, 'trans__tag_vec__tag_vect__ngram_range': (2, 2)}\n",
            "0.781 (+/-0.013) for {'trans__tag_vec__tag_vect__max_df': 0.1, 'trans__tag_vec__tag_vect__min_df': 3, 'trans__tag_vec__tag_vect__ngram_range': (1, 1)}\n",
            "0.781 (+/-0.012) for {'trans__tag_vec__tag_vect__max_df': 0.1, 'trans__tag_vec__tag_vect__min_df': 3, 'trans__tag_vec__tag_vect__ngram_range': (1, 2)}\n",
            "0.779 (+/-0.010) for {'trans__tag_vec__tag_vect__max_df': 0.1, 'trans__tag_vec__tag_vect__min_df': 3, 'trans__tag_vec__tag_vect__ngram_range': (2, 2)}\n",
            "0.785 (+/-0.012) for {'trans__tag_vec__tag_vect__max_df': 0.2, 'trans__tag_vec__tag_vect__min_df': 1, 'trans__tag_vec__tag_vect__ngram_range': (1, 1)}\n",
            "0.785 (+/-0.012) for {'trans__tag_vec__tag_vect__max_df': 0.2, 'trans__tag_vec__tag_vect__min_df': 1, 'trans__tag_vec__tag_vect__ngram_range': (1, 2)}\n",
            "0.783 (+/-0.010) for {'trans__tag_vec__tag_vect__max_df': 0.2, 'trans__tag_vec__tag_vect__min_df': 1, 'trans__tag_vec__tag_vect__ngram_range': (2, 2)}\n",
            "0.782 (+/-0.011) for {'trans__tag_vec__tag_vect__max_df': 0.2, 'trans__tag_vec__tag_vect__min_df': 2, 'trans__tag_vec__tag_vect__ngram_range': (1, 1)}\n",
            "0.781 (+/-0.010) for {'trans__tag_vec__tag_vect__max_df': 0.2, 'trans__tag_vec__tag_vect__min_df': 2, 'trans__tag_vec__tag_vect__ngram_range': (1, 2)}\n",
            "0.779 (+/-0.012) for {'trans__tag_vec__tag_vect__max_df': 0.2, 'trans__tag_vec__tag_vect__min_df': 2, 'trans__tag_vec__tag_vect__ngram_range': (2, 2)}\n",
            "0.781 (+/-0.013) for {'trans__tag_vec__tag_vect__max_df': 0.2, 'trans__tag_vec__tag_vect__min_df': 3, 'trans__tag_vec__tag_vect__ngram_range': (1, 1)}\n",
            "0.781 (+/-0.012) for {'trans__tag_vec__tag_vect__max_df': 0.2, 'trans__tag_vec__tag_vect__min_df': 3, 'trans__tag_vec__tag_vect__ngram_range': (1, 2)}\n",
            "0.779 (+/-0.010) for {'trans__tag_vec__tag_vect__max_df': 0.2, 'trans__tag_vec__tag_vect__min_df': 3, 'trans__tag_vec__tag_vect__ngram_range': (2, 2)}\n",
            "0.785 (+/-0.012) for {'trans__tag_vec__tag_vect__max_df': 0.5, 'trans__tag_vec__tag_vect__min_df': 1, 'trans__tag_vec__tag_vect__ngram_range': (1, 1)}\n",
            "0.785 (+/-0.012) for {'trans__tag_vec__tag_vect__max_df': 0.5, 'trans__tag_vec__tag_vect__min_df': 1, 'trans__tag_vec__tag_vect__ngram_range': (1, 2)}\n",
            "0.783 (+/-0.010) for {'trans__tag_vec__tag_vect__max_df': 0.5, 'trans__tag_vec__tag_vect__min_df': 1, 'trans__tag_vec__tag_vect__ngram_range': (2, 2)}\n",
            "0.782 (+/-0.011) for {'trans__tag_vec__tag_vect__max_df': 0.5, 'trans__tag_vec__tag_vect__min_df': 2, 'trans__tag_vec__tag_vect__ngram_range': (1, 1)}\n",
            "0.781 (+/-0.010) for {'trans__tag_vec__tag_vect__max_df': 0.5, 'trans__tag_vec__tag_vect__min_df': 2, 'trans__tag_vec__tag_vect__ngram_range': (1, 2)}\n",
            "0.779 (+/-0.012) for {'trans__tag_vec__tag_vect__max_df': 0.5, 'trans__tag_vec__tag_vect__min_df': 2, 'trans__tag_vec__tag_vect__ngram_range': (2, 2)}\n",
            "0.781 (+/-0.013) for {'trans__tag_vec__tag_vect__max_df': 0.5, 'trans__tag_vec__tag_vect__min_df': 3, 'trans__tag_vec__tag_vect__ngram_range': (1, 1)}\n",
            "0.781 (+/-0.012) for {'trans__tag_vec__tag_vect__max_df': 0.5, 'trans__tag_vec__tag_vect__min_df': 3, 'trans__tag_vec__tag_vect__ngram_range': (1, 2)}\n",
            "0.779 (+/-0.010) for {'trans__tag_vec__tag_vect__max_df': 0.5, 'trans__tag_vec__tag_vect__min_df': 3, 'trans__tag_vec__tag_vect__ngram_range': (2, 2)}\n",
            "0.785 (+/-0.012) for {'trans__tag_vec__tag_vect__max_df': 1.0, 'trans__tag_vec__tag_vect__min_df': 1, 'trans__tag_vec__tag_vect__ngram_range': (1, 1)}\n",
            "0.785 (+/-0.012) for {'trans__tag_vec__tag_vect__max_df': 1.0, 'trans__tag_vec__tag_vect__min_df': 1, 'trans__tag_vec__tag_vect__ngram_range': (1, 2)}\n",
            "0.783 (+/-0.010) for {'trans__tag_vec__tag_vect__max_df': 1.0, 'trans__tag_vec__tag_vect__min_df': 1, 'trans__tag_vec__tag_vect__ngram_range': (2, 2)}\n",
            "0.782 (+/-0.011) for {'trans__tag_vec__tag_vect__max_df': 1.0, 'trans__tag_vec__tag_vect__min_df': 2, 'trans__tag_vec__tag_vect__ngram_range': (1, 1)}\n",
            "0.781 (+/-0.010) for {'trans__tag_vec__tag_vect__max_df': 1.0, 'trans__tag_vec__tag_vect__min_df': 2, 'trans__tag_vec__tag_vect__ngram_range': (1, 2)}\n",
            "0.779 (+/-0.012) for {'trans__tag_vec__tag_vect__max_df': 1.0, 'trans__tag_vec__tag_vect__min_df': 2, 'trans__tag_vec__tag_vect__ngram_range': (2, 2)}\n",
            "0.781 (+/-0.013) for {'trans__tag_vec__tag_vect__max_df': 1.0, 'trans__tag_vec__tag_vect__min_df': 3, 'trans__tag_vec__tag_vect__ngram_range': (1, 1)}\n",
            "0.781 (+/-0.012) for {'trans__tag_vec__tag_vect__max_df': 1.0, 'trans__tag_vec__tag_vect__min_df': 3, 'trans__tag_vec__tag_vect__ngram_range': (1, 2)}\n",
            "0.779 (+/-0.010) for {'trans__tag_vec__tag_vect__max_df': 1.0, 'trans__tag_vec__tag_vect__min_df': 3, 'trans__tag_vec__tag_vect__ngram_range': (2, 2)}\n",
            "\n",
            "Detailed classification report:\n",
            "\n",
            "              precision    recall  f1-score   support\n",
            "\n",
            "           0       0.79      0.86      0.82      1288\n",
            "           1       0.79      0.70      0.74       996\n",
            "\n",
            "    accuracy                           0.79      2284\n",
            "   macro avg       0.79      0.78      0.78      2284\n",
            "weighted avg       0.79      0.79      0.79      2284\n",
            "\n"
          ],
          "name": "stdout"
        }
      ]
    },
    {
      "cell_type": "code",
      "metadata": {
        "id": "-VbDXVu2flfV",
        "colab_type": "code",
        "colab": {
          "base_uri": "https://localhost:8080/",
          "height": 1000
        },
        "outputId": "5d0aa782-64b4-4c17-8904-080cdb5ff5eb"
      },
      "source": [
        "pip_svc.set_params(trans__tag_vec__tag_vect__max_df = 0.1)\n",
        "pip_svc.set_params(trans__tag_vec__tag_vect__min_df = 1)\n",
        "pip_svc.set_params(trans__tag_vec__tag_vect__ngram_range = (1,2))\n",
        "\n",
        "tuned_parameters = ({\n",
        "    'trans__at_vec__at_vect__max_df': (0.1, 0.3, 0.5, 1),\n",
        "    'trans__at_vec__at_vect__min_df': (1, 2, 3),\n",
        "    'trans__at_vec__at_vect__ngram_range': ((1,1), (1,2), (2,2)),\n",
        "})\n",
        "\n",
        "perform_grid_search(pip_svc, tuned_parameters)"
      ],
      "execution_count": 42,
      "outputs": [
        {
          "output_type": "stream",
          "text": [
            "Performing grid search...\n",
            "pipeline: ['trans', 'clf']\n",
            "parameters to be tuned:\n",
            "{'trans__at_vec__at_vect__max_df': (0.1, 0.3, 0.5, 1),\n",
            " 'trans__at_vec__at_vect__min_df': (1, 2, 3),\n",
            " 'trans__at_vec__at_vect__ngram_range': ((1, 1), (1, 2), (2, 2))}\n",
            "Fitting 5 folds for each of 36 candidates, totalling 180 fits\n"
          ],
          "name": "stdout"
        },
        {
          "output_type": "stream",
          "text": [
            "[Parallel(n_jobs=-1)]: Using backend LokyBackend with 2 concurrent workers.\n",
            "[Parallel(n_jobs=-1)]: Done  46 tasks      | elapsed:   19.2s\n",
            "[Parallel(n_jobs=-1)]: Done 180 out of 180 | elapsed:  1.1min finished\n"
          ],
          "name": "stderr"
        },
        {
          "output_type": "stream",
          "text": [
            "[Pipeline] ........ (step 1 of 4) Processing kw_extract, total=   0.0s\n",
            "[Pipeline] ............ (step 2 of 4) Processing kw_imp, total=   0.0s\n",
            "[Pipeline] .......... (step 3 of 4) Processing kw_ravel, total=   0.0s\n",
            "[Pipeline] ........... (step 4 of 4) Processing kw_vect, total=   0.0s\n",
            "[Pipeline] ........... (step 1 of 2) Processing loc_imp, total=   0.0s\n",
            "[Pipeline] ........... (step 2 of 2) Processing loc_ohe, total=   0.0s\n",
            "[Pipeline] ........ (step 1 of 2) Processing text_clean, total=   0.0s\n",
            "[Pipeline] ........ (step 2 of 2) Processing text_tfidf, total=   0.3s\n",
            "[Pipeline] ....... (step 1 of 4) Processing tag_extract, total=   0.0s\n",
            "[Pipeline] ........... (step 2 of 4) Processing tag_imp, total=   0.0s\n",
            "[Pipeline] ......... (step 3 of 4) Processing tag_ravel, total=   0.0s\n",
            "[Pipeline] .......... (step 4 of 4) Processing tag_vect, total=   0.0s\n",
            "[Pipeline] ........ (step 1 of 4) Processing at_extract, total=   0.0s\n",
            "[Pipeline] ............ (step 2 of 4) Processing at_imp, total=   0.0s\n",
            "[Pipeline] .......... (step 3 of 4) Processing at_ravel, total=   0.0s\n",
            "[Pipeline] ........... (step 4 of 4) Processing at_vect, total=   0.0s\n",
            "[Pipeline] ............. (step 1 of 2) Processing trans, total=   0.4s\n",
            "[Pipeline] ............... (step 2 of 2) Processing clf, total=   0.1s\n",
            "Best parameters set found on train set:\n",
            "\n",
            "{'trans__at_vec__at_vect__max_df': 0.1, 'trans__at_vec__at_vect__min_df': 1, 'trans__at_vec__at_vect__ngram_range': (1, 1)}\n",
            "Grid scores on train set:\n",
            "\n",
            "0.785 (+/-0.012) for {'trans__at_vec__at_vect__max_df': 0.1, 'trans__at_vec__at_vect__min_df': 1, 'trans__at_vec__at_vect__ngram_range': (1, 1)}\n",
            "0.785 (+/-0.012) for {'trans__at_vec__at_vect__max_df': 0.1, 'trans__at_vec__at_vect__min_df': 1, 'trans__at_vec__at_vect__ngram_range': (1, 2)}\n",
            "0.782 (+/-0.011) for {'trans__at_vec__at_vect__max_df': 0.1, 'trans__at_vec__at_vect__min_df': 1, 'trans__at_vec__at_vect__ngram_range': (2, 2)}\n",
            "0.783 (+/-0.011) for {'trans__at_vec__at_vect__max_df': 0.1, 'trans__at_vec__at_vect__min_df': 2, 'trans__at_vec__at_vect__ngram_range': (1, 1)}\n",
            "0.783 (+/-0.011) for {'trans__at_vec__at_vect__max_df': 0.1, 'trans__at_vec__at_vect__min_df': 2, 'trans__at_vec__at_vect__ngram_range': (1, 2)}\n",
            "0.784 (+/-0.009) for {'trans__at_vec__at_vect__max_df': 0.1, 'trans__at_vec__at_vect__min_df': 2, 'trans__at_vec__at_vect__ngram_range': (2, 2)}\n",
            "0.783 (+/-0.009) for {'trans__at_vec__at_vect__max_df': 0.1, 'trans__at_vec__at_vect__min_df': 3, 'trans__at_vec__at_vect__ngram_range': (1, 1)}\n",
            "0.783 (+/-0.009) for {'trans__at_vec__at_vect__max_df': 0.1, 'trans__at_vec__at_vect__min_df': 3, 'trans__at_vec__at_vect__ngram_range': (1, 2)}\n",
            "nan (+/-nan) for {'trans__at_vec__at_vect__max_df': 0.1, 'trans__at_vec__at_vect__min_df': 3, 'trans__at_vec__at_vect__ngram_range': (2, 2)}\n",
            "0.785 (+/-0.012) for {'trans__at_vec__at_vect__max_df': 0.3, 'trans__at_vec__at_vect__min_df': 1, 'trans__at_vec__at_vect__ngram_range': (1, 1)}\n",
            "0.785 (+/-0.012) for {'trans__at_vec__at_vect__max_df': 0.3, 'trans__at_vec__at_vect__min_df': 1, 'trans__at_vec__at_vect__ngram_range': (1, 2)}\n",
            "0.782 (+/-0.011) for {'trans__at_vec__at_vect__max_df': 0.3, 'trans__at_vec__at_vect__min_df': 1, 'trans__at_vec__at_vect__ngram_range': (2, 2)}\n",
            "0.783 (+/-0.011) for {'trans__at_vec__at_vect__max_df': 0.3, 'trans__at_vec__at_vect__min_df': 2, 'trans__at_vec__at_vect__ngram_range': (1, 1)}\n",
            "0.783 (+/-0.011) for {'trans__at_vec__at_vect__max_df': 0.3, 'trans__at_vec__at_vect__min_df': 2, 'trans__at_vec__at_vect__ngram_range': (1, 2)}\n",
            "0.784 (+/-0.009) for {'trans__at_vec__at_vect__max_df': 0.3, 'trans__at_vec__at_vect__min_df': 2, 'trans__at_vec__at_vect__ngram_range': (2, 2)}\n",
            "0.783 (+/-0.009) for {'trans__at_vec__at_vect__max_df': 0.3, 'trans__at_vec__at_vect__min_df': 3, 'trans__at_vec__at_vect__ngram_range': (1, 1)}\n",
            "0.783 (+/-0.009) for {'trans__at_vec__at_vect__max_df': 0.3, 'trans__at_vec__at_vect__min_df': 3, 'trans__at_vec__at_vect__ngram_range': (1, 2)}\n",
            "nan (+/-nan) for {'trans__at_vec__at_vect__max_df': 0.3, 'trans__at_vec__at_vect__min_df': 3, 'trans__at_vec__at_vect__ngram_range': (2, 2)}\n",
            "0.785 (+/-0.012) for {'trans__at_vec__at_vect__max_df': 0.5, 'trans__at_vec__at_vect__min_df': 1, 'trans__at_vec__at_vect__ngram_range': (1, 1)}\n",
            "0.785 (+/-0.012) for {'trans__at_vec__at_vect__max_df': 0.5, 'trans__at_vec__at_vect__min_df': 1, 'trans__at_vec__at_vect__ngram_range': (1, 2)}\n",
            "0.782 (+/-0.011) for {'trans__at_vec__at_vect__max_df': 0.5, 'trans__at_vec__at_vect__min_df': 1, 'trans__at_vec__at_vect__ngram_range': (2, 2)}\n",
            "0.783 (+/-0.011) for {'trans__at_vec__at_vect__max_df': 0.5, 'trans__at_vec__at_vect__min_df': 2, 'trans__at_vec__at_vect__ngram_range': (1, 1)}\n",
            "0.783 (+/-0.011) for {'trans__at_vec__at_vect__max_df': 0.5, 'trans__at_vec__at_vect__min_df': 2, 'trans__at_vec__at_vect__ngram_range': (1, 2)}\n",
            "0.784 (+/-0.009) for {'trans__at_vec__at_vect__max_df': 0.5, 'trans__at_vec__at_vect__min_df': 2, 'trans__at_vec__at_vect__ngram_range': (2, 2)}\n",
            "0.783 (+/-0.009) for {'trans__at_vec__at_vect__max_df': 0.5, 'trans__at_vec__at_vect__min_df': 3, 'trans__at_vec__at_vect__ngram_range': (1, 1)}\n",
            "0.783 (+/-0.009) for {'trans__at_vec__at_vect__max_df': 0.5, 'trans__at_vec__at_vect__min_df': 3, 'trans__at_vec__at_vect__ngram_range': (1, 2)}\n",
            "nan (+/-nan) for {'trans__at_vec__at_vect__max_df': 0.5, 'trans__at_vec__at_vect__min_df': 3, 'trans__at_vec__at_vect__ngram_range': (2, 2)}\n",
            "0.782 (+/-0.012) for {'trans__at_vec__at_vect__max_df': 1, 'trans__at_vec__at_vect__min_df': 1, 'trans__at_vec__at_vect__ngram_range': (1, 1)}\n",
            "0.783 (+/-0.013) for {'trans__at_vec__at_vect__max_df': 1, 'trans__at_vec__at_vect__min_df': 1, 'trans__at_vec__at_vect__ngram_range': (1, 2)}\n",
            "0.782 (+/-0.011) for {'trans__at_vec__at_vect__max_df': 1, 'trans__at_vec__at_vect__min_df': 1, 'trans__at_vec__at_vect__ngram_range': (2, 2)}\n",
            "nan (+/-nan) for {'trans__at_vec__at_vect__max_df': 1, 'trans__at_vec__at_vect__min_df': 2, 'trans__at_vec__at_vect__ngram_range': (1, 1)}\n",
            "nan (+/-nan) for {'trans__at_vec__at_vect__max_df': 1, 'trans__at_vec__at_vect__min_df': 2, 'trans__at_vec__at_vect__ngram_range': (1, 2)}\n",
            "nan (+/-nan) for {'trans__at_vec__at_vect__max_df': 1, 'trans__at_vec__at_vect__min_df': 2, 'trans__at_vec__at_vect__ngram_range': (2, 2)}\n",
            "nan (+/-nan) for {'trans__at_vec__at_vect__max_df': 1, 'trans__at_vec__at_vect__min_df': 3, 'trans__at_vec__at_vect__ngram_range': (1, 1)}\n",
            "nan (+/-nan) for {'trans__at_vec__at_vect__max_df': 1, 'trans__at_vec__at_vect__min_df': 3, 'trans__at_vec__at_vect__ngram_range': (1, 2)}\n",
            "nan (+/-nan) for {'trans__at_vec__at_vect__max_df': 1, 'trans__at_vec__at_vect__min_df': 3, 'trans__at_vec__at_vect__ngram_range': (2, 2)}\n",
            "\n",
            "Detailed classification report:\n",
            "\n",
            "              precision    recall  f1-score   support\n",
            "\n",
            "           0       0.79      0.86      0.82      1288\n",
            "           1       0.79      0.70      0.74       996\n",
            "\n",
            "    accuracy                           0.79      2284\n",
            "   macro avg       0.79      0.78      0.78      2284\n",
            "weighted avg       0.79      0.79      0.79      2284\n",
            "\n"
          ],
          "name": "stdout"
        }
      ]
    },
    {
      "cell_type": "code",
      "metadata": {
        "id": "kE2J3F3lh6Bm",
        "colab_type": "code",
        "colab": {
          "base_uri": "https://localhost:8080/",
          "height": 1000
        },
        "outputId": "585df663-cc76-45a3-e523-e84095ee5b37"
      },
      "source": [
        "pip_svc.set_params(trans__kw_vec__kw_vect__max_df = 1.)\n",
        "pip_svc.set_params(trans__kw_vec__kw_vect__min_df = 1)\n",
        "pip_svc.set_params(trans__kw_vec__kw_vect__ngram_range = (1,1))\n",
        "pip_svc.set_params(trans__text_vec__text_tfidf__max_df = .5)\n",
        "pip_svc.set_params(trans__text_vec__text_tfidf__min_df = 1)\n",
        "pip_svc.set_params(trans__text_vec__text_tfidf__ngram_range = (1,2))\n",
        "pip_svc.set_params(trans__tag_vec__tag_vect__max_df = 1.)\n",
        "pip_svc.set_params(trans__tag_vec__tag_vect__min_df = 1)\n",
        "pip_svc.set_params(trans__tag_vec__tag_vect__ngram_range = (1,1))\n",
        "pip_svc.set_params(trans__at_vec__at_vect__max_df = 1.)\n",
        "pip_svc.set_params(trans__at_vec__at_vect__min_df = 1)\n",
        "pip_svc.set_params(trans__at_vec__at_vect__ngram_range = (1,1))\n",
        "\n",
        "tuned_parameters = ({\n",
        "    'trans__text_vec__text_tfidf__max_df': (0.1, 0.5, 1.0),\n",
        "    'trans__text_vec__text_tfidf__ngram_range': ((1,1), (1,2), (2,2)),\n",
        "    'clf__penalty': ('l1', 'l2',),\n",
        "    'clf__C': (0.1, 0.5, 1.0, 2.0, 10),\n",
        "})\n",
        "\n",
        "perform_grid_search(pip_svc, tuned_parameters)"
      ],
      "execution_count": 54,
      "outputs": [
        {
          "output_type": "stream",
          "text": [
            "Performing grid search...\n",
            "pipeline: ['trans', 'clf']\n",
            "parameters to be tuned:\n",
            "{'clf__C': (0.1, 0.5, 1.0, 2.0, 10),\n",
            " 'clf__penalty': ('l1', 'l2'),\n",
            " 'trans__text_vec__text_tfidf__max_df': (0.1, 0.5, 1.0),\n",
            " 'trans__text_vec__text_tfidf__ngram_range': ((1, 1), (1, 2), (2, 2))}\n",
            "Fitting 5 folds for each of 90 candidates, totalling 450 fits\n"
          ],
          "name": "stdout"
        },
        {
          "output_type": "stream",
          "text": [
            "[Parallel(n_jobs=-1)]: Using backend LokyBackend with 2 concurrent workers.\n",
            "[Parallel(n_jobs=-1)]: Done  46 tasks      | elapsed:   11.3s\n",
            "[Parallel(n_jobs=-1)]: Done 196 tasks      | elapsed:   52.4s\n",
            "[Parallel(n_jobs=-1)]: Done 446 tasks      | elapsed:  2.3min\n",
            "[Parallel(n_jobs=-1)]: Done 450 out of 450 | elapsed:  2.3min finished\n"
          ],
          "name": "stderr"
        },
        {
          "output_type": "stream",
          "text": [
            "[Pipeline] ........ (step 1 of 4) Processing kw_extract, total=   0.0s\n",
            "[Pipeline] ............ (step 2 of 4) Processing kw_imp, total=   0.0s\n",
            "[Pipeline] .......... (step 3 of 4) Processing kw_ravel, total=   0.0s\n",
            "[Pipeline] ........... (step 4 of 4) Processing kw_vect, total=   0.0s\n",
            "[Pipeline] ........... (step 1 of 2) Processing loc_imp, total=   0.0s\n",
            "[Pipeline] ........... (step 2 of 2) Processing loc_ohe, total=   0.0s\n",
            "[Pipeline] ........ (step 1 of 2) Processing text_clean, total=   0.0s\n",
            "[Pipeline] ........ (step 2 of 2) Processing text_tfidf, total=   0.1s\n",
            "[Pipeline] ....... (step 1 of 4) Processing tag_extract, total=   0.0s\n",
            "[Pipeline] ........... (step 2 of 4) Processing tag_imp, total=   0.0s\n",
            "[Pipeline] ......... (step 3 of 4) Processing tag_ravel, total=   0.0s\n",
            "[Pipeline] .......... (step 4 of 4) Processing tag_vect, total=   0.0s\n",
            "[Pipeline] ........ (step 1 of 4) Processing at_extract, total=   0.0s\n",
            "[Pipeline] ............ (step 2 of 4) Processing at_imp, total=   0.0s\n",
            "[Pipeline] .......... (step 3 of 4) Processing at_ravel, total=   0.0s\n",
            "[Pipeline] ........... (step 4 of 4) Processing at_vect, total=   0.0s\n",
            "[Pipeline] ............. (step 1 of 2) Processing trans, total=   0.2s\n",
            "[Pipeline] ............... (step 2 of 2) Processing clf, total=   0.0s\n",
            "Best parameters set found on train set:\n",
            "\n",
            "{'clf__C': 0.1, 'clf__penalty': 'l2', 'trans__text_vec__text_tfidf__max_df': 0.5, 'trans__text_vec__text_tfidf__ngram_range': (1, 1)}\n",
            "Grid scores on train set:\n",
            "\n",
            "nan (+/-nan) for {'clf__C': 0.1, 'clf__penalty': 'l1', 'trans__text_vec__text_tfidf__max_df': 0.1, 'trans__text_vec__text_tfidf__ngram_range': (1, 1)}\n",
            "nan (+/-nan) for {'clf__C': 0.1, 'clf__penalty': 'l1', 'trans__text_vec__text_tfidf__max_df': 0.1, 'trans__text_vec__text_tfidf__ngram_range': (1, 2)}\n",
            "nan (+/-nan) for {'clf__C': 0.1, 'clf__penalty': 'l1', 'trans__text_vec__text_tfidf__max_df': 0.1, 'trans__text_vec__text_tfidf__ngram_range': (2, 2)}\n",
            "nan (+/-nan) for {'clf__C': 0.1, 'clf__penalty': 'l1', 'trans__text_vec__text_tfidf__max_df': 0.5, 'trans__text_vec__text_tfidf__ngram_range': (1, 1)}\n",
            "nan (+/-nan) for {'clf__C': 0.1, 'clf__penalty': 'l1', 'trans__text_vec__text_tfidf__max_df': 0.5, 'trans__text_vec__text_tfidf__ngram_range': (1, 2)}\n",
            "nan (+/-nan) for {'clf__C': 0.1, 'clf__penalty': 'l1', 'trans__text_vec__text_tfidf__max_df': 0.5, 'trans__text_vec__text_tfidf__ngram_range': (2, 2)}\n",
            "nan (+/-nan) for {'clf__C': 0.1, 'clf__penalty': 'l1', 'trans__text_vec__text_tfidf__max_df': 1.0, 'trans__text_vec__text_tfidf__ngram_range': (1, 1)}\n",
            "nan (+/-nan) for {'clf__C': 0.1, 'clf__penalty': 'l1', 'trans__text_vec__text_tfidf__max_df': 1.0, 'trans__text_vec__text_tfidf__ngram_range': (1, 2)}\n",
            "nan (+/-nan) for {'clf__C': 0.1, 'clf__penalty': 'l1', 'trans__text_vec__text_tfidf__max_df': 1.0, 'trans__text_vec__text_tfidf__ngram_range': (2, 2)}\n",
            "0.780 (+/-0.008) for {'clf__C': 0.1, 'clf__penalty': 'l2', 'trans__text_vec__text_tfidf__max_df': 0.1, 'trans__text_vec__text_tfidf__ngram_range': (1, 1)}\n",
            "0.777 (+/-0.008) for {'clf__C': 0.1, 'clf__penalty': 'l2', 'trans__text_vec__text_tfidf__max_df': 0.1, 'trans__text_vec__text_tfidf__ngram_range': (1, 2)}\n",
            "0.751 (+/-0.012) for {'clf__C': 0.1, 'clf__penalty': 'l2', 'trans__text_vec__text_tfidf__max_df': 0.1, 'trans__text_vec__text_tfidf__ngram_range': (2, 2)}\n",
            "0.785 (+/-0.007) for {'clf__C': 0.1, 'clf__penalty': 'l2', 'trans__text_vec__text_tfidf__max_df': 0.5, 'trans__text_vec__text_tfidf__ngram_range': (1, 1)}\n",
            "0.781 (+/-0.007) for {'clf__C': 0.1, 'clf__penalty': 'l2', 'trans__text_vec__text_tfidf__max_df': 0.5, 'trans__text_vec__text_tfidf__ngram_range': (1, 2)}\n",
            "0.751 (+/-0.012) for {'clf__C': 0.1, 'clf__penalty': 'l2', 'trans__text_vec__text_tfidf__max_df': 0.5, 'trans__text_vec__text_tfidf__ngram_range': (2, 2)}\n",
            "0.785 (+/-0.007) for {'clf__C': 0.1, 'clf__penalty': 'l2', 'trans__text_vec__text_tfidf__max_df': 1.0, 'trans__text_vec__text_tfidf__ngram_range': (1, 1)}\n",
            "0.781 (+/-0.007) for {'clf__C': 0.1, 'clf__penalty': 'l2', 'trans__text_vec__text_tfidf__max_df': 1.0, 'trans__text_vec__text_tfidf__ngram_range': (1, 2)}\n",
            "0.751 (+/-0.012) for {'clf__C': 0.1, 'clf__penalty': 'l2', 'trans__text_vec__text_tfidf__max_df': 1.0, 'trans__text_vec__text_tfidf__ngram_range': (2, 2)}\n",
            "nan (+/-nan) for {'clf__C': 0.5, 'clf__penalty': 'l1', 'trans__text_vec__text_tfidf__max_df': 0.1, 'trans__text_vec__text_tfidf__ngram_range': (1, 1)}\n",
            "nan (+/-nan) for {'clf__C': 0.5, 'clf__penalty': 'l1', 'trans__text_vec__text_tfidf__max_df': 0.1, 'trans__text_vec__text_tfidf__ngram_range': (1, 2)}\n",
            "nan (+/-nan) for {'clf__C': 0.5, 'clf__penalty': 'l1', 'trans__text_vec__text_tfidf__max_df': 0.1, 'trans__text_vec__text_tfidf__ngram_range': (2, 2)}\n",
            "nan (+/-nan) for {'clf__C': 0.5, 'clf__penalty': 'l1', 'trans__text_vec__text_tfidf__max_df': 0.5, 'trans__text_vec__text_tfidf__ngram_range': (1, 1)}\n",
            "nan (+/-nan) for {'clf__C': 0.5, 'clf__penalty': 'l1', 'trans__text_vec__text_tfidf__max_df': 0.5, 'trans__text_vec__text_tfidf__ngram_range': (1, 2)}\n",
            "nan (+/-nan) for {'clf__C': 0.5, 'clf__penalty': 'l1', 'trans__text_vec__text_tfidf__max_df': 0.5, 'trans__text_vec__text_tfidf__ngram_range': (2, 2)}\n",
            "nan (+/-nan) for {'clf__C': 0.5, 'clf__penalty': 'l1', 'trans__text_vec__text_tfidf__max_df': 1.0, 'trans__text_vec__text_tfidf__ngram_range': (1, 1)}\n",
            "nan (+/-nan) for {'clf__C': 0.5, 'clf__penalty': 'l1', 'trans__text_vec__text_tfidf__max_df': 1.0, 'trans__text_vec__text_tfidf__ngram_range': (1, 2)}\n",
            "nan (+/-nan) for {'clf__C': 0.5, 'clf__penalty': 'l1', 'trans__text_vec__text_tfidf__max_df': 1.0, 'trans__text_vec__text_tfidf__ngram_range': (2, 2)}\n",
            "0.774 (+/-0.013) for {'clf__C': 0.5, 'clf__penalty': 'l2', 'trans__text_vec__text_tfidf__max_df': 0.1, 'trans__text_vec__text_tfidf__ngram_range': (1, 1)}\n",
            "0.778 (+/-0.011) for {'clf__C': 0.5, 'clf__penalty': 'l2', 'trans__text_vec__text_tfidf__max_df': 0.1, 'trans__text_vec__text_tfidf__ngram_range': (1, 2)}\n",
            "0.753 (+/-0.017) for {'clf__C': 0.5, 'clf__penalty': 'l2', 'trans__text_vec__text_tfidf__max_df': 0.1, 'trans__text_vec__text_tfidf__ngram_range': (2, 2)}\n",
            "0.775 (+/-0.013) for {'clf__C': 0.5, 'clf__penalty': 'l2', 'trans__text_vec__text_tfidf__max_df': 0.5, 'trans__text_vec__text_tfidf__ngram_range': (1, 1)}\n",
            "0.781 (+/-0.010) for {'clf__C': 0.5, 'clf__penalty': 'l2', 'trans__text_vec__text_tfidf__max_df': 0.5, 'trans__text_vec__text_tfidf__ngram_range': (1, 2)}\n",
            "0.753 (+/-0.017) for {'clf__C': 0.5, 'clf__penalty': 'l2', 'trans__text_vec__text_tfidf__max_df': 0.5, 'trans__text_vec__text_tfidf__ngram_range': (2, 2)}\n",
            "0.775 (+/-0.013) for {'clf__C': 0.5, 'clf__penalty': 'l2', 'trans__text_vec__text_tfidf__max_df': 1.0, 'trans__text_vec__text_tfidf__ngram_range': (1, 1)}\n",
            "0.781 (+/-0.010) for {'clf__C': 0.5, 'clf__penalty': 'l2', 'trans__text_vec__text_tfidf__max_df': 1.0, 'trans__text_vec__text_tfidf__ngram_range': (1, 2)}\n",
            "0.753 (+/-0.017) for {'clf__C': 0.5, 'clf__penalty': 'l2', 'trans__text_vec__text_tfidf__max_df': 1.0, 'trans__text_vec__text_tfidf__ngram_range': (2, 2)}\n",
            "nan (+/-nan) for {'clf__C': 1.0, 'clf__penalty': 'l1', 'trans__text_vec__text_tfidf__max_df': 0.1, 'trans__text_vec__text_tfidf__ngram_range': (1, 1)}\n",
            "nan (+/-nan) for {'clf__C': 1.0, 'clf__penalty': 'l1', 'trans__text_vec__text_tfidf__max_df': 0.1, 'trans__text_vec__text_tfidf__ngram_range': (1, 2)}\n",
            "nan (+/-nan) for {'clf__C': 1.0, 'clf__penalty': 'l1', 'trans__text_vec__text_tfidf__max_df': 0.1, 'trans__text_vec__text_tfidf__ngram_range': (2, 2)}\n",
            "nan (+/-nan) for {'clf__C': 1.0, 'clf__penalty': 'l1', 'trans__text_vec__text_tfidf__max_df': 0.5, 'trans__text_vec__text_tfidf__ngram_range': (1, 1)}\n",
            "nan (+/-nan) for {'clf__C': 1.0, 'clf__penalty': 'l1', 'trans__text_vec__text_tfidf__max_df': 0.5, 'trans__text_vec__text_tfidf__ngram_range': (1, 2)}\n",
            "nan (+/-nan) for {'clf__C': 1.0, 'clf__penalty': 'l1', 'trans__text_vec__text_tfidf__max_df': 0.5, 'trans__text_vec__text_tfidf__ngram_range': (2, 2)}\n",
            "nan (+/-nan) for {'clf__C': 1.0, 'clf__penalty': 'l1', 'trans__text_vec__text_tfidf__max_df': 1.0, 'trans__text_vec__text_tfidf__ngram_range': (1, 1)}\n",
            "nan (+/-nan) for {'clf__C': 1.0, 'clf__penalty': 'l1', 'trans__text_vec__text_tfidf__max_df': 1.0, 'trans__text_vec__text_tfidf__ngram_range': (1, 2)}\n",
            "nan (+/-nan) for {'clf__C': 1.0, 'clf__penalty': 'l1', 'trans__text_vec__text_tfidf__max_df': 1.0, 'trans__text_vec__text_tfidf__ngram_range': (2, 2)}\n",
            "0.766 (+/-0.014) for {'clf__C': 1.0, 'clf__penalty': 'l2', 'trans__text_vec__text_tfidf__max_df': 0.1, 'trans__text_vec__text_tfidf__ngram_range': (1, 1)}\n",
            "0.777 (+/-0.010) for {'clf__C': 1.0, 'clf__penalty': 'l2', 'trans__text_vec__text_tfidf__max_df': 0.1, 'trans__text_vec__text_tfidf__ngram_range': (1, 2)}\n",
            "0.751 (+/-0.016) for {'clf__C': 1.0, 'clf__penalty': 'l2', 'trans__text_vec__text_tfidf__max_df': 0.1, 'trans__text_vec__text_tfidf__ngram_range': (2, 2)}\n",
            "0.771 (+/-0.013) for {'clf__C': 1.0, 'clf__penalty': 'l2', 'trans__text_vec__text_tfidf__max_df': 0.5, 'trans__text_vec__text_tfidf__ngram_range': (1, 1)}\n",
            "0.778 (+/-0.011) for {'clf__C': 1.0, 'clf__penalty': 'l2', 'trans__text_vec__text_tfidf__max_df': 0.5, 'trans__text_vec__text_tfidf__ngram_range': (1, 2)}\n",
            "0.751 (+/-0.016) for {'clf__C': 1.0, 'clf__penalty': 'l2', 'trans__text_vec__text_tfidf__max_df': 0.5, 'trans__text_vec__text_tfidf__ngram_range': (2, 2)}\n",
            "0.771 (+/-0.013) for {'clf__C': 1.0, 'clf__penalty': 'l2', 'trans__text_vec__text_tfidf__max_df': 1.0, 'trans__text_vec__text_tfidf__ngram_range': (1, 1)}\n",
            "0.778 (+/-0.011) for {'clf__C': 1.0, 'clf__penalty': 'l2', 'trans__text_vec__text_tfidf__max_df': 1.0, 'trans__text_vec__text_tfidf__ngram_range': (1, 2)}\n",
            "0.751 (+/-0.016) for {'clf__C': 1.0, 'clf__penalty': 'l2', 'trans__text_vec__text_tfidf__max_df': 1.0, 'trans__text_vec__text_tfidf__ngram_range': (2, 2)}\n",
            "nan (+/-nan) for {'clf__C': 2.0, 'clf__penalty': 'l1', 'trans__text_vec__text_tfidf__max_df': 0.1, 'trans__text_vec__text_tfidf__ngram_range': (1, 1)}\n",
            "nan (+/-nan) for {'clf__C': 2.0, 'clf__penalty': 'l1', 'trans__text_vec__text_tfidf__max_df': 0.1, 'trans__text_vec__text_tfidf__ngram_range': (1, 2)}\n",
            "nan (+/-nan) for {'clf__C': 2.0, 'clf__penalty': 'l1', 'trans__text_vec__text_tfidf__max_df': 0.1, 'trans__text_vec__text_tfidf__ngram_range': (2, 2)}\n",
            "nan (+/-nan) for {'clf__C': 2.0, 'clf__penalty': 'l1', 'trans__text_vec__text_tfidf__max_df': 0.5, 'trans__text_vec__text_tfidf__ngram_range': (1, 1)}\n",
            "nan (+/-nan) for {'clf__C': 2.0, 'clf__penalty': 'l1', 'trans__text_vec__text_tfidf__max_df': 0.5, 'trans__text_vec__text_tfidf__ngram_range': (1, 2)}\n",
            "nan (+/-nan) for {'clf__C': 2.0, 'clf__penalty': 'l1', 'trans__text_vec__text_tfidf__max_df': 0.5, 'trans__text_vec__text_tfidf__ngram_range': (2, 2)}\n",
            "nan (+/-nan) for {'clf__C': 2.0, 'clf__penalty': 'l1', 'trans__text_vec__text_tfidf__max_df': 1.0, 'trans__text_vec__text_tfidf__ngram_range': (1, 1)}\n",
            "nan (+/-nan) for {'clf__C': 2.0, 'clf__penalty': 'l1', 'trans__text_vec__text_tfidf__max_df': 1.0, 'trans__text_vec__text_tfidf__ngram_range': (1, 2)}\n",
            "nan (+/-nan) for {'clf__C': 2.0, 'clf__penalty': 'l1', 'trans__text_vec__text_tfidf__max_df': 1.0, 'trans__text_vec__text_tfidf__ngram_range': (2, 2)}\n",
            "0.761 (+/-0.012) for {'clf__C': 2.0, 'clf__penalty': 'l2', 'trans__text_vec__text_tfidf__max_df': 0.1, 'trans__text_vec__text_tfidf__ngram_range': (1, 1)}\n",
            "0.773 (+/-0.010) for {'clf__C': 2.0, 'clf__penalty': 'l2', 'trans__text_vec__text_tfidf__max_df': 0.1, 'trans__text_vec__text_tfidf__ngram_range': (1, 2)}\n",
            "0.748 (+/-0.013) for {'clf__C': 2.0, 'clf__penalty': 'l2', 'trans__text_vec__text_tfidf__max_df': 0.1, 'trans__text_vec__text_tfidf__ngram_range': (2, 2)}\n",
            "0.764 (+/-0.015) for {'clf__C': 2.0, 'clf__penalty': 'l2', 'trans__text_vec__text_tfidf__max_df': 0.5, 'trans__text_vec__text_tfidf__ngram_range': (1, 1)}\n",
            "0.776 (+/-0.011) for {'clf__C': 2.0, 'clf__penalty': 'l2', 'trans__text_vec__text_tfidf__max_df': 0.5, 'trans__text_vec__text_tfidf__ngram_range': (1, 2)}\n",
            "0.748 (+/-0.013) for {'clf__C': 2.0, 'clf__penalty': 'l2', 'trans__text_vec__text_tfidf__max_df': 0.5, 'trans__text_vec__text_tfidf__ngram_range': (2, 2)}\n",
            "0.764 (+/-0.015) for {'clf__C': 2.0, 'clf__penalty': 'l2', 'trans__text_vec__text_tfidf__max_df': 1.0, 'trans__text_vec__text_tfidf__ngram_range': (1, 1)}\n",
            "0.776 (+/-0.011) for {'clf__C': 2.0, 'clf__penalty': 'l2', 'trans__text_vec__text_tfidf__max_df': 1.0, 'trans__text_vec__text_tfidf__ngram_range': (1, 2)}\n",
            "0.748 (+/-0.013) for {'clf__C': 2.0, 'clf__penalty': 'l2', 'trans__text_vec__text_tfidf__max_df': 1.0, 'trans__text_vec__text_tfidf__ngram_range': (2, 2)}\n",
            "nan (+/-nan) for {'clf__C': 10, 'clf__penalty': 'l1', 'trans__text_vec__text_tfidf__max_df': 0.1, 'trans__text_vec__text_tfidf__ngram_range': (1, 1)}\n",
            "nan (+/-nan) for {'clf__C': 10, 'clf__penalty': 'l1', 'trans__text_vec__text_tfidf__max_df': 0.1, 'trans__text_vec__text_tfidf__ngram_range': (1, 2)}\n",
            "nan (+/-nan) for {'clf__C': 10, 'clf__penalty': 'l1', 'trans__text_vec__text_tfidf__max_df': 0.1, 'trans__text_vec__text_tfidf__ngram_range': (2, 2)}\n",
            "nan (+/-nan) for {'clf__C': 10, 'clf__penalty': 'l1', 'trans__text_vec__text_tfidf__max_df': 0.5, 'trans__text_vec__text_tfidf__ngram_range': (1, 1)}\n",
            "nan (+/-nan) for {'clf__C': 10, 'clf__penalty': 'l1', 'trans__text_vec__text_tfidf__max_df': 0.5, 'trans__text_vec__text_tfidf__ngram_range': (1, 2)}\n",
            "nan (+/-nan) for {'clf__C': 10, 'clf__penalty': 'l1', 'trans__text_vec__text_tfidf__max_df': 0.5, 'trans__text_vec__text_tfidf__ngram_range': (2, 2)}\n",
            "nan (+/-nan) for {'clf__C': 10, 'clf__penalty': 'l1', 'trans__text_vec__text_tfidf__max_df': 1.0, 'trans__text_vec__text_tfidf__ngram_range': (1, 1)}\n",
            "nan (+/-nan) for {'clf__C': 10, 'clf__penalty': 'l1', 'trans__text_vec__text_tfidf__max_df': 1.0, 'trans__text_vec__text_tfidf__ngram_range': (1, 2)}\n",
            "nan (+/-nan) for {'clf__C': 10, 'clf__penalty': 'l1', 'trans__text_vec__text_tfidf__max_df': 1.0, 'trans__text_vec__text_tfidf__ngram_range': (2, 2)}\n",
            "0.755 (+/-0.012) for {'clf__C': 10, 'clf__penalty': 'l2', 'trans__text_vec__text_tfidf__max_df': 0.1, 'trans__text_vec__text_tfidf__ngram_range': (1, 1)}\n",
            "0.770 (+/-0.011) for {'clf__C': 10, 'clf__penalty': 'l2', 'trans__text_vec__text_tfidf__max_df': 0.1, 'trans__text_vec__text_tfidf__ngram_range': (1, 2)}\n",
            "0.740 (+/-0.010) for {'clf__C': 10, 'clf__penalty': 'l2', 'trans__text_vec__text_tfidf__max_df': 0.1, 'trans__text_vec__text_tfidf__ngram_range': (2, 2)}\n",
            "0.754 (+/-0.014) for {'clf__C': 10, 'clf__penalty': 'l2', 'trans__text_vec__text_tfidf__max_df': 0.5, 'trans__text_vec__text_tfidf__ngram_range': (1, 1)}\n",
            "0.771 (+/-0.011) for {'clf__C': 10, 'clf__penalty': 'l2', 'trans__text_vec__text_tfidf__max_df': 0.5, 'trans__text_vec__text_tfidf__ngram_range': (1, 2)}\n",
            "0.740 (+/-0.010) for {'clf__C': 10, 'clf__penalty': 'l2', 'trans__text_vec__text_tfidf__max_df': 0.5, 'trans__text_vec__text_tfidf__ngram_range': (2, 2)}\n",
            "0.754 (+/-0.014) for {'clf__C': 10, 'clf__penalty': 'l2', 'trans__text_vec__text_tfidf__max_df': 1.0, 'trans__text_vec__text_tfidf__ngram_range': (1, 1)}\n",
            "0.771 (+/-0.011) for {'clf__C': 10, 'clf__penalty': 'l2', 'trans__text_vec__text_tfidf__max_df': 1.0, 'trans__text_vec__text_tfidf__ngram_range': (1, 2)}\n",
            "0.740 (+/-0.010) for {'clf__C': 10, 'clf__penalty': 'l2', 'trans__text_vec__text_tfidf__max_df': 1.0, 'trans__text_vec__text_tfidf__ngram_range': (2, 2)}\n",
            "\n",
            "Detailed classification report:\n",
            "\n",
            "              precision    recall  f1-score   support\n",
            "\n",
            "           0       0.79      0.86      0.82      1288\n",
            "           1       0.79      0.71      0.75       996\n",
            "\n",
            "    accuracy                           0.79      2284\n",
            "   macro avg       0.79      0.78      0.79      2284\n",
            "weighted avg       0.79      0.79      0.79      2284\n",
            "\n"
          ],
          "name": "stdout"
        }
      ]
    },
    {
      "cell_type": "code",
      "metadata": {
        "id": "_e7nhymWgc7g",
        "colab_type": "code",
        "colab": {
          "base_uri": "https://localhost:8080/",
          "height": 503
        },
        "outputId": "fb9459af-ffc5-43ba-e65f-060cc2fe6eeb"
      },
      "source": [
        "pip_svc.set_params(trans__text_vec__text_tfidf__max_df = 0.5)\n",
        "pip_svc.set_params(trans__text_vec__text_tfidf__ngram_range = (1,1))\n",
        "pip_svc.set_params(clf__penalty = 'l2')\n",
        "pip_svc.set_params(clf__C = 0.1)\n",
        "\n",
        "pip_svc.fit(X_train, y_train)\n",
        "y_pred = pip_svc.predict(X_test)\n",
        "print(skm.classification_report(y_test, y_pred))"
      ],
      "execution_count": 69,
      "outputs": [
        {
          "output_type": "stream",
          "text": [
            "[Pipeline] ........ (step 1 of 4) Processing kw_extract, total=   0.0s\n",
            "[Pipeline] ............ (step 2 of 4) Processing kw_imp, total=   0.0s\n",
            "[Pipeline] .......... (step 3 of 4) Processing kw_ravel, total=   0.0s\n",
            "[Pipeline] ........... (step 4 of 4) Processing kw_vect, total=   0.0s\n",
            "[Pipeline] ........... (step 1 of 2) Processing loc_imp, total=   0.0s\n",
            "[Pipeline] ........... (step 2 of 2) Processing loc_ohe, total=   0.0s\n",
            "[Pipeline] ........ (step 1 of 2) Processing text_clean, total=   0.0s\n",
            "[Pipeline] ........ (step 2 of 2) Processing text_tfidf, total=   0.1s\n",
            "[Pipeline] ....... (step 1 of 4) Processing tag_extract, total=   0.0s\n",
            "[Pipeline] ........... (step 2 of 4) Processing tag_imp, total=   0.0s\n",
            "[Pipeline] ......... (step 3 of 4) Processing tag_ravel, total=   0.0s\n",
            "[Pipeline] .......... (step 4 of 4) Processing tag_vect, total=   0.0s\n",
            "[Pipeline] ........ (step 1 of 4) Processing at_extract, total=   0.0s\n",
            "[Pipeline] ............ (step 2 of 4) Processing at_imp, total=   0.0s\n",
            "[Pipeline] .......... (step 3 of 4) Processing at_ravel, total=   0.0s\n",
            "[Pipeline] ........... (step 4 of 4) Processing at_vect, total=   0.0s\n",
            "[Pipeline] ............. (step 1 of 2) Processing trans, total=   0.2s\n",
            "[Pipeline] ............... (step 2 of 2) Processing clf, total=   0.0s\n",
            "              precision    recall  f1-score   support\n",
            "\n",
            "           0       0.79      0.86      0.82      1288\n",
            "           1       0.79      0.71      0.75       996\n",
            "\n",
            "    accuracy                           0.79      2284\n",
            "   macro avg       0.79      0.78      0.79      2284\n",
            "weighted avg       0.79      0.79      0.79      2284\n",
            "\n"
          ],
          "name": "stdout"
        }
      ]
    },
    {
      "cell_type": "code",
      "metadata": {
        "id": "YVWHPuDzf6fd",
        "colab_type": "code",
        "colab": {
          "base_uri": "https://localhost:8080/",
          "height": 235
        },
        "outputId": "9e05989d-92a7-4f28-c5e0-2874fb131d60"
      },
      "source": [
        "predict_submit(pip_svc, file_sub='sub_disaster_tweets_Tfidf_SVC.csv', file_local=True, \n",
        "               sub_to_kaggle=True, sub_message='Tfidf_SVC_CrossValidation')"
      ],
      "execution_count": 70,
      "outputs": [
        {
          "output_type": "stream",
          "text": [
            "/usr/local/lib/python3.6/dist-packages/sklearn/compose/_column_transformer.py:430: FutureWarning: Given feature/column names or counts do not match the ones for the data given during fit. This will fail from v0.24.\n",
            "  FutureWarning)\n"
          ],
          "name": "stderr"
        },
        {
          "output_type": "stream",
          "text": [
            "   id  target\n",
            "0   0       1\n",
            "1   2       1\n",
            "2   3       1\n",
            "3   9       1\n",
            "4  11       1\n",
            "0    2082\n",
            "1    1181\n",
            "Name: target, dtype: int64\n"
          ],
          "name": "stdout"
        }
      ]
    },
    {
      "cell_type": "markdown",
      "metadata": {
        "id": "FvJPRsYy7WTN",
        "colab_type": "text"
      },
      "source": [
        "### Gradient Boosting Decision Trees (GBDT)"
      ]
    },
    {
      "cell_type": "code",
      "metadata": {
        "id": "M_8TcPT77Uqh",
        "colab_type": "code",
        "colab": {}
      },
      "source": [
        "from sklearn.ensemble import GradientBoostingClassifier\n",
        "\n",
        "clf_gbc = GradientBoostingClassifier(\n",
        "    n_estimators=100, \n",
        "    learning_rate=.1, \n",
        "    max_leaf_nodes=10,\n",
        "    subsample=0.5, \n",
        "    random_state=0\n",
        "    )\n",
        "\n",
        "pip_gbc = Pipeline([\n",
        "    ('trans', transformer),\n",
        "    ('clf_gbc', clf_gbc)                    \n",
        "    ], verbose = True)"
      ],
      "execution_count": 0,
      "outputs": []
    },
    {
      "cell_type": "code",
      "metadata": {
        "id": "TPHkv75X8rox",
        "colab_type": "code",
        "outputId": "82ec16b9-eb9d-4cc9-9b36-30e30d91fb8d",
        "colab": {
          "base_uri": "https://localhost:8080/",
          "height": 341
        }
      },
      "source": [
        "X_train, X_test, y_train, y_test = ms.train_test_split(\n",
        "    df_train[['keyword', 'location', 'text']], df_train['target'],\n",
        "    test_size = 0.3, random_state = 1234\n",
        "    )\n",
        "\n",
        "pip_gbc_fit = pip_gbc.fit(X_train, y_train)"
      ],
      "execution_count": 60,
      "outputs": [
        {
          "output_type": "stream",
          "text": [
            "[Pipeline] ........ (step 1 of 4) Processing kw_extract, total=   0.0s\n",
            "[Pipeline] ............ (step 2 of 4) Processing kw_imp, total=   0.0s\n",
            "[Pipeline] .......... (step 3 of 4) Processing kw_ravel, total=   0.0s\n",
            "[Pipeline] ........... (step 4 of 4) Processing kw_vect, total=   0.0s\n",
            "[Pipeline] ........... (step 1 of 2) Processing loc_imp, total=   0.0s\n",
            "[Pipeline] ........... (step 2 of 2) Processing loc_ohe, total=   0.0s\n",
            "[Pipeline] ........ (step 1 of 2) Processing text_clean, total=   0.0s\n",
            "[Pipeline] ........ (step 2 of 2) Processing text_tfidf, total=   0.1s\n",
            "[Pipeline] ....... (step 1 of 4) Processing tag_extract, total=   0.0s\n",
            "[Pipeline] ........... (step 2 of 4) Processing tag_imp, total=   0.0s\n",
            "[Pipeline] ......... (step 3 of 4) Processing tag_ravel, total=   0.0s\n",
            "[Pipeline] .......... (step 4 of 4) Processing tag_vect, total=   0.0s\n",
            "[Pipeline] ........ (step 1 of 4) Processing at_extract, total=   0.0s\n",
            "[Pipeline] ............ (step 2 of 4) Processing at_imp, total=   0.0s\n",
            "[Pipeline] .......... (step 3 of 4) Processing at_ravel, total=   0.0s\n",
            "[Pipeline] ........... (step 4 of 4) Processing at_vect, total=   0.0s\n",
            "[Pipeline] ............. (step 1 of 2) Processing trans, total=   0.2s\n",
            "[Pipeline] ........... (step 2 of 2) Processing clf_gbc, total=   2.5s\n"
          ],
          "name": "stdout"
        }
      ]
    },
    {
      "cell_type": "code",
      "metadata": {
        "id": "-NUBbqBM9372",
        "colab_type": "code",
        "outputId": "ed0afe9e-c4a0-4d43-d432-ecc66b9ba5c6",
        "colab": {
          "base_uri": "https://localhost:8080/",
          "height": 197
        }
      },
      "source": [
        "y_pred = pip_gbc.predict(X_test)\n",
        "print(skm.classification_report(y_test, y_pred))\n",
        "print(pip_gbc.score(X_test, y_test))"
      ],
      "execution_count": 61,
      "outputs": [
        {
          "output_type": "stream",
          "text": [
            "              precision    recall  f1-score   support\n",
            "\n",
            "           0       0.73      0.87      0.80      1288\n",
            "           1       0.78      0.59      0.67       996\n",
            "\n",
            "    accuracy                           0.75      2284\n",
            "   macro avg       0.76      0.73      0.73      2284\n",
            "weighted avg       0.75      0.75      0.74      2284\n",
            "\n",
            "0.749124343257443\n"
          ],
          "name": "stdout"
        }
      ]
    },
    {
      "cell_type": "markdown",
      "metadata": {
        "id": "zxo5X3q1UFAR",
        "colab_type": "text"
      },
      "source": [
        "#### Grid search with cross validation"
      ]
    },
    {
      "cell_type": "code",
      "metadata": {
        "id": "rpwr87_Paguu",
        "colab_type": "code",
        "outputId": "99478c31-7280-4400-9302-2feed37dcc84",
        "colab": {
          "base_uri": "https://localhost:8080/",
          "height": 1000
        }
      },
      "source": [
        "tuned_parameters = {\n",
        "    'clf_gbc__n_estimators': (10, 100, 200, 400),\n",
        "    'clf_gbc__learning_rate': (1., 0.5, 0.1),\n",
        "    'clf_gbc__max_leaf_nodes': (2, 5, 10, 20),\n",
        "}\n",
        "\n",
        "perform_grid_search(pip_gbc, tuned_parameters)"
      ],
      "execution_count": 66,
      "outputs": [
        {
          "output_type": "stream",
          "text": [
            "Performing grid search...\n",
            "pipeline: ['trans', 'clf_gbc']\n",
            "parameters to be tuned:\n",
            "{'clf_gbc__learning_rate': (1.0, 0.5, 0.1),\n",
            " 'clf_gbc__max_leaf_nodes': (2, 5, 10, 20),\n",
            " 'clf_gbc__n_estimators': (10, 100, 200, 400)}\n",
            "Fitting 5 folds for each of 48 candidates, totalling 240 fits\n"
          ],
          "name": "stdout"
        },
        {
          "output_type": "stream",
          "text": [
            "[Parallel(n_jobs=-1)]: Using backend LokyBackend with 2 concurrent workers.\n",
            "[Parallel(n_jobs=-1)]: Done  46 tasks      | elapsed:  1.6min\n",
            "[Parallel(n_jobs=-1)]: Done 196 tasks      | elapsed:  7.8min\n",
            "[Parallel(n_jobs=-1)]: Done 240 out of 240 | elapsed: 10.1min finished\n"
          ],
          "name": "stderr"
        },
        {
          "output_type": "stream",
          "text": [
            "[Pipeline] ........ (step 1 of 4) Processing kw_extract, total=   0.0s\n",
            "[Pipeline] ............ (step 2 of 4) Processing kw_imp, total=   0.0s\n",
            "[Pipeline] .......... (step 3 of 4) Processing kw_ravel, total=   0.0s\n",
            "[Pipeline] ........... (step 4 of 4) Processing kw_vect, total=   0.0s\n",
            "[Pipeline] ........... (step 1 of 2) Processing loc_imp, total=   0.0s\n",
            "[Pipeline] ........... (step 2 of 2) Processing loc_ohe, total=   0.0s\n",
            "[Pipeline] ........ (step 1 of 2) Processing text_clean, total=   0.0s\n",
            "[Pipeline] ........ (step 2 of 2) Processing text_tfidf, total=   0.1s\n",
            "[Pipeline] ....... (step 1 of 4) Processing tag_extract, total=   0.0s\n",
            "[Pipeline] ........... (step 2 of 4) Processing tag_imp, total=   0.0s\n",
            "[Pipeline] ......... (step 3 of 4) Processing tag_ravel, total=   0.0s\n",
            "[Pipeline] .......... (step 4 of 4) Processing tag_vect, total=   0.0s\n",
            "[Pipeline] ........ (step 1 of 4) Processing at_extract, total=   0.0s\n",
            "[Pipeline] ............ (step 2 of 4) Processing at_imp, total=   0.0s\n",
            "[Pipeline] .......... (step 3 of 4) Processing at_ravel, total=   0.0s\n",
            "[Pipeline] ........... (step 4 of 4) Processing at_vect, total=   0.0s\n",
            "[Pipeline] ............. (step 1 of 2) Processing trans, total=   0.2s\n",
            "[Pipeline] ........... (step 2 of 2) Processing clf_gbc, total=   9.0s\n",
            "Best parameters set found on train set:\n",
            "\n",
            "{'clf_gbc__learning_rate': 0.1, 'clf_gbc__max_leaf_nodes': 5, 'clf_gbc__n_estimators': 400}\n",
            "Grid scores on train set:\n",
            "\n",
            "0.652 (+/-0.015) for {'clf_gbc__learning_rate': 1.0, 'clf_gbc__max_leaf_nodes': 2, 'clf_gbc__n_estimators': 10}\n",
            "0.726 (+/-0.013) for {'clf_gbc__learning_rate': 1.0, 'clf_gbc__max_leaf_nodes': 2, 'clf_gbc__n_estimators': 100}\n",
            "0.724 (+/-0.012) for {'clf_gbc__learning_rate': 1.0, 'clf_gbc__max_leaf_nodes': 2, 'clf_gbc__n_estimators': 200}\n",
            "0.722 (+/-0.016) for {'clf_gbc__learning_rate': 1.0, 'clf_gbc__max_leaf_nodes': 2, 'clf_gbc__n_estimators': 400}\n",
            "0.698 (+/-0.017) for {'clf_gbc__learning_rate': 1.0, 'clf_gbc__max_leaf_nodes': 5, 'clf_gbc__n_estimators': 10}\n",
            "0.722 (+/-0.005) for {'clf_gbc__learning_rate': 1.0, 'clf_gbc__max_leaf_nodes': 5, 'clf_gbc__n_estimators': 100}\n",
            "0.717 (+/-0.008) for {'clf_gbc__learning_rate': 1.0, 'clf_gbc__max_leaf_nodes': 5, 'clf_gbc__n_estimators': 200}\n",
            "0.713 (+/-0.009) for {'clf_gbc__learning_rate': 1.0, 'clf_gbc__max_leaf_nodes': 5, 'clf_gbc__n_estimators': 400}\n",
            "0.687 (+/-0.018) for {'clf_gbc__learning_rate': 1.0, 'clf_gbc__max_leaf_nodes': 10, 'clf_gbc__n_estimators': 10}\n",
            "0.716 (+/-0.010) for {'clf_gbc__learning_rate': 1.0, 'clf_gbc__max_leaf_nodes': 10, 'clf_gbc__n_estimators': 100}\n",
            "0.712 (+/-0.016) for {'clf_gbc__learning_rate': 1.0, 'clf_gbc__max_leaf_nodes': 10, 'clf_gbc__n_estimators': 200}\n",
            "0.703 (+/-0.015) for {'clf_gbc__learning_rate': 1.0, 'clf_gbc__max_leaf_nodes': 10, 'clf_gbc__n_estimators': 400}\n",
            "0.687 (+/-0.018) for {'clf_gbc__learning_rate': 1.0, 'clf_gbc__max_leaf_nodes': 20, 'clf_gbc__n_estimators': 10}\n",
            "0.716 (+/-0.010) for {'clf_gbc__learning_rate': 1.0, 'clf_gbc__max_leaf_nodes': 20, 'clf_gbc__n_estimators': 100}\n",
            "0.712 (+/-0.016) for {'clf_gbc__learning_rate': 1.0, 'clf_gbc__max_leaf_nodes': 20, 'clf_gbc__n_estimators': 200}\n",
            "0.703 (+/-0.015) for {'clf_gbc__learning_rate': 1.0, 'clf_gbc__max_leaf_nodes': 20, 'clf_gbc__n_estimators': 400}\n",
            "0.644 (+/-0.022) for {'clf_gbc__learning_rate': 0.5, 'clf_gbc__max_leaf_nodes': 2, 'clf_gbc__n_estimators': 10}\n",
            "0.739 (+/-0.010) for {'clf_gbc__learning_rate': 0.5, 'clf_gbc__max_leaf_nodes': 2, 'clf_gbc__n_estimators': 100}\n",
            "0.744 (+/-0.014) for {'clf_gbc__learning_rate': 0.5, 'clf_gbc__max_leaf_nodes': 2, 'clf_gbc__n_estimators': 200}\n",
            "0.737 (+/-0.008) for {'clf_gbc__learning_rate': 0.5, 'clf_gbc__max_leaf_nodes': 2, 'clf_gbc__n_estimators': 400}\n",
            "0.697 (+/-0.019) for {'clf_gbc__learning_rate': 0.5, 'clf_gbc__max_leaf_nodes': 5, 'clf_gbc__n_estimators': 10}\n",
            "0.737 (+/-0.007) for {'clf_gbc__learning_rate': 0.5, 'clf_gbc__max_leaf_nodes': 5, 'clf_gbc__n_estimators': 100}\n",
            "0.733 (+/-0.006) for {'clf_gbc__learning_rate': 0.5, 'clf_gbc__max_leaf_nodes': 5, 'clf_gbc__n_estimators': 200}\n",
            "0.732 (+/-0.011) for {'clf_gbc__learning_rate': 0.5, 'clf_gbc__max_leaf_nodes': 5, 'clf_gbc__n_estimators': 400}\n",
            "0.698 (+/-0.019) for {'clf_gbc__learning_rate': 0.5, 'clf_gbc__max_leaf_nodes': 10, 'clf_gbc__n_estimators': 10}\n",
            "0.730 (+/-0.016) for {'clf_gbc__learning_rate': 0.5, 'clf_gbc__max_leaf_nodes': 10, 'clf_gbc__n_estimators': 100}\n",
            "0.731 (+/-0.013) for {'clf_gbc__learning_rate': 0.5, 'clf_gbc__max_leaf_nodes': 10, 'clf_gbc__n_estimators': 200}\n",
            "0.727 (+/-0.015) for {'clf_gbc__learning_rate': 0.5, 'clf_gbc__max_leaf_nodes': 10, 'clf_gbc__n_estimators': 400}\n",
            "0.698 (+/-0.019) for {'clf_gbc__learning_rate': 0.5, 'clf_gbc__max_leaf_nodes': 20, 'clf_gbc__n_estimators': 10}\n",
            "0.730 (+/-0.016) for {'clf_gbc__learning_rate': 0.5, 'clf_gbc__max_leaf_nodes': 20, 'clf_gbc__n_estimators': 100}\n",
            "0.731 (+/-0.013) for {'clf_gbc__learning_rate': 0.5, 'clf_gbc__max_leaf_nodes': 20, 'clf_gbc__n_estimators': 200}\n",
            "0.727 (+/-0.015) for {'clf_gbc__learning_rate': 0.5, 'clf_gbc__max_leaf_nodes': 20, 'clf_gbc__n_estimators': 400}\n",
            "0.599 (+/-0.018) for {'clf_gbc__learning_rate': 0.1, 'clf_gbc__max_leaf_nodes': 2, 'clf_gbc__n_estimators': 10}\n",
            "0.694 (+/-0.016) for {'clf_gbc__learning_rate': 0.1, 'clf_gbc__max_leaf_nodes': 2, 'clf_gbc__n_estimators': 100}\n",
            "0.720 (+/-0.018) for {'clf_gbc__learning_rate': 0.1, 'clf_gbc__max_leaf_nodes': 2, 'clf_gbc__n_estimators': 200}\n",
            "0.746 (+/-0.015) for {'clf_gbc__learning_rate': 0.1, 'clf_gbc__max_leaf_nodes': 2, 'clf_gbc__n_estimators': 400}\n",
            "0.639 (+/-0.016) for {'clf_gbc__learning_rate': 0.1, 'clf_gbc__max_leaf_nodes': 5, 'clf_gbc__n_estimators': 10}\n",
            "0.734 (+/-0.016) for {'clf_gbc__learning_rate': 0.1, 'clf_gbc__max_leaf_nodes': 5, 'clf_gbc__n_estimators': 100}\n",
            "0.752 (+/-0.011) for {'clf_gbc__learning_rate': 0.1, 'clf_gbc__max_leaf_nodes': 5, 'clf_gbc__n_estimators': 200}\n",
            "0.764 (+/-0.011) for {'clf_gbc__learning_rate': 0.1, 'clf_gbc__max_leaf_nodes': 5, 'clf_gbc__n_estimators': 400}\n",
            "0.642 (+/-0.013) for {'clf_gbc__learning_rate': 0.1, 'clf_gbc__max_leaf_nodes': 10, 'clf_gbc__n_estimators': 10}\n",
            "0.734 (+/-0.013) for {'clf_gbc__learning_rate': 0.1, 'clf_gbc__max_leaf_nodes': 10, 'clf_gbc__n_estimators': 100}\n",
            "0.751 (+/-0.008) for {'clf_gbc__learning_rate': 0.1, 'clf_gbc__max_leaf_nodes': 10, 'clf_gbc__n_estimators': 200}\n",
            "0.760 (+/-0.007) for {'clf_gbc__learning_rate': 0.1, 'clf_gbc__max_leaf_nodes': 10, 'clf_gbc__n_estimators': 400}\n",
            "0.642 (+/-0.013) for {'clf_gbc__learning_rate': 0.1, 'clf_gbc__max_leaf_nodes': 20, 'clf_gbc__n_estimators': 10}\n",
            "0.734 (+/-0.013) for {'clf_gbc__learning_rate': 0.1, 'clf_gbc__max_leaf_nodes': 20, 'clf_gbc__n_estimators': 100}\n",
            "0.751 (+/-0.008) for {'clf_gbc__learning_rate': 0.1, 'clf_gbc__max_leaf_nodes': 20, 'clf_gbc__n_estimators': 200}\n",
            "0.760 (+/-0.007) for {'clf_gbc__learning_rate': 0.1, 'clf_gbc__max_leaf_nodes': 20, 'clf_gbc__n_estimators': 400}\n",
            "\n",
            "Detailed classification report:\n",
            "\n",
            "              precision    recall  f1-score   support\n",
            "\n",
            "           0       0.78      0.87      0.82      1288\n",
            "           1       0.80      0.68      0.73       996\n",
            "\n",
            "    accuracy                           0.78      2284\n",
            "   macro avg       0.79      0.77      0.77      2284\n",
            "weighted avg       0.78      0.78      0.78      2284\n",
            "\n"
          ],
          "name": "stdout"
        }
      ]
    },
    {
      "cell_type": "code",
      "metadata": {
        "id": "0ZqcK6aP0mkB",
        "colab_type": "code",
        "colab": {
          "base_uri": "https://localhost:8080/",
          "height": 1000
        },
        "outputId": "e17fb224-bdc8-48c2-9bb9-e55a942e973d"
      },
      "source": [
        "pip_gbc.set_params(clf_gbc__max_leaf_nodes = 5)\n",
        "tuned_parameters = {\n",
        "    'clf_gbc__learning_rate': (0.02, 0.05, 0.1, 0.5),\n",
        "    'clf_gbc__n_estimators': (100, 400, 1000),\n",
        "}\n",
        "\n",
        "perform_grid_search(pip_gbc, tuned_parameters)"
      ],
      "execution_count": 67,
      "outputs": [
        {
          "output_type": "stream",
          "text": [
            "Performing grid search...\n",
            "pipeline: ['trans', 'clf_gbc']\n",
            "parameters to be tuned:\n",
            "{'clf_gbc__learning_rate': (0.02, 0.05, 0.1, 0.5),\n",
            " 'clf_gbc__n_estimators': (100, 400, 1000)}\n",
            "Fitting 5 folds for each of 12 candidates, totalling 60 fits\n"
          ],
          "name": "stdout"
        },
        {
          "output_type": "stream",
          "text": [
            "[Parallel(n_jobs=-1)]: Using backend LokyBackend with 2 concurrent workers.\n",
            "[Parallel(n_jobs=-1)]: Done  46 tasks      | elapsed:  5.6min\n",
            "[Parallel(n_jobs=-1)]: Done  60 out of  60 | elapsed:  7.4min finished\n"
          ],
          "name": "stderr"
        },
        {
          "output_type": "stream",
          "text": [
            "[Pipeline] ........ (step 1 of 4) Processing kw_extract, total=   0.0s\n",
            "[Pipeline] ............ (step 2 of 4) Processing kw_imp, total=   0.0s\n",
            "[Pipeline] .......... (step 3 of 4) Processing kw_ravel, total=   0.0s\n",
            "[Pipeline] ........... (step 4 of 4) Processing kw_vect, total=   0.0s\n",
            "[Pipeline] ........... (step 1 of 2) Processing loc_imp, total=   0.0s\n",
            "[Pipeline] ........... (step 2 of 2) Processing loc_ohe, total=   0.0s\n",
            "[Pipeline] ........ (step 1 of 2) Processing text_clean, total=   0.0s\n",
            "[Pipeline] ........ (step 2 of 2) Processing text_tfidf, total=   0.1s\n",
            "[Pipeline] ....... (step 1 of 4) Processing tag_extract, total=   0.0s\n",
            "[Pipeline] ........... (step 2 of 4) Processing tag_imp, total=   0.0s\n",
            "[Pipeline] ......... (step 3 of 4) Processing tag_ravel, total=   0.0s\n",
            "[Pipeline] .......... (step 4 of 4) Processing tag_vect, total=   0.0s\n",
            "[Pipeline] ........ (step 1 of 4) Processing at_extract, total=   0.0s\n",
            "[Pipeline] ............ (step 2 of 4) Processing at_imp, total=   0.0s\n",
            "[Pipeline] .......... (step 3 of 4) Processing at_ravel, total=   0.0s\n",
            "[Pipeline] ........... (step 4 of 4) Processing at_vect, total=   0.0s\n",
            "[Pipeline] ............. (step 1 of 2) Processing trans, total=   0.2s\n",
            "[Pipeline] ........... (step 2 of 2) Processing clf_gbc, total=  10.7s\n",
            "Best parameters set found on train set:\n",
            "\n",
            "{'clf_gbc__learning_rate': 0.1, 'clf_gbc__n_estimators': 400}\n",
            "Grid scores on train set:\n",
            "\n",
            "0.675 (+/-0.015) for {'clf_gbc__learning_rate': 0.02, 'clf_gbc__n_estimators': 100}\n",
            "0.723 (+/-0.020) for {'clf_gbc__learning_rate': 0.02, 'clf_gbc__n_estimators': 400}\n",
            "0.762 (+/-0.013) for {'clf_gbc__learning_rate': 0.02, 'clf_gbc__n_estimators': 1000}\n",
            "0.710 (+/-0.017) for {'clf_gbc__learning_rate': 0.05, 'clf_gbc__n_estimators': 100}\n",
            "0.757 (+/-0.011) for {'clf_gbc__learning_rate': 0.05, 'clf_gbc__n_estimators': 400}\n",
            "0.762 (+/-0.010) for {'clf_gbc__learning_rate': 0.05, 'clf_gbc__n_estimators': 1000}\n",
            "0.734 (+/-0.016) for {'clf_gbc__learning_rate': 0.1, 'clf_gbc__n_estimators': 100}\n",
            "0.764 (+/-0.011) for {'clf_gbc__learning_rate': 0.1, 'clf_gbc__n_estimators': 400}\n",
            "0.756 (+/-0.012) for {'clf_gbc__learning_rate': 0.1, 'clf_gbc__n_estimators': 1000}\n",
            "0.737 (+/-0.007) for {'clf_gbc__learning_rate': 0.5, 'clf_gbc__n_estimators': 100}\n",
            "0.732 (+/-0.011) for {'clf_gbc__learning_rate': 0.5, 'clf_gbc__n_estimators': 400}\n",
            "0.733 (+/-0.009) for {'clf_gbc__learning_rate': 0.5, 'clf_gbc__n_estimators': 1000}\n",
            "\n",
            "Detailed classification report:\n",
            "\n",
            "              precision    recall  f1-score   support\n",
            "\n",
            "           0       0.78      0.87      0.82      1288\n",
            "           1       0.80      0.68      0.73       996\n",
            "\n",
            "    accuracy                           0.78      2284\n",
            "   macro avg       0.79      0.77      0.77      2284\n",
            "weighted avg       0.78      0.78      0.78      2284\n",
            "\n"
          ],
          "name": "stdout"
        }
      ]
    },
    {
      "cell_type": "code",
      "metadata": {
        "id": "LAXe0xG_KHoa",
        "colab_type": "code",
        "outputId": "92ba3229-bc08-4ce6-c447-403be4141852",
        "colab": {
          "base_uri": "https://localhost:8080/",
          "height": 503
        }
      },
      "source": [
        "pip_gbc.set_params(clf_gbc__learning_rate = 0.1)\n",
        "pip_gbc.set_params(clf_gbc__n_estimators = 400)\n",
        "\n",
        "pip_gbc.fit(X_train, y_train)\n",
        "y_pred = pip_gbc.predict(X_test)\n",
        "print(skm.classification_report(y_test, y_pred))"
      ],
      "execution_count": 68,
      "outputs": [
        {
          "output_type": "stream",
          "text": [
            "[Pipeline] ........ (step 1 of 4) Processing kw_extract, total=   0.0s\n",
            "[Pipeline] ............ (step 2 of 4) Processing kw_imp, total=   0.0s\n",
            "[Pipeline] .......... (step 3 of 4) Processing kw_ravel, total=   0.0s\n",
            "[Pipeline] ........... (step 4 of 4) Processing kw_vect, total=   0.0s\n",
            "[Pipeline] ........... (step 1 of 2) Processing loc_imp, total=   0.0s\n",
            "[Pipeline] ........... (step 2 of 2) Processing loc_ohe, total=   0.0s\n",
            "[Pipeline] ........ (step 1 of 2) Processing text_clean, total=   0.0s\n",
            "[Pipeline] ........ (step 2 of 2) Processing text_tfidf, total=   0.1s\n",
            "[Pipeline] ....... (step 1 of 4) Processing tag_extract, total=   0.0s\n",
            "[Pipeline] ........... (step 2 of 4) Processing tag_imp, total=   0.0s\n",
            "[Pipeline] ......... (step 3 of 4) Processing tag_ravel, total=   0.0s\n",
            "[Pipeline] .......... (step 4 of 4) Processing tag_vect, total=   0.0s\n",
            "[Pipeline] ........ (step 1 of 4) Processing at_extract, total=   0.0s\n",
            "[Pipeline] ............ (step 2 of 4) Processing at_imp, total=   0.0s\n",
            "[Pipeline] .......... (step 3 of 4) Processing at_ravel, total=   0.0s\n",
            "[Pipeline] ........... (step 4 of 4) Processing at_vect, total=   0.0s\n",
            "[Pipeline] ............. (step 1 of 2) Processing trans, total=   0.2s\n",
            "[Pipeline] ........... (step 2 of 2) Processing clf_gbc, total=   9.9s\n",
            "              precision    recall  f1-score   support\n",
            "\n",
            "           0       0.78      0.87      0.82      1288\n",
            "           1       0.80      0.68      0.73       996\n",
            "\n",
            "    accuracy                           0.78      2284\n",
            "   macro avg       0.79      0.77      0.77      2284\n",
            "weighted avg       0.78      0.78      0.78      2284\n",
            "\n"
          ],
          "name": "stdout"
        }
      ]
    },
    {
      "cell_type": "code",
      "metadata": {
        "id": "fSZcuflCKQF2",
        "colab_type": "code",
        "colab": {}
      },
      "source": [
        ""
      ],
      "execution_count": 0,
      "outputs": []
    }
  ]
}